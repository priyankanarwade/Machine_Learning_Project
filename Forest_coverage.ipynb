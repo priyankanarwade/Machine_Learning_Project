{
  "cells": [
    {
      "cell_type": "markdown",
      "metadata": {
        "id": "view-in-github",
        "colab_type": "text"
      },
      "source": [
        "<a href=\"https://colab.research.google.com/github/priyankanarwade/Machine_Learning_Project/blob/main/Forest_coverage.ipynb\" target=\"_parent\"><img src=\"https://colab.research.google.com/assets/colab-badge.svg\" alt=\"Open In Colab\"/></a>"
      ]
    },
    {
      "cell_type": "markdown",
      "metadata": {
        "id": "Y5OmnIFfSXa6"
      },
      "source": [
        "**forest coverage classification**"
      ]
    },
    {
      "cell_type": "code",
      "execution_count": null,
      "metadata": {
        "id": "md5JEJaxGtX0"
      },
      "outputs": [],
      "source": [
        "# import libraries\n",
        "import pandas as pd\n",
        "import numpy as np\n",
        "import matplotlib.pyplot as plt\n",
        "import seaborn as sns"
      ]
    },
    {
      "cell_type": "code",
      "execution_count": null,
      "metadata": {
        "id": "rMzX_pP2HFvH"
      },
      "outputs": [],
      "source": [
        "# load dataset\n",
        "df = pd.read_csv('https://raw.githubusercontent.com/pranavn91/PDF/main/dataset.csv')"
      ]
    },
    {
      "cell_type": "code",
      "execution_count": null,
      "metadata": {
        "colab": {
          "base_uri": "https://localhost:8080/",
          "height": 299
        },
        "id": "rXkqKLlrHIOm",
        "outputId": "acc72ef7-d4ba-4fb5-c3b9-f505d26a3194"
      },
      "outputs": [
        {
          "output_type": "execute_result",
          "data": {
            "text/plain": [
              "   Id  Elevation  Aspect  Slope  Horizontal_Distance_To_Hydrology  \\\n",
              "0   1       2596      51      3                               258   \n",
              "1   2       2590      56      2                               212   \n",
              "2   3       2804     139      9                               268   \n",
              "3   4       2785     155     18                               242   \n",
              "4   5       2595      45      2                               153   \n",
              "\n",
              "   Vertical_Distance_To_Hydrology  Horizontal_Distance_To_Roadways  \\\n",
              "0                               0                              510   \n",
              "1                              -6                              390   \n",
              "2                              65                             3180   \n",
              "3                             118                             3090   \n",
              "4                              -1                              391   \n",
              "\n",
              "   Hillshade_9am  Hillshade_Noon  Hillshade_3pm  ...  Soil_Type32  \\\n",
              "0            221             232            148  ...            0   \n",
              "1            220             235            151  ...            0   \n",
              "2            234             238            135  ...            0   \n",
              "3            238             238            122  ...            0   \n",
              "4            220             234            150  ...            0   \n",
              "\n",
              "   Soil_Type33  Soil_Type34  Soil_Type35  Soil_Type36  Soil_Type37  \\\n",
              "0            0            0            0            0            0   \n",
              "1            0            0            0            0            0   \n",
              "2            0            0            0            0            0   \n",
              "3            0            0            0            0            0   \n",
              "4            0            0            0            0            0   \n",
              "\n",
              "   Soil_Type38  Soil_Type39  Soil_Type40  Cover_Type  \n",
              "0            0            0            0           5  \n",
              "1            0            0            0           5  \n",
              "2            0            0            0           2  \n",
              "3            0            0            0           2  \n",
              "4            0            0            0           5  \n",
              "\n",
              "[5 rows x 56 columns]"
            ],
            "text/html": [
              "\n",
              "  <div id=\"df-e117d2b2-7404-46b1-8355-4163aa2e2365\">\n",
              "    <div class=\"colab-df-container\">\n",
              "      <div>\n",
              "<style scoped>\n",
              "    .dataframe tbody tr th:only-of-type {\n",
              "        vertical-align: middle;\n",
              "    }\n",
              "\n",
              "    .dataframe tbody tr th {\n",
              "        vertical-align: top;\n",
              "    }\n",
              "\n",
              "    .dataframe thead th {\n",
              "        text-align: right;\n",
              "    }\n",
              "</style>\n",
              "<table border=\"1\" class=\"dataframe\">\n",
              "  <thead>\n",
              "    <tr style=\"text-align: right;\">\n",
              "      <th></th>\n",
              "      <th>Id</th>\n",
              "      <th>Elevation</th>\n",
              "      <th>Aspect</th>\n",
              "      <th>Slope</th>\n",
              "      <th>Horizontal_Distance_To_Hydrology</th>\n",
              "      <th>Vertical_Distance_To_Hydrology</th>\n",
              "      <th>Horizontal_Distance_To_Roadways</th>\n",
              "      <th>Hillshade_9am</th>\n",
              "      <th>Hillshade_Noon</th>\n",
              "      <th>Hillshade_3pm</th>\n",
              "      <th>...</th>\n",
              "      <th>Soil_Type32</th>\n",
              "      <th>Soil_Type33</th>\n",
              "      <th>Soil_Type34</th>\n",
              "      <th>Soil_Type35</th>\n",
              "      <th>Soil_Type36</th>\n",
              "      <th>Soil_Type37</th>\n",
              "      <th>Soil_Type38</th>\n",
              "      <th>Soil_Type39</th>\n",
              "      <th>Soil_Type40</th>\n",
              "      <th>Cover_Type</th>\n",
              "    </tr>\n",
              "  </thead>\n",
              "  <tbody>\n",
              "    <tr>\n",
              "      <th>0</th>\n",
              "      <td>1</td>\n",
              "      <td>2596</td>\n",
              "      <td>51</td>\n",
              "      <td>3</td>\n",
              "      <td>258</td>\n",
              "      <td>0</td>\n",
              "      <td>510</td>\n",
              "      <td>221</td>\n",
              "      <td>232</td>\n",
              "      <td>148</td>\n",
              "      <td>...</td>\n",
              "      <td>0</td>\n",
              "      <td>0</td>\n",
              "      <td>0</td>\n",
              "      <td>0</td>\n",
              "      <td>0</td>\n",
              "      <td>0</td>\n",
              "      <td>0</td>\n",
              "      <td>0</td>\n",
              "      <td>0</td>\n",
              "      <td>5</td>\n",
              "    </tr>\n",
              "    <tr>\n",
              "      <th>1</th>\n",
              "      <td>2</td>\n",
              "      <td>2590</td>\n",
              "      <td>56</td>\n",
              "      <td>2</td>\n",
              "      <td>212</td>\n",
              "      <td>-6</td>\n",
              "      <td>390</td>\n",
              "      <td>220</td>\n",
              "      <td>235</td>\n",
              "      <td>151</td>\n",
              "      <td>...</td>\n",
              "      <td>0</td>\n",
              "      <td>0</td>\n",
              "      <td>0</td>\n",
              "      <td>0</td>\n",
              "      <td>0</td>\n",
              "      <td>0</td>\n",
              "      <td>0</td>\n",
              "      <td>0</td>\n",
              "      <td>0</td>\n",
              "      <td>5</td>\n",
              "    </tr>\n",
              "    <tr>\n",
              "      <th>2</th>\n",
              "      <td>3</td>\n",
              "      <td>2804</td>\n",
              "      <td>139</td>\n",
              "      <td>9</td>\n",
              "      <td>268</td>\n",
              "      <td>65</td>\n",
              "      <td>3180</td>\n",
              "      <td>234</td>\n",
              "      <td>238</td>\n",
              "      <td>135</td>\n",
              "      <td>...</td>\n",
              "      <td>0</td>\n",
              "      <td>0</td>\n",
              "      <td>0</td>\n",
              "      <td>0</td>\n",
              "      <td>0</td>\n",
              "      <td>0</td>\n",
              "      <td>0</td>\n",
              "      <td>0</td>\n",
              "      <td>0</td>\n",
              "      <td>2</td>\n",
              "    </tr>\n",
              "    <tr>\n",
              "      <th>3</th>\n",
              "      <td>4</td>\n",
              "      <td>2785</td>\n",
              "      <td>155</td>\n",
              "      <td>18</td>\n",
              "      <td>242</td>\n",
              "      <td>118</td>\n",
              "      <td>3090</td>\n",
              "      <td>238</td>\n",
              "      <td>238</td>\n",
              "      <td>122</td>\n",
              "      <td>...</td>\n",
              "      <td>0</td>\n",
              "      <td>0</td>\n",
              "      <td>0</td>\n",
              "      <td>0</td>\n",
              "      <td>0</td>\n",
              "      <td>0</td>\n",
              "      <td>0</td>\n",
              "      <td>0</td>\n",
              "      <td>0</td>\n",
              "      <td>2</td>\n",
              "    </tr>\n",
              "    <tr>\n",
              "      <th>4</th>\n",
              "      <td>5</td>\n",
              "      <td>2595</td>\n",
              "      <td>45</td>\n",
              "      <td>2</td>\n",
              "      <td>153</td>\n",
              "      <td>-1</td>\n",
              "      <td>391</td>\n",
              "      <td>220</td>\n",
              "      <td>234</td>\n",
              "      <td>150</td>\n",
              "      <td>...</td>\n",
              "      <td>0</td>\n",
              "      <td>0</td>\n",
              "      <td>0</td>\n",
              "      <td>0</td>\n",
              "      <td>0</td>\n",
              "      <td>0</td>\n",
              "      <td>0</td>\n",
              "      <td>0</td>\n",
              "      <td>0</td>\n",
              "      <td>5</td>\n",
              "    </tr>\n",
              "  </tbody>\n",
              "</table>\n",
              "<p>5 rows × 56 columns</p>\n",
              "</div>\n",
              "      <button class=\"colab-df-convert\" onclick=\"convertToInteractive('df-e117d2b2-7404-46b1-8355-4163aa2e2365')\"\n",
              "              title=\"Convert this dataframe to an interactive table.\"\n",
              "              style=\"display:none;\">\n",
              "        \n",
              "  <svg xmlns=\"http://www.w3.org/2000/svg\" height=\"24px\"viewBox=\"0 0 24 24\"\n",
              "       width=\"24px\">\n",
              "    <path d=\"M0 0h24v24H0V0z\" fill=\"none\"/>\n",
              "    <path d=\"M18.56 5.44l.94 2.06.94-2.06 2.06-.94-2.06-.94-.94-2.06-.94 2.06-2.06.94zm-11 1L8.5 8.5l.94-2.06 2.06-.94-2.06-.94L8.5 2.5l-.94 2.06-2.06.94zm10 10l.94 2.06.94-2.06 2.06-.94-2.06-.94-.94-2.06-.94 2.06-2.06.94z\"/><path d=\"M17.41 7.96l-1.37-1.37c-.4-.4-.92-.59-1.43-.59-.52 0-1.04.2-1.43.59L10.3 9.45l-7.72 7.72c-.78.78-.78 2.05 0 2.83L4 21.41c.39.39.9.59 1.41.59.51 0 1.02-.2 1.41-.59l7.78-7.78 2.81-2.81c.8-.78.8-2.07 0-2.86zM5.41 20L4 18.59l7.72-7.72 1.47 1.35L5.41 20z\"/>\n",
              "  </svg>\n",
              "      </button>\n",
              "      \n",
              "  <style>\n",
              "    .colab-df-container {\n",
              "      display:flex;\n",
              "      flex-wrap:wrap;\n",
              "      gap: 12px;\n",
              "    }\n",
              "\n",
              "    .colab-df-convert {\n",
              "      background-color: #E8F0FE;\n",
              "      border: none;\n",
              "      border-radius: 50%;\n",
              "      cursor: pointer;\n",
              "      display: none;\n",
              "      fill: #1967D2;\n",
              "      height: 32px;\n",
              "      padding: 0 0 0 0;\n",
              "      width: 32px;\n",
              "    }\n",
              "\n",
              "    .colab-df-convert:hover {\n",
              "      background-color: #E2EBFA;\n",
              "      box-shadow: 0px 1px 2px rgba(60, 64, 67, 0.3), 0px 1px 3px 1px rgba(60, 64, 67, 0.15);\n",
              "      fill: #174EA6;\n",
              "    }\n",
              "\n",
              "    [theme=dark] .colab-df-convert {\n",
              "      background-color: #3B4455;\n",
              "      fill: #D2E3FC;\n",
              "    }\n",
              "\n",
              "    [theme=dark] .colab-df-convert:hover {\n",
              "      background-color: #434B5C;\n",
              "      box-shadow: 0px 1px 3px 1px rgba(0, 0, 0, 0.15);\n",
              "      filter: drop-shadow(0px 1px 2px rgba(0, 0, 0, 0.3));\n",
              "      fill: #FFFFFF;\n",
              "    }\n",
              "  </style>\n",
              "\n",
              "      <script>\n",
              "        const buttonEl =\n",
              "          document.querySelector('#df-e117d2b2-7404-46b1-8355-4163aa2e2365 button.colab-df-convert');\n",
              "        buttonEl.style.display =\n",
              "          google.colab.kernel.accessAllowed ? 'block' : 'none';\n",
              "\n",
              "        async function convertToInteractive(key) {\n",
              "          const element = document.querySelector('#df-e117d2b2-7404-46b1-8355-4163aa2e2365');\n",
              "          const dataTable =\n",
              "            await google.colab.kernel.invokeFunction('convertToInteractive',\n",
              "                                                     [key], {});\n",
              "          if (!dataTable) return;\n",
              "\n",
              "          const docLinkHtml = 'Like what you see? Visit the ' +\n",
              "            '<a target=\"_blank\" href=https://colab.research.google.com/notebooks/data_table.ipynb>data table notebook</a>'\n",
              "            + ' to learn more about interactive tables.';\n",
              "          element.innerHTML = '';\n",
              "          dataTable['output_type'] = 'display_data';\n",
              "          await google.colab.output.renderOutput(dataTable, element);\n",
              "          const docLink = document.createElement('div');\n",
              "          docLink.innerHTML = docLinkHtml;\n",
              "          element.appendChild(docLink);\n",
              "        }\n",
              "      </script>\n",
              "    </div>\n",
              "  </div>\n",
              "  "
            ]
          },
          "metadata": {},
          "execution_count": 3
        }
      ],
      "source": [
        "# explore dataset\n",
        "df.head()"
      ]
    },
    {
      "cell_type": "code",
      "execution_count": null,
      "metadata": {
        "id": "wfZo2-MZNuyP"
      },
      "outputs": [],
      "source": [
        "df = df.drop(['Id'],axis=1)"
      ]
    },
    {
      "cell_type": "code",
      "execution_count": null,
      "metadata": {
        "colab": {
          "base_uri": "https://localhost:8080/"
        },
        "id": "3SNjXh0gHM5j",
        "outputId": "74d260b0-05ee-46c0-b54d-d7bb5bac23ea"
      },
      "outputs": [
        {
          "output_type": "execute_result",
          "data": {
            "text/plain": [
              "(15120, 55)"
            ]
          },
          "metadata": {},
          "execution_count": 5
        }
      ],
      "source": [
        "# checking rows and columns\n",
        "df.shape"
      ]
    },
    {
      "cell_type": "code",
      "execution_count": null,
      "metadata": {
        "colab": {
          "base_uri": "https://localhost:8080/"
        },
        "id": "Vko1QoM9HO-6",
        "outputId": "a4b4c933-43eb-4f49-d3a1-ba33ee06d864"
      },
      "outputs": [
        {
          "output_type": "stream",
          "name": "stdout",
          "text": [
            "<class 'pandas.core.frame.DataFrame'>\n",
            "RangeIndex: 15120 entries, 0 to 15119\n",
            "Data columns (total 55 columns):\n",
            " #   Column                              Non-Null Count  Dtype\n",
            "---  ------                              --------------  -----\n",
            " 0   Elevation                           15120 non-null  int64\n",
            " 1   Aspect                              15120 non-null  int64\n",
            " 2   Slope                               15120 non-null  int64\n",
            " 3   Horizontal_Distance_To_Hydrology    15120 non-null  int64\n",
            " 4   Vertical_Distance_To_Hydrology      15120 non-null  int64\n",
            " 5   Horizontal_Distance_To_Roadways     15120 non-null  int64\n",
            " 6   Hillshade_9am                       15120 non-null  int64\n",
            " 7   Hillshade_Noon                      15120 non-null  int64\n",
            " 8   Hillshade_3pm                       15120 non-null  int64\n",
            " 9   Horizontal_Distance_To_Fire_Points  15120 non-null  int64\n",
            " 10  Wilderness_Area1                    15120 non-null  int64\n",
            " 11  Wilderness_Area2                    15120 non-null  int64\n",
            " 12  Wilderness_Area3                    15120 non-null  int64\n",
            " 13  Wilderness_Area4                    15120 non-null  int64\n",
            " 14  Soil_Type1                          15120 non-null  int64\n",
            " 15  Soil_Type2                          15120 non-null  int64\n",
            " 16  Soil_Type3                          15120 non-null  int64\n",
            " 17  Soil_Type4                          15120 non-null  int64\n",
            " 18  Soil_Type5                          15120 non-null  int64\n",
            " 19  Soil_Type6                          15120 non-null  int64\n",
            " 20  Soil_Type7                          15120 non-null  int64\n",
            " 21  Soil_Type8                          15120 non-null  int64\n",
            " 22  Soil_Type9                          15120 non-null  int64\n",
            " 23  Soil_Type10                         15120 non-null  int64\n",
            " 24  Soil_Type11                         15120 non-null  int64\n",
            " 25  Soil_Type12                         15120 non-null  int64\n",
            " 26  Soil_Type13                         15120 non-null  int64\n",
            " 27  Soil_Type14                         15120 non-null  int64\n",
            " 28  Soil_Type15                         15120 non-null  int64\n",
            " 29  Soil_Type16                         15120 non-null  int64\n",
            " 30  Soil_Type17                         15120 non-null  int64\n",
            " 31  Soil_Type18                         15120 non-null  int64\n",
            " 32  Soil_Type19                         15120 non-null  int64\n",
            " 33  Soil_Type20                         15120 non-null  int64\n",
            " 34  Soil_Type21                         15120 non-null  int64\n",
            " 35  Soil_Type22                         15120 non-null  int64\n",
            " 36  Soil_Type23                         15120 non-null  int64\n",
            " 37  Soil_Type24                         15120 non-null  int64\n",
            " 38  Soil_Type25                         15120 non-null  int64\n",
            " 39  Soil_Type26                         15120 non-null  int64\n",
            " 40  Soil_Type27                         15120 non-null  int64\n",
            " 41  Soil_Type28                         15120 non-null  int64\n",
            " 42  Soil_Type29                         15120 non-null  int64\n",
            " 43  Soil_Type30                         15120 non-null  int64\n",
            " 44  Soil_Type31                         15120 non-null  int64\n",
            " 45  Soil_Type32                         15120 non-null  int64\n",
            " 46  Soil_Type33                         15120 non-null  int64\n",
            " 47  Soil_Type34                         15120 non-null  int64\n",
            " 48  Soil_Type35                         15120 non-null  int64\n",
            " 49  Soil_Type36                         15120 non-null  int64\n",
            " 50  Soil_Type37                         15120 non-null  int64\n",
            " 51  Soil_Type38                         15120 non-null  int64\n",
            " 52  Soil_Type39                         15120 non-null  int64\n",
            " 53  Soil_Type40                         15120 non-null  int64\n",
            " 54  Cover_Type                          15120 non-null  int64\n",
            "dtypes: int64(55)\n",
            "memory usage: 6.3 MB\n"
          ]
        }
      ],
      "source": [
        "# check data type, null values \n",
        "df.info()\n"
      ]
    },
    {
      "cell_type": "code",
      "execution_count": null,
      "metadata": {
        "colab": {
          "base_uri": "https://localhost:8080/"
        },
        "id": "Fzxyv-B5Wn96",
        "outputId": "0eb31f3b-6398-48ab-88e0-5c994a624eac"
      },
      "outputs": [
        {
          "output_type": "execute_result",
          "data": {
            "text/plain": [
              "<pandas.core.groupby.generic.DataFrameGroupBy object at 0x7f547cdb20d0>"
            ]
          },
          "metadata": {},
          "execution_count": 7
        }
      ],
      "source": [
        "df_cover = df.groupby('Cover_Type')\n",
        "df_cover"
      ]
    },
    {
      "cell_type": "code",
      "execution_count": null,
      "metadata": {
        "colab": {
          "base_uri": "https://localhost:8080/",
          "height": 500
        },
        "id": "TR4TfReYHPjr",
        "outputId": "98a2779a-1941-45cd-a6fe-87364c6224fe"
      },
      "outputs": [
        {
          "output_type": "execute_result",
          "data": {
            "text/plain": [
              "<matplotlib.legend.Legend at 0x7f547cd95150>"
            ]
          },
          "metadata": {},
          "execution_count": 8
        },
        {
          "output_type": "display_data",
          "data": {
            "text/plain": [
              "<Figure size 720x576 with 1 Axes>"
            ],
            "image/png": "[encoded data removed]"
          },
          "metadata": {
            "needs_background": "light"
          }
        }
      ],
      "source": [
        "plt.figure(figsize=(10,8))\n",
        "df_cover['Elevation'].plot.hist(bins=50, alpha=0.5)\n",
        "plt.legend(loc='upper right')"
      ]
    },
    {
      "cell_type": "code",
      "execution_count": null,
      "metadata": {
        "colab": {
          "base_uri": "https://localhost:8080/",
          "height": 500
        },
        "id": "0STabnQsHPmR",
        "outputId": "3c49a964-08d6-4153-a028-3d2aeaa40ee3"
      },
      "outputs": [
        {
          "output_type": "execute_result",
          "data": {
            "text/plain": [
              "<matplotlib.legend.Legend at 0x7f547bf87c10>"
            ]
          },
          "metadata": {},
          "execution_count": 9
        },
        {
          "output_type": "display_data",
          "data": {
            "text/plain": [
              "<Figure size 720x576 with 1 Axes>"
            ],
            "image/png": "[encoded data removed]"
          },
          "metadata": {
            "needs_background": "light"
          }
        }
      ],
      "source": [
        "plt.figure(figsize=(10,8))\n",
        "df_cover['Aspect'].plot.hist(bins=50, alpha=0.5)\n",
        "plt.legend(loc='upper right')"
      ]
    },
    {
      "cell_type": "code",
      "execution_count": null,
      "metadata": {
        "colab": {
          "base_uri": "https://localhost:8080/",
          "height": 500
        },
        "id": "_raMVjdXV1wt",
        "outputId": "8f80e888-87d7-4d2b-dcc5-58e577ea88f7"
      },
      "outputs": [
        {
          "output_type": "execute_result",
          "data": {
            "text/plain": [
              "<matplotlib.legend.Legend at 0x7f547be72e10>"
            ]
          },
          "metadata": {},
          "execution_count": 10
        },
        {
          "output_type": "display_data",
          "data": {
            "text/plain": [
              "<Figure size 720x576 with 1 Axes>"
            ],
            "image/png": "[encoded data removed]"
          },
          "metadata": {
            "needs_background": "light"
          }
        }
      ],
      "source": [
        "plt.figure(figsize=(10,8))\n",
        "df_cover['Slope'].plot.hist(bins=50, alpha=0.5)\n",
        "plt.legend(loc='upper right')"
      ]
    },
    {
      "cell_type": "code",
      "execution_count": null,
      "metadata": {
        "colab": {
          "base_uri": "https://localhost:8080/",
          "height": 500
        },
        "id": "yI83WNpBHPs_",
        "outputId": "80d888f6-36c4-4042-c2df-43e37989e94b"
      },
      "outputs": [
        {
          "output_type": "execute_result",
          "data": {
            "text/plain": [
              "<matplotlib.legend.Legend at 0x7f547b9b7e90>"
            ]
          },
          "metadata": {},
          "execution_count": 11
        },
        {
          "output_type": "display_data",
          "data": {
            "text/plain": [
              "<Figure size 720x576 with 1 Axes>"
            ],
            "image/png": "[encoded data removed]"
          },
          "metadata": {
            "needs_background": "light"
          }
        }
      ],
      "source": [
        "plt.figure(figsize=(10,8))\n",
        "df_cover['Horizontal_Distance_To_Hydrology'].plot.hist(bins=50, alpha=0.5)\n",
        "plt.legend(loc='upper right')"
      ]
    },
    {
      "cell_type": "code",
      "execution_count": null,
      "metadata": {
        "colab": {
          "base_uri": "https://localhost:8080/",
          "height": 500
        },
        "id": "vi5kaua9YwWw",
        "outputId": "48e80468-f968-4864-a7d0-1195127273cd"
      },
      "outputs": [
        {
          "output_type": "execute_result",
          "data": {
            "text/plain": [
              "<matplotlib.legend.Legend at 0x7f547b9c4dd0>"
            ]
          },
          "metadata": {},
          "execution_count": 12
        },
        {
          "output_type": "display_data",
          "data": {
            "text/plain": [
              "<Figure size 720x576 with 1 Axes>"
            ],
            "image/png": "[encoded data removed]"
          },
          "metadata": {
            "needs_background": "light"
          }
        }
      ],
      "source": [
        "plt.figure(figsize=(10,8))\n",
        "df_cover['Vertical_Distance_To_Hydrology'].plot.hist(bins=50, alpha=0.5)\n",
        "plt.legend(loc='upper right')"
      ]
    },
    {
      "cell_type": "code",
      "execution_count": null,
      "metadata": {
        "colab": {
          "base_uri": "https://localhost:8080/",
          "height": 500
        },
        "id": "sPa4AztjYwZq",
        "outputId": "a6c69b2f-c53c-40bc-e2b0-5657863de157"
      },
      "outputs": [
        {
          "output_type": "execute_result",
          "data": {
            "text/plain": [
              "<matplotlib.legend.Legend at 0x7f547b469250>"
            ]
          },
          "metadata": {},
          "execution_count": 13
        },
        {
          "output_type": "display_data",
          "data": {
            "text/plain": [
              "<Figure size 720x576 with 1 Axes>"
            ],
            "image/png": "[encoded data removed]"
          },
          "metadata": {
            "needs_background": "light"
          }
        }
      ],
      "source": [
        "plt.figure(figsize=(10,8))\n",
        "df_cover['Horizontal_Distance_To_Roadways'].plot.hist(bins=50, alpha=0.5)\n",
        "plt.legend(loc='upper right')"
      ]
    },
    {
      "cell_type": "code",
      "execution_count": null,
      "metadata": {
        "colab": {
          "base_uri": "https://localhost:8080/",
          "height": 500
        },
        "id": "rhkl8CNDYwb7",
        "outputId": "1347e5c7-7f0b-47e8-fde2-226359bfc416"
      },
      "outputs": [
        {
          "output_type": "execute_result",
          "data": {
            "text/plain": [
              "<matplotlib.legend.Legend at 0x7f547b1c2050>"
            ]
          },
          "metadata": {},
          "execution_count": 14
        },
        {
          "output_type": "display_data",
          "data": {
            "text/plain": [
              "<Figure size 720x576 with 1 Axes>"
            ],
            "image/png": "[encoded data removed]"
          },
          "metadata": {
            "needs_background": "light"
          }
        }
      ],
      "source": [
        "plt.figure(figsize=(10,8))\n",
        "df_cover['Hillshade_9am'].plot.hist(bins=50, alpha=0.5)\n",
        "plt.legend(loc='upper right')"
      ]
    },
    {
      "cell_type": "code",
      "execution_count": null,
      "metadata": {
        "colab": {
          "base_uri": "https://localhost:8080/",
          "height": 500
        },
        "id": "8FOsfyRwYweQ",
        "outputId": "5a2b2380-5dda-4d1c-bb2f-20533aafdf8a"
      },
      "outputs": [
        {
          "output_type": "execute_result",
          "data": {
            "text/plain": [
              "<matplotlib.legend.Legend at 0x7f547a7e6650>"
            ]
          },
          "metadata": {},
          "execution_count": 15
        },
        {
          "output_type": "display_data",
          "data": {
            "text/plain": [
              "<Figure size 720x576 with 1 Axes>"
            ],
            "image/png": "[encoded data removed]"
          },
          "metadata": {
            "needs_background": "light"
          }
        }
      ],
      "source": [
        "plt.figure(figsize=(10,8))\n",
        "df_cover['Hillshade_Noon'].plot.hist(bins=50, alpha=0.5)\n",
        "plt.legend(loc='upper right')"
      ]
    },
    {
      "cell_type": "code",
      "execution_count": null,
      "metadata": {
        "colab": {
          "base_uri": "https://localhost:8080/",
          "height": 500
        },
        "id": "GclqLb3nYwiM",
        "outputId": "9f7c3a8d-1c40-498b-bb10-56a9254ca99f"
      },
      "outputs": [
        {
          "output_type": "execute_result",
          "data": {
            "text/plain": [
              "<matplotlib.legend.Legend at 0x7f547a7fb450>"
            ]
          },
          "metadata": {},
          "execution_count": 16
        },
        {
          "output_type": "display_data",
          "data": {
            "text/plain": [
              "<Figure size 720x576 with 1 Axes>"
            ],
            "image/png": "[encoded data removed]"
          },
          "metadata": {
            "needs_background": "light"
          }
        }
      ],
      "source": [
        "plt.figure(figsize=(10,8))\n",
        "df_cover['Hillshade_3pm'].plot.hist(bins=50, alpha=0.5)\n",
        "plt.legend(loc='upper right')"
      ]
    },
    {
      "cell_type": "code",
      "execution_count": null,
      "metadata": {
        "colab": {
          "base_uri": "https://localhost:8080/",
          "height": 500
        },
        "id": "NnxSlRV7aFOk",
        "outputId": "663d9d6e-25a8-4b65-88cd-4d04c63abb64"
      },
      "outputs": [
        {
          "output_type": "execute_result",
          "data": {
            "text/plain": [
              "<matplotlib.legend.Legend at 0x7f5479d976d0>"
            ]
          },
          "metadata": {},
          "execution_count": 17
        },
        {
          "output_type": "display_data",
          "data": {
            "text/plain": [
              "<Figure size 720x576 with 1 Axes>"
            ],
            "image/png": "[encoded data removed]"
          },
          "metadata": {
            "needs_background": "light"
          }
        }
      ],
      "source": [
        "plt.figure(figsize=(10,8))\n",
        "df_cover['Horizontal_Distance_To_Fire_Points'].plot.hist(bins=50, alpha=0.5)\n",
        "plt.legend(loc='upper right')"
      ]
    },
    {
      "cell_type": "code",
      "execution_count": null,
      "metadata": {
        "colab": {
          "base_uri": "https://localhost:8080/",
          "height": 511
        },
        "id": "K9cXQgoRHPS9",
        "outputId": "3cbac62e-32a7-4889-8252-22d87a53a8d8"
      },
      "outputs": [
        {
          "output_type": "execute_result",
          "data": {
            "text/plain": [
              "<matplotlib.axes._subplots.AxesSubplot at 0x7f5479e88ed0>"
            ]
          },
          "metadata": {},
          "execution_count": 18
        },
        {
          "output_type": "display_data",
          "data": {
            "text/plain": [
              "<Figure size 720x576 with 1 Axes>"
            ],
            "image/png": "[encoded data removed]"
          },
          "metadata": {
            "needs_background": "light"
          }
        }
      ],
      "source": [
        "plt.figure(figsize=(10,8))\n",
        "df_cover.size().plot(kind='bar') #countplot of dependant veriables gives us imbalace of each group"
      ]
    },
    {
      "cell_type": "code",
      "execution_count": null,
      "metadata": {
        "id": "-HXtfIY6clo6"
      },
      "outputs": [],
      "source": [
        "X = df.drop(columns=['Cover_Type'])\n",
        "y = df['Cover_Type']"
      ]
    },
    {
      "cell_type": "code",
      "execution_count": null,
      "metadata": {
        "colab": {
          "base_uri": "https://localhost:8080/"
        },
        "id": "ywkr3iohdLWH",
        "outputId": "c6552f74-c827-4339-e4cc-d62e2e48b6bd"
      },
      "outputs": [
        {
          "output_type": "stream",
          "name": "stdout",
          "text": [
            "(15120, 54)\n",
            "(15120,)\n"
          ]
        }
      ],
      "source": [
        "print(X.shape)\n",
        "print( y.shape)"
      ]
    },
    {
      "cell_type": "code",
      "execution_count": null,
      "metadata": {
        "id": "CwrrHJgfb6k2"
      },
      "outputs": [],
      "source": [
        "# normalizing data\n",
        "from sklearn.preprocessing import MinMaxScaler\n",
        "mn = MinMaxScaler()\n"
      ]
    },
    {
      "cell_type": "code",
      "execution_count": null,
      "metadata": {
        "id": "HLwxxQN0cJsN"
      },
      "outputs": [],
      "source": [
        "from sklearn.model_selection import train_test_split"
      ]
    },
    {
      "cell_type": "code",
      "execution_count": null,
      "metadata": {
        "id": "bwRJolw_de4O"
      },
      "outputs": [],
      "source": [
        "X_train, X_test, y_train, y_test = train_test_split(X, y, test_size=0.2, random_state=111, stratify=y)"
      ]
    },
    {
      "cell_type": "code",
      "execution_count": null,
      "metadata": {
        "id": "UnosY3tAeDxH"
      },
      "outputs": [],
      "source": [
        "#fit the scaling on the train dataset and return the scaleddataset\n",
        "X_train = mn.fit_transform(X_train)\n",
        "#transformthe test dataset with the scaler fitted on the train dataset\n",
        "X_test = mn.transform(X_test)"
      ]
    },
    {
      "cell_type": "code",
      "execution_count": null,
      "metadata": {
        "id": "TeZEjZdjeKnF"
      },
      "outputs": [],
      "source": [
        "X_train = pd.DataFrame(X_train ,columns=X.columns)\n",
        "X_test = pd.DataFrame (X_test, columns=X.columns)"
      ]
    },
    {
      "cell_type": "code",
      "execution_count": null,
      "metadata": {
        "colab": {
          "base_uri": "https://localhost:8080/"
        },
        "id": "vfcGKgexeO63",
        "outputId": "50f78b0e-6297-44fd-8c89-261d8ba0d73c"
      },
      "outputs": [
        {
          "output_type": "stream",
          "name": "stdout",
          "text": [
            "Dimention of X_train (12096, 54)\n",
            "Dimention of X_test (3024, 54)\n",
            "Dimention of y_train (12096,)\n",
            "Dimention of y_test (3024,)\n"
          ]
        }
      ],
      "source": [
        "print('Dimention of X_train',X_train.shape)\n",
        "print('Dimention of X_test',X_test.shape)\n",
        "print('Dimention of y_train',y_train.shape)\n",
        "print('Dimention of y_test',y_test.shape)"
      ]
    },
    {
      "cell_type": "code",
      "execution_count": null,
      "metadata": {
        "colab": {
          "base_uri": "https://localhost:8080/"
        },
        "id": "bTqs0LPkPGiL",
        "outputId": "888ac173-e890-41fb-e084-e3c328763a5c"
      },
      "outputs": [
        {
          "output_type": "execute_result",
          "data": {
            "text/plain": [
              "4811     5\n",
              "8722     6\n",
              "7099     5\n",
              "1417     2\n",
              "10947    3\n",
              "        ..\n",
              "3964     4\n",
              "14807    7\n",
              "10574    2\n",
              "14356    1\n",
              "11855    1\n",
              "Name: Cover_Type, Length: 12096, dtype: int64"
            ]
          },
          "metadata": {},
          "execution_count": 27
        }
      ],
      "source": [
        "y_train"
      ]
    },
    {
      "cell_type": "markdown",
      "metadata": {
        "id": "MW3rDBVwdg6T"
      },
      "source": [
        "**KNN classification****"
      ]
    },
    {
      "cell_type": "code",
      "execution_count": null,
      "metadata": {
        "id": "SXqQ4qJCmuIw"
      },
      "outputs": [],
      "source": [
        "from sklearn.neighbors import KNeighborsClassifier\n",
        "from sklearn.model_selection import GridSearchCV\n",
        "from sklearn.metrics import classification_report,accuracy_score, roc_auc_score"
      ]
    },
    {
      "cell_type": "code",
      "execution_count": null,
      "metadata": {
        "colab": {
          "base_uri": "https://localhost:8080/"
        },
        "id": "2dDl8NomsAvj",
        "outputId": "37483337-843e-4c03-a1a3-896c993b217e"
      },
      "outputs": [
        {
          "output_type": "stream",
          "name": "stdout",
          "text": [
            "Fitting 5 folds for each of 60 candidates, totalling 300 fits\n"
          ]
        },
        {
          "output_type": "stream",
          "name": "stderr",
          "text": [
            "/usr/local/lib/python3.7/dist-packages/sklearn/model_selection/_validation.py:372: FitFailedWarning: \n",
            "100 fits failed out of a total of 300.\n",
            "The score on these train-test partitions for these parameters will be set to nan.\n",
            "If these failures are not expected, you can try to debug them by setting error_score='raise'.\n",
            "\n",
            "Below are more details about the failures:\n",
            "--------------------------------------------------------------------------------\n",
            "100 fits failed with the following error:\n",
            "Traceback (most recent call last):\n",
            "  File \"/usr/local/lib/python3.7/dist-packages/sklearn/model_selection/_validation.py\", line 680, in _fit_and_score\n",
            "    estimator.fit(X_train, y_train, **fit_params)\n",
            "  File \"/usr/local/lib/python3.7/dist-packages/sklearn/neighbors/_classification.py\", line 198, in fit\n",
            "    return self._fit(X, y)\n",
            "  File \"/usr/local/lib/python3.7/dist-packages/sklearn/neighbors/_base.py\", line 437, in _fit\n",
            "    self._check_algorithm_metric()\n",
            "  File \"/usr/local/lib/python3.7/dist-packages/sklearn/neighbors/_base.py\", line 378, in _check_algorithm_metric\n",
            "    \"Metric can also be a callable function.\" % (self.metric, alg_check)\n",
            "ValueError: Metric 'minkowaski' not valid. Use sorted(sklearn.neighbors.VALID_METRICS['brute']) to get valid options. Metric can also be a callable function.\n",
            "\n",
            "  warnings.warn(some_fits_failed_message, FitFailedWarning)\n",
            "/usr/local/lib/python3.7/dist-packages/sklearn/model_selection/_search.py:972: UserWarning: One or more of the test scores are non-finite: [0.8052254  0.8052254  0.79059177 0.80415027 0.77653801 0.79704075\n",
            " 0.76860164 0.7900137  0.75562216 0.78133301 0.74727225 0.77885261\n",
            " 0.74189843 0.77397514 0.73974899 0.77273513 0.73545014 0.76868384\n",
            " 0.72792715 0.76463309 0.80406742 0.80406742 0.79332013 0.80547317\n",
            " 0.78505325 0.80125644 0.77447104 0.7953869  0.76124329 0.78521847\n",
            " 0.75388563 0.78373052 0.75173649 0.78125043 0.74975231 0.77810905\n",
            " 0.74867769 0.7764552  0.73983143 0.77116447        nan        nan\n",
            "        nan        nan        nan        nan        nan        nan\n",
            "        nan        nan        nan        nan        nan        nan\n",
            "        nan        nan        nan        nan        nan        nan]\n",
            "  category=UserWarning,\n"
          ]
        },
        {
          "output_type": "execute_result",
          "data": {
            "text/plain": [
              "GridSearchCV(cv=5, estimator=KNeighborsClassifier(), n_jobs=-1,\n",
              "             param_grid={'metric': ['euclidean', 'manhattan', 'minkowaski'],\n",
              "                         'n_neighbors': [1, 3, 5, 7, 9, 11, 13, 15, 17, 21],\n",
              "                         'weights': ['uniform', 'distance']},\n",
              "             scoring='accuracy', verbose=2)"
            ]
          },
          "metadata": {},
          "execution_count": 29
        }
      ],
      "source": [
        "knn = KNeighborsClassifier()\n",
        "param_grid = {'n_neighbors':[1,3,5,7,9,11,13,15,17,21],\n",
        "             'metric':['euclidean','manhattan','minkowaski'],\n",
        "             'weights':['uniform','distance']}\n",
        "\n",
        "gs = GridSearchCV(estimator = knn, param_grid= param_grid,scoring='accuracy',cv = 5, n_jobs = -1, verbose=2 )\n",
        "\n",
        "gs.fit(X_train,y_train)"
      ]
    },
    {
      "cell_type": "code",
      "execution_count": null,
      "metadata": {
        "colab": {
          "base_uri": "https://localhost:8080/"
        },
        "id": "rdWK4I_xn6e5",
        "outputId": "d9a1b241-ce37-4815-ca2b-d863dc25de3f"
      },
      "outputs": [
        {
          "output_type": "execute_result",
          "data": {
            "text/plain": [
              "KNeighborsClassifier(metric='manhattan', n_neighbors=3, weights='distance')"
            ]
          },
          "metadata": {},
          "execution_count": 30
        }
      ],
      "source": [
        "gs.best_estimator_"
      ]
    },
    {
      "cell_type": "code",
      "execution_count": null,
      "metadata": {
        "id": "15AqB1ozqtWR"
      },
      "outputs": [],
      "source": [
        "y_pred_knn = gs.best_estimator_.predict(X_test)\n",
        "y_pred_knn_train = gs.best_estimator_.predict(X_train)"
      ]
    },
    {
      "cell_type": "code",
      "execution_count": null,
      "metadata": {
        "colab": {
          "base_uri": "https://localhost:8080/"
        },
        "id": "TFGv8QYCrMU4",
        "outputId": "0223de36-88c6-42ee-a106-9158f4de3e64"
      },
      "outputs": [
        {
          "output_type": "stream",
          "name": "stdout",
          "text": [
            "accuracy score test: 0.8022486772486772\n",
            "accuracy score train: 1.0\n"
          ]
        }
      ],
      "source": [
        "print('accuracy score test:',accuracy_score(y_test,y_pred_knn))\n",
        "print('accuracy score train:',accuracy_score(y_train,y_pred_knn_train))"
      ]
    },
    {
      "cell_type": "code",
      "execution_count": null,
      "metadata": {
        "id": "4jrnxZCsRGrt"
      },
      "outputs": [],
      "source": [
        "from sklearn.svm import SVC"
      ]
    },
    {
      "cell_type": "code",
      "execution_count": null,
      "metadata": {
        "id": "DZCpnkFNRGt8"
      },
      "outputs": [],
      "source": [
        "svc = SVC()"
      ]
    },
    {
      "cell_type": "code",
      "execution_count": null,
      "metadata": {
        "colab": {
          "base_uri": "https://localhost:8080/"
        },
        "id": "UJU1kLtTRGwz",
        "outputId": "04f50aef-f684-4fcc-b448-d68bfcd46b1f"
      },
      "outputs": [
        {
          "output_type": "stream",
          "name": "stdout",
          "text": [
            "Fitting 10 folds for each of 8 candidates, totalling 80 fits\n"
          ]
        },
        {
          "output_type": "execute_result",
          "data": {
            "text/plain": [
              "GridSearchCV(cv=10, estimator=SVC(), n_jobs=-1,\n",
              "             param_grid={'C': [100, 1000],\n",
              "                         'kernel': ['linear', 'poly', 'rbf', 'sigmoid']},\n",
              "             scoring='accuracy', verbose=2)"
            ]
          },
          "metadata": {},
          "execution_count": 35
        }
      ],
      "source": [
        "param_grid_svc = {'kernel':['linear','poly', 'rbf', 'sigmoid'],\n",
        "             'C': [100,1000],\n",
        "             }\n",
        "\n",
        "gs_svc = GridSearchCV(estimator = svc, param_grid= param_grid_svc,scoring='accuracy',cv = 10, n_jobs = -1, verbose=2 )\n",
        "\n",
        "gs_svc.fit(X_train,y_train)"
      ]
    },
    {
      "cell_type": "code",
      "execution_count": null,
      "metadata": {
        "id": "8H6D9keTRrTb",
        "colab": {
          "base_uri": "https://localhost:8080/"
        },
        "outputId": "a888b8d7-c53b-451f-a09d-1ebbfb3d19fc"
      },
      "outputs": [
        {
          "output_type": "execute_result",
          "data": {
            "text/plain": [
              "SVC(C=1000)"
            ]
          },
          "metadata": {},
          "execution_count": 36
        }
      ],
      "source": [
        "gs_svc.best_estimator_"
      ]
    },
    {
      "cell_type": "code",
      "execution_count": null,
      "metadata": {
        "id": "0NukrmiERGzi"
      },
      "outputs": [],
      "source": [
        "y_pred_svc =gs_svc.best_estimator_.predict(X_test)\n",
        "y_pred_svc_train = gs_svc.best_estimator_.predict(X_train)"
      ]
    },
    {
      "cell_type": "code",
      "execution_count": null,
      "metadata": {
        "colab": {
          "base_uri": "https://localhost:8080/"
        },
        "id": "RefMJ2dzRG2G",
        "outputId": "6e9156c9-266e-4a9c-d25e-a33dad9dfd30"
      },
      "outputs": [
        {
          "output_type": "stream",
          "name": "stdout",
          "text": [
            "accuracy score test: 0.8108465608465608\n",
            "accuracy score train: 0.88682208994709\n"
          ]
        }
      ],
      "source": [
        "print('accuracy score test:',accuracy_score(y_test,y_pred_svc))\n",
        "print('accuracy score train:',accuracy_score(y_train,y_pred_svc_train))"
      ]
    },
    {
      "cell_type": "code",
      "execution_count": null,
      "metadata": {
        "id": "paawyIwMRHFH"
      },
      "outputs": [],
      "source": [
        "from sklearn.tree import DecisionTreeClassifier\n",
        "dc = DecisionTreeClassifier()"
      ]
    },
    {
      "cell_type": "code",
      "execution_count": null,
      "metadata": {
        "colab": {
          "base_uri": "https://localhost:8080/"
        },
        "id": "HuwVrcuucAAn",
        "outputId": "27c96850-a4cd-4c9e-9d87-a83e01308740"
      },
      "outputs": [
        {
          "output_type": "stream",
          "name": "stdout",
          "text": [
            "Fitting 10 folds for each of 60 candidates, totalling 600 fits\n"
          ]
        },
        {
          "output_type": "execute_result",
          "data": {
            "text/plain": [
              "GridSearchCV(cv=10, estimator=DecisionTreeClassifier(), n_jobs=-1,\n",
              "             param_grid={'max_depth': [25, 50, 75, 100, 125],\n",
              "                         'min_samples_leaf': [0.01, 0.02, 0.03],\n",
              "                         'min_samples_split': [5, 10, 15, 20]},\n",
              "             scoring='accuracy', verbose=2)"
            ]
          },
          "metadata": {},
          "execution_count": 40
        }
      ],
      "source": [
        "param_grid_dc = {'max_depth':[25,50,75,100,125],\n",
        "             'min_samples_split': [5,10,15,20],\n",
        "              'min_samples_leaf':[0.01,0.02,0.03]\n",
        "             }\n",
        "\n",
        "gs_dc = GridSearchCV(estimator = dc, param_grid= param_grid_dc,scoring='accuracy',cv = 10, n_jobs = -1, verbose=2 )\n",
        "\n",
        "gs_dc.fit(X_train,y_train)"
      ]
    },
    {
      "cell_type": "code",
      "execution_count": null,
      "metadata": {
        "id": "KM4UX0Z0Rw7c",
        "colab": {
          "base_uri": "https://localhost:8080/"
        },
        "outputId": "fbc4da66-7ac8-40c5-d5ab-e4758aafb4e9"
      },
      "outputs": [
        {
          "output_type": "execute_result",
          "data": {
            "text/plain": [
              "DecisionTreeClassifier(max_depth=25, min_samples_leaf=0.01, min_samples_split=5)"
            ]
          },
          "metadata": {},
          "execution_count": 41
        }
      ],
      "source": [
        "gs_dc.best_estimator_"
      ]
    },
    {
      "cell_type": "code",
      "execution_count": null,
      "metadata": {
        "id": "JkA7RKO4cLiJ",
        "colab": {
          "base_uri": "https://localhost:8080/"
        },
        "outputId": "84c10440-cb52-4228-f729-1f9ccc70f88b"
      },
      "outputs": [
        {
          "output_type": "stream",
          "name": "stdout",
          "text": [
            "accuracy score test: 0.6868386243386243\n",
            "accuracy score train: 0.7156911375661376\n"
          ]
        }
      ],
      "source": [
        "y_pred_dc =gs_dc.best_estimator_.predict(X_test)\n",
        "y_pred_dc_train =  gs_dc.best_estimator_.predict(X_train)\n",
        "print('accuracy score test:',accuracy_score(y_test,y_pred_dc))\n",
        "print('accuracy score train:',accuracy_score(y_train,y_pred_dc_train))"
      ]
    },
    {
      "cell_type": "code",
      "execution_count": null,
      "metadata": {
        "id": "k2NoXZ9ycua-"
      },
      "outputs": [],
      "source": [
        "from sklearn.ensemble import RandomForestClassifier\n",
        "rf = RandomForestClassifier()"
      ]
    },
    {
      "cell_type": "code",
      "execution_count": null,
      "metadata": {
        "colab": {
          "base_uri": "https://localhost:8080/"
        },
        "id": "OBdwK95vcw29",
        "outputId": "ffb04a46-fefb-4388-847d-50b05d793811"
      },
      "outputs": [
        {
          "output_type": "stream",
          "name": "stdout",
          "text": [
            "Fitting 5 folds for each of 140 candidates, totalling 700 fits\n"
          ]
        },
        {
          "output_type": "execute_result",
          "data": {
            "text/plain": [
              "GridSearchCV(cv=5, estimator=RandomForestClassifier(), n_jobs=-1,\n",
              "             param_grid={'max_depth': [28, 29, 30, 31, 32],\n",
              "                         'min_samples_split': [2, 3, 4, 5, 6, 7, 8],\n",
              "                         'n_estimators': [200, 210, 190, 180]},\n",
              "             verbose=2)"
            ]
          },
          "metadata": {},
          "execution_count": 44
        }
      ],
      "source": [
        "param_grid_rf = {'n_estimators': [200,210,190,180],\n",
        "             'min_samples_split':[2,3,4,5,6,7,8],\n",
        "             'max_depth':[28,29,30,31,32]}\n",
        "gs_rf = GridSearchCV(estimator = rf, param_grid= param_grid_rf, cv= 5, n_jobs= -1, verbose= 2)\n",
        "gs_rf.fit(X_train,y_train)"
      ]
    },
    {
      "cell_type": "code",
      "execution_count": null,
      "metadata": {
        "colab": {
          "base_uri": "https://localhost:8080/"
        },
        "id": "4Pwl2mptKW4z",
        "outputId": "1fa6fb97-54e6-40f5-a394-0d5e85223329"
      },
      "outputs": [
        {
          "output_type": "execute_result",
          "data": {
            "text/plain": [
              "RandomForestClassifier(max_depth=30, n_estimators=180)"
            ]
          },
          "metadata": {},
          "execution_count": 45
        }
      ],
      "source": [
        "gs_rf.best_estimator_"
      ]
    },
    {
      "cell_type": "code",
      "execution_count": null,
      "metadata": {
        "colab": {
          "base_uri": "https://localhost:8080/"
        },
        "id": "h0QoUtDPKeob",
        "outputId": "6034ca60-ba85-4f47-e278-75454df4f3ed"
      },
      "outputs": [
        {
          "output_type": "execute_result",
          "data": {
            "text/plain": [
              "0.8551590883467316"
            ]
          },
          "metadata": {},
          "execution_count": 46
        }
      ],
      "source": [
        "gs_rf.best_score_"
      ]
    },
    {
      "cell_type": "code",
      "execution_count": null,
      "metadata": {
        "colab": {
          "base_uri": "https://localhost:8080/"
        },
        "id": "zqlHeE86dHIZ",
        "outputId": "77f453be-52ee-4b91-c533-834a62815d80"
      },
      "outputs": [
        {
          "output_type": "stream",
          "name": "stdout",
          "text": [
            "accuracy score test: 0.8485449735449735\n",
            "accuracy score train: 1.0\n"
          ]
        }
      ],
      "source": [
        "y_pred_rf =gs_rf.best_estimator_.predict(X_test)\n",
        "y_pred_rf_train =  gs_rf.best_estimator_.predict(X_train)\n",
        "\n",
        "print(\"accuracy score test:\",accuracy_score(y_test,y_pred_rf))\n",
        "print('accuracy score train:',accuracy_score(y_train,y_pred_rf_train))\n"
      ]
    },
    {
      "cell_type": "code",
      "execution_count": null,
      "metadata": {
        "id": "t8hWZwNYDCbP"
      },
      "outputs": [],
      "source": [
        "from keras.models import Sequential\n",
        "from keras.layers import Dense,Dropout,Flatten "
      ]
    },
    {
      "cell_type": "code",
      "execution_count": null,
      "metadata": {
        "id": "F3zFSCWd7MkN"
      },
      "outputs": [],
      "source": [
        "ytrain = pd.get_dummies(y_train)\n",
        "ytest = pd.get_dummies(y_test)"
      ]
    },
    {
      "cell_type": "code",
      "execution_count": null,
      "metadata": {
        "id": "XBe8XUR17MYP",
        "colab": {
          "base_uri": "https://localhost:8080/",
          "height": 424
        },
        "outputId": "05c6bfc0-5b15-404b-db30-713c072008e1"
      },
      "outputs": [
        {
          "output_type": "execute_result",
          "data": {
            "text/plain": [
              "       1  2  3  4  5  6  7\n",
              "13913  0  0  0  0  0  0  1\n",
              "11101  0  0  1  0  0  0  0\n",
              "1775   0  0  0  0  1  0  0\n",
              "1790   0  1  0  0  0  0  0\n",
              "14584  0  1  0  0  0  0  0\n",
              "...   .. .. .. .. .. .. ..\n",
              "3784   0  0  0  0  1  0  0\n",
              "7290   0  0  0  0  0  1  0\n",
              "799    0  1  0  0  0  0  0\n",
              "8583   0  0  0  0  0  0  1\n",
              "14243  0  0  0  0  0  1  0\n",
              "\n",
              "[3024 rows x 7 columns]"
            ],
            "text/html": [
              "\n",
              "  <div id=\"df-6d6de6f4-3582-4638-9132-358c926cdc81\">\n",
              "    <div class=\"colab-df-container\">\n",
              "      <div>\n",
              "<style scoped>\n",
              "    .dataframe tbody tr th:only-of-type {\n",
              "        vertical-align: middle;\n",
              "    }\n",
              "\n",
              "    .dataframe tbody tr th {\n",
              "        vertical-align: top;\n",
              "    }\n",
              "\n",
              "    .dataframe thead th {\n",
              "        text-align: right;\n",
              "    }\n",
              "</style>\n",
              "<table border=\"1\" class=\"dataframe\">\n",
              "  <thead>\n",
              "    <tr style=\"text-align: right;\">\n",
              "      <th></th>\n",
              "      <th>1</th>\n",
              "      <th>2</th>\n",
              "      <th>3</th>\n",
              "      <th>4</th>\n",
              "      <th>5</th>\n",
              "      <th>6</th>\n",
              "      <th>7</th>\n",
              "    </tr>\n",
              "  </thead>\n",
              "  <tbody>\n",
              "    <tr>\n",
              "      <th>13913</th>\n",
              "      <td>0</td>\n",
              "      <td>0</td>\n",
              "      <td>0</td>\n",
              "      <td>0</td>\n",
              "      <td>0</td>\n",
              "      <td>0</td>\n",
              "      <td>1</td>\n",
              "    </tr>\n",
              "    <tr>\n",
              "      <th>11101</th>\n",
              "      <td>0</td>\n",
              "      <td>0</td>\n",
              "      <td>1</td>\n",
              "      <td>0</td>\n",
              "      <td>0</td>\n",
              "      <td>0</td>\n",
              "      <td>0</td>\n",
              "    </tr>\n",
              "    <tr>\n",
              "      <th>1775</th>\n",
              "      <td>0</td>\n",
              "      <td>0</td>\n",
              "      <td>0</td>\n",
              "      <td>0</td>\n",
              "      <td>1</td>\n",
              "      <td>0</td>\n",
              "      <td>0</td>\n",
              "    </tr>\n",
              "    <tr>\n",
              "      <th>1790</th>\n",
              "      <td>0</td>\n",
              "      <td>1</td>\n",
              "      <td>0</td>\n",
              "      <td>0</td>\n",
              "      <td>0</td>\n",
              "      <td>0</td>\n",
              "      <td>0</td>\n",
              "    </tr>\n",
              "    <tr>\n",
              "      <th>14584</th>\n",
              "      <td>0</td>\n",
              "      <td>1</td>\n",
              "      <td>0</td>\n",
              "      <td>0</td>\n",
              "      <td>0</td>\n",
              "      <td>0</td>\n",
              "      <td>0</td>\n",
              "    </tr>\n",
              "    <tr>\n",
              "      <th>...</th>\n",
              "      <td>...</td>\n",
              "      <td>...</td>\n",
              "      <td>...</td>\n",
              "      <td>...</td>\n",
              "      <td>...</td>\n",
              "      <td>...</td>\n",
              "      <td>...</td>\n",
              "    </tr>\n",
              "    <tr>\n",
              "      <th>3784</th>\n",
              "      <td>0</td>\n",
              "      <td>0</td>\n",
              "      <td>0</td>\n",
              "      <td>0</td>\n",
              "      <td>1</td>\n",
              "      <td>0</td>\n",
              "      <td>0</td>\n",
              "    </tr>\n",
              "    <tr>\n",
              "      <th>7290</th>\n",
              "      <td>0</td>\n",
              "      <td>0</td>\n",
              "      <td>0</td>\n",
              "      <td>0</td>\n",
              "      <td>0</td>\n",
              "      <td>1</td>\n",
              "      <td>0</td>\n",
              "    </tr>\n",
              "    <tr>\n",
              "      <th>799</th>\n",
              "      <td>0</td>\n",
              "      <td>1</td>\n",
              "      <td>0</td>\n",
              "      <td>0</td>\n",
              "      <td>0</td>\n",
              "      <td>0</td>\n",
              "      <td>0</td>\n",
              "    </tr>\n",
              "    <tr>\n",
              "      <th>8583</th>\n",
              "      <td>0</td>\n",
              "      <td>0</td>\n",
              "      <td>0</td>\n",
              "      <td>0</td>\n",
              "      <td>0</td>\n",
              "      <td>0</td>\n",
              "      <td>1</td>\n",
              "    </tr>\n",
              "    <tr>\n",
              "      <th>14243</th>\n",
              "      <td>0</td>\n",
              "      <td>0</td>\n",
              "      <td>0</td>\n",
              "      <td>0</td>\n",
              "      <td>0</td>\n",
              "      <td>1</td>\n",
              "      <td>0</td>\n",
              "    </tr>\n",
              "  </tbody>\n",
              "</table>\n",
              "<p>3024 rows × 7 columns</p>\n",
              "</div>\n",
              "      <button class=\"colab-df-convert\" onclick=\"convertToInteractive('df-6d6de6f4-3582-4638-9132-358c926cdc81')\"\n",
              "              title=\"Convert this dataframe to an interactive table.\"\n",
              "              style=\"display:none;\">\n",
              "        \n",
              "  <svg xmlns=\"http://www.w3.org/2000/svg\" height=\"24px\"viewBox=\"0 0 24 24\"\n",
              "       width=\"24px\">\n",
              "    <path d=\"M0 0h24v24H0V0z\" fill=\"none\"/>\n",
              "    <path d=\"M18.56 5.44l.94 2.06.94-2.06 2.06-.94-2.06-.94-.94-2.06-.94 2.06-2.06.94zm-11 1L8.5 8.5l.94-2.06 2.06-.94-2.06-.94L8.5 2.5l-.94 2.06-2.06.94zm10 10l.94 2.06.94-2.06 2.06-.94-2.06-.94-.94-2.06-.94 2.06-2.06.94z\"/><path d=\"M17.41 7.96l-1.37-1.37c-.4-.4-.92-.59-1.43-.59-.52 0-1.04.2-1.43.59L10.3 9.45l-7.72 7.72c-.78.78-.78 2.05 0 2.83L4 21.41c.39.39.9.59 1.41.59.51 0 1.02-.2 1.41-.59l7.78-7.78 2.81-2.81c.8-.78.8-2.07 0-2.86zM5.41 20L4 18.59l7.72-7.72 1.47 1.35L5.41 20z\"/>\n",
              "  </svg>\n",
              "      </button>\n",
              "      \n",
              "  <style>\n",
              "    .colab-df-container {\n",
              "      display:flex;\n",
              "      flex-wrap:wrap;\n",
              "      gap: 12px;\n",
              "    }\n",
              "\n",
              "    .colab-df-convert {\n",
              "      background-color: #E8F0FE;\n",
              "      border: none;\n",
              "      border-radius: 50%;\n",
              "      cursor: pointer;\n",
              "      display: none;\n",
              "      fill: #1967D2;\n",
              "      height: 32px;\n",
              "      padding: 0 0 0 0;\n",
              "      width: 32px;\n",
              "    }\n",
              "\n",
              "    .colab-df-convert:hover {\n",
              "      background-color: #E2EBFA;\n",
              "      box-shadow: 0px 1px 2px rgba(60, 64, 67, 0.3), 0px 1px 3px 1px rgba(60, 64, 67, 0.15);\n",
              "      fill: #174EA6;\n",
              "    }\n",
              "\n",
              "    [theme=dark] .colab-df-convert {\n",
              "      background-color: #3B4455;\n",
              "      fill: #D2E3FC;\n",
              "    }\n",
              "\n",
              "    [theme=dark] .colab-df-convert:hover {\n",
              "      background-color: #434B5C;\n",
              "      box-shadow: 0px 1px 3px 1px rgba(0, 0, 0, 0.15);\n",
              "      filter: drop-shadow(0px 1px 2px rgba(0, 0, 0, 0.3));\n",
              "      fill: #FFFFFF;\n",
              "    }\n",
              "  </style>\n",
              "\n",
              "      <script>\n",
              "        const buttonEl =\n",
              "          document.querySelector('#df-6d6de6f4-3582-4638-9132-358c926cdc81 button.colab-df-convert');\n",
              "        buttonEl.style.display =\n",
              "          google.colab.kernel.accessAllowed ? 'block' : 'none';\n",
              "\n",
              "        async function convertToInteractive(key) {\n",
              "          const element = document.querySelector('#df-6d6de6f4-3582-4638-9132-358c926cdc81');\n",
              "          const dataTable =\n",
              "            await google.colab.kernel.invokeFunction('convertToInteractive',\n",
              "                                                     [key], {});\n",
              "          if (!dataTable) return;\n",
              "\n",
              "          const docLinkHtml = 'Like what you see? Visit the ' +\n",
              "            '<a target=\"_blank\" href=https://colab.research.google.com/notebooks/data_table.ipynb>data table notebook</a>'\n",
              "            + ' to learn more about interactive tables.';\n",
              "          element.innerHTML = '';\n",
              "          dataTable['output_type'] = 'display_data';\n",
              "          await google.colab.output.renderOutput(dataTable, element);\n",
              "          const docLink = document.createElement('div');\n",
              "          docLink.innerHTML = docLinkHtml;\n",
              "          element.appendChild(docLink);\n",
              "        }\n",
              "      </script>\n",
              "    </div>\n",
              "  </div>\n",
              "  "
            ]
          },
          "metadata": {},
          "execution_count": 50
        }
      ],
      "source": [
        "ytest"
      ]
    },
    {
      "cell_type": "code",
      "execution_count": null,
      "metadata": {
        "id": "DoyBuXuNDDb0"
      },
      "outputs": [],
      "source": [
        "cover_typeANN = Sequential()"
      ]
    },
    {
      "cell_type": "code",
      "source": [
        "cover_typeANN.add(Dense(units=54, input_dim=54, activation='relu'))\n",
        "cover_typeANN.add(Dense(units=50, activation='relu'))\n",
        "cover_typeANN.add(Dropout(rate=0.25))\n",
        "#final layer\n",
        "cover_typeANN.add(Dense(units=7, activation='softmax'))"
      ],
      "metadata": {
        "id": "RUa6CFXg9QaQ"
      },
      "execution_count": null,
      "outputs": []
    },
    {
      "cell_type": "code",
      "source": [
        "cover_typeANN.compile(loss='categorical_crossentropy', optimizer='adam', metrics=['accuracy'])"
      ],
      "metadata": {
        "id": "Dd_bxIHO9Qly"
      },
      "execution_count": null,
      "outputs": []
    },
    {
      "cell_type": "code",
      "source": [
        "from keras.callbacks import ModelCheckpoint,EarlyStopping, ReduceLROnPlateau\n",
        "\n",
        "filename = 'bestmodel.cover_type'\n",
        "mc = ModelCheckpoint(filename, monitor='val_loss', verbose=1, mode='min')\n",
        "\n",
        "es = EarlyStopping(monitor='val_loss', min_delta=0.005, patience=10, verbose=1, mode='auto')\n",
        "\n",
        "rd = ReduceLROnPlateau(monitor='val_loss', factor=0.1, patience=10, verbose=1, mode='auto')"
      ],
      "metadata": {
        "id": "1llmqg579Qoq"
      },
      "execution_count": null,
      "outputs": []
    },
    {
      "cell_type": "code",
      "source": [
        "history = cover_typeANN.fit(X_train, ytrain, epochs=100, validation_split=0.2, callbacks=[mc,es,rd])"
      ],
      "metadata": {
        "colab": {
          "base_uri": "https://localhost:8080/"
        },
        "id": "MuijmhP69QsZ",
        "outputId": "a535b103-03e2-469e-ea4a-1732c708069b"
      },
      "execution_count": null,
      "outputs": [
        {
          "output_type": "stream",
          "name": "stdout",
          "text": [
            "Epoch 1/100\n",
            "281/303 [==========================>...] - ETA: 0s - loss: 1.3449 - accuracy: 0.4753\n",
            "Epoch 1: saving model to bestmodel.cover_type\n",
            "303/303 [==============================] - 3s 6ms/step - loss: 1.3158 - accuracy: 0.4845 - val_loss: 0.9443 - val_accuracy: 0.6070 - lr: 0.0010\n",
            "Epoch 2/100\n",
            "294/303 [============================>.] - ETA: 0s - loss: 0.9236 - accuracy: 0.6076\n",
            "Epoch 2: saving model to bestmodel.cover_type\n",
            "303/303 [==============================] - 2s 6ms/step - loss: 0.9244 - accuracy: 0.6076 - val_loss: 0.8611 - val_accuracy: 0.6475 - lr: 0.0010\n",
            "Epoch 3/100\n",
            "286/303 [===========================>..] - ETA: 0s - loss: 0.8572 - accuracy: 0.6378\n",
            "Epoch 3: saving model to bestmodel.cover_type\n",
            "303/303 [==============================] - 2s 5ms/step - loss: 0.8582 - accuracy: 0.6372 - val_loss: 0.8193 - val_accuracy: 0.6665 - lr: 0.0010\n",
            "Epoch 4/100\n",
            "300/303 [============================>.] - ETA: 0s - loss: 0.8161 - accuracy: 0.6543\n",
            "Epoch 4: saving model to bestmodel.cover_type\n",
            "303/303 [==============================] - 1s 5ms/step - loss: 0.8167 - accuracy: 0.6542 - val_loss: 0.7910 - val_accuracy: 0.6843 - lr: 0.0010\n",
            "Epoch 5/100\n",
            "288/303 [===========================>..] - ETA: 0s - loss: 0.7919 - accuracy: 0.6661\n",
            "Epoch 5: saving model to bestmodel.cover_type\n",
            "303/303 [==============================] - 2s 5ms/step - loss: 0.7914 - accuracy: 0.6657 - val_loss: 0.7640 - val_accuracy: 0.6888 - lr: 0.0010\n",
            "Epoch 6/100\n",
            "303/303 [==============================] - ETA: 0s - loss: 0.7687 - accuracy: 0.6794\n",
            "Epoch 6: saving model to bestmodel.cover_type\n",
            "303/303 [==============================] - 1s 5ms/step - loss: 0.7687 - accuracy: 0.6794 - val_loss: 0.7329 - val_accuracy: 0.7062 - lr: 0.0010\n",
            "Epoch 7/100\n",
            "291/303 [===========================>..] - ETA: 0s - loss: 0.7421 - accuracy: 0.6899\n",
            "Epoch 7: saving model to bestmodel.cover_type\n",
            "303/303 [==============================] - 1s 5ms/step - loss: 0.7414 - accuracy: 0.6911 - val_loss: 0.7178 - val_accuracy: 0.7074 - lr: 0.0010\n",
            "Epoch 8/100\n",
            "302/303 [============================>.] - ETA: 0s - loss: 0.7270 - accuracy: 0.6974\n",
            "Epoch 8: saving model to bestmodel.cover_type\n",
            "303/303 [==============================] - 2s 5ms/step - loss: 0.7268 - accuracy: 0.6976 - val_loss: 0.7063 - val_accuracy: 0.7182 - lr: 0.0010\n",
            "Epoch 9/100\n",
            "302/303 [============================>.] - ETA: 0s - loss: 0.7065 - accuracy: 0.7025\n",
            "Epoch 9: saving model to bestmodel.cover_type\n",
            "303/303 [==============================] - 1s 5ms/step - loss: 0.7072 - accuracy: 0.7023 - val_loss: 0.6911 - val_accuracy: 0.7169 - lr: 0.0010\n",
            "Epoch 10/100\n",
            "301/303 [============================>.] - ETA: 0s - loss: 0.6936 - accuracy: 0.7086\n",
            "Epoch 10: saving model to bestmodel.cover_type\n",
            "303/303 [==============================] - 1s 5ms/step - loss: 0.6937 - accuracy: 0.7086 - val_loss: 0.6823 - val_accuracy: 0.7186 - lr: 0.0010\n",
            "Epoch 11/100\n",
            "302/303 [============================>.] - ETA: 0s - loss: 0.6840 - accuracy: 0.7140\n",
            "Epoch 11: saving model to bestmodel.cover_type\n",
            "303/303 [==============================] - 2s 5ms/step - loss: 0.6842 - accuracy: 0.7139 - val_loss: 0.6735 - val_accuracy: 0.7252 - lr: 0.0010\n",
            "Epoch 12/100\n",
            "300/303 [============================>.] - ETA: 0s - loss: 0.6713 - accuracy: 0.7151\n",
            "Epoch 12: saving model to bestmodel.cover_type\n",
            "303/303 [==============================] - 1s 5ms/step - loss: 0.6704 - accuracy: 0.7154 - val_loss: 0.6614 - val_accuracy: 0.7236 - lr: 0.0010\n",
            "Epoch 13/100\n",
            "283/303 [===========================>..] - ETA: 0s - loss: 0.6659 - accuracy: 0.7195\n",
            "Epoch 13: saving model to bestmodel.cover_type\n",
            "303/303 [==============================] - 1s 5ms/step - loss: 0.6634 - accuracy: 0.7209 - val_loss: 0.6505 - val_accuracy: 0.7335 - lr: 0.0010\n",
            "Epoch 14/100\n",
            "285/303 [===========================>..] - ETA: 0s - loss: 0.6485 - accuracy: 0.7314\n",
            "Epoch 14: saving model to bestmodel.cover_type\n",
            "303/303 [==============================] - 1s 5ms/step - loss: 0.6500 - accuracy: 0.7292 - val_loss: 0.6436 - val_accuracy: 0.7289 - lr: 0.0010\n",
            "Epoch 15/100\n",
            "293/303 [============================>.] - ETA: 0s - loss: 0.6365 - accuracy: 0.7368\n",
            "Epoch 15: saving model to bestmodel.cover_type\n",
            "303/303 [==============================] - 1s 5ms/step - loss: 0.6379 - accuracy: 0.7371 - val_loss: 0.6303 - val_accuracy: 0.7417 - lr: 0.0010\n",
            "Epoch 16/100\n",
            "283/303 [===========================>..] - ETA: 0s - loss: 0.6332 - accuracy: 0.7319\n",
            "Epoch 16: saving model to bestmodel.cover_type\n",
            "303/303 [==============================] - 2s 7ms/step - loss: 0.6343 - accuracy: 0.7310 - val_loss: 0.6364 - val_accuracy: 0.7364 - lr: 0.0010\n",
            "Epoch 17/100\n",
            "294/303 [============================>.] - ETA: 0s - loss: 0.6339 - accuracy: 0.7344\n",
            "Epoch 17: saving model to bestmodel.cover_type\n",
            "303/303 [==============================] - 2s 7ms/step - loss: 0.6313 - accuracy: 0.7350 - val_loss: 0.6203 - val_accuracy: 0.7446 - lr: 0.0010\n",
            "Epoch 18/100\n",
            "284/303 [===========================>..] - ETA: 0s - loss: 0.6182 - accuracy: 0.7366\n",
            "Epoch 18: saving model to bestmodel.cover_type\n",
            "303/303 [==============================] - 2s 5ms/step - loss: 0.6187 - accuracy: 0.7363 - val_loss: 0.6208 - val_accuracy: 0.7347 - lr: 0.0010\n",
            "Epoch 19/100\n",
            "284/303 [===========================>..] - ETA: 0s - loss: 0.6147 - accuracy: 0.7388\n",
            "Epoch 19: saving model to bestmodel.cover_type\n",
            "303/303 [==============================] - 1s 5ms/step - loss: 0.6144 - accuracy: 0.7381 - val_loss: 0.6187 - val_accuracy: 0.7430 - lr: 0.0010\n",
            "Epoch 20/100\n",
            "299/303 [============================>.] - ETA: 0s - loss: 0.6015 - accuracy: 0.7434\n",
            "Epoch 20: saving model to bestmodel.cover_type\n",
            "303/303 [==============================] - 2s 5ms/step - loss: 0.6024 - accuracy: 0.7430 - val_loss: 0.6084 - val_accuracy: 0.7446 - lr: 0.0010\n",
            "Epoch 21/100\n",
            "285/303 [===========================>..] - ETA: 0s - loss: 0.6028 - accuracy: 0.7456\n",
            "Epoch 21: saving model to bestmodel.cover_type\n",
            "303/303 [==============================] - 1s 5ms/step - loss: 0.6019 - accuracy: 0.7449 - val_loss: 0.5964 - val_accuracy: 0.7512 - lr: 0.0010\n",
            "Epoch 22/100\n",
            "300/303 [============================>.] - ETA: 0s - loss: 0.5965 - accuracy: 0.7455\n",
            "Epoch 22: saving model to bestmodel.cover_type\n",
            "303/303 [==============================] - 2s 5ms/step - loss: 0.5981 - accuracy: 0.7445 - val_loss: 0.5918 - val_accuracy: 0.7517 - lr: 0.0010\n",
            "Epoch 23/100\n",
            "295/303 [============================>.] - ETA: 0s - loss: 0.5953 - accuracy: 0.7512\n",
            "Epoch 23: saving model to bestmodel.cover_type\n",
            "303/303 [==============================] - 2s 5ms/step - loss: 0.5939 - accuracy: 0.7514 - val_loss: 0.5945 - val_accuracy: 0.7496 - lr: 0.0010\n",
            "Epoch 24/100\n",
            "290/303 [===========================>..] - ETA: 0s - loss: 0.5852 - accuracy: 0.7514\n",
            "Epoch 24: saving model to bestmodel.cover_type\n",
            "303/303 [==============================] - 1s 5ms/step - loss: 0.5854 - accuracy: 0.7512 - val_loss: 0.5894 - val_accuracy: 0.7570 - lr: 0.0010\n",
            "Epoch 25/100\n",
            "290/303 [===========================>..] - ETA: 0s - loss: 0.5788 - accuracy: 0.7550\n",
            "Epoch 25: saving model to bestmodel.cover_type\n",
            "303/303 [==============================] - 1s 5ms/step - loss: 0.5805 - accuracy: 0.7554 - val_loss: 0.5935 - val_accuracy: 0.7467 - lr: 0.0010\n",
            "Epoch 26/100\n",
            "293/303 [============================>.] - ETA: 0s - loss: 0.5701 - accuracy: 0.7548\n",
            "Epoch 26: saving model to bestmodel.cover_type\n",
            "303/303 [==============================] - 1s 5ms/step - loss: 0.5702 - accuracy: 0.7551 - val_loss: 0.5725 - val_accuracy: 0.7620 - lr: 0.0010\n",
            "Epoch 27/100\n",
            "299/303 [============================>.] - ETA: 0s - loss: 0.5714 - accuracy: 0.7572\n",
            "Epoch 27: saving model to bestmodel.cover_type\n",
            "303/303 [==============================] - 1s 5ms/step - loss: 0.5721 - accuracy: 0.7569 - val_loss: 0.5815 - val_accuracy: 0.7595 - lr: 0.0010\n",
            "Epoch 28/100\n",
            "298/303 [============================>.] - ETA: 0s - loss: 0.5671 - accuracy: 0.7607\n",
            "Epoch 28: saving model to bestmodel.cover_type\n",
            "303/303 [==============================] - 1s 5ms/step - loss: 0.5686 - accuracy: 0.7602 - val_loss: 0.5820 - val_accuracy: 0.7599 - lr: 0.0010\n",
            "Epoch 29/100\n",
            "295/303 [============================>.] - ETA: 0s - loss: 0.5658 - accuracy: 0.7627\n",
            "Epoch 29: saving model to bestmodel.cover_type\n",
            "303/303 [==============================] - 1s 5ms/step - loss: 0.5690 - accuracy: 0.7609 - val_loss: 0.5671 - val_accuracy: 0.7657 - lr: 0.0010\n",
            "Epoch 30/100\n",
            "303/303 [==============================] - ETA: 0s - loss: 0.5614 - accuracy: 0.7660\n",
            "Epoch 30: saving model to bestmodel.cover_type\n",
            "303/303 [==============================] - 2s 7ms/step - loss: 0.5614 - accuracy: 0.7660 - val_loss: 0.5602 - val_accuracy: 0.7653 - lr: 0.0010\n",
            "Epoch 31/100\n",
            "282/303 [==========================>...] - ETA: 0s - loss: 0.5599 - accuracy: 0.7626\n",
            "Epoch 31: saving model to bestmodel.cover_type\n",
            "303/303 [==============================] - 1s 5ms/step - loss: 0.5594 - accuracy: 0.7625 - val_loss: 0.5558 - val_accuracy: 0.7624 - lr: 0.0010\n",
            "Epoch 32/100\n",
            "290/303 [===========================>..] - ETA: 0s - loss: 0.5520 - accuracy: 0.7676\n",
            "Epoch 32: saving model to bestmodel.cover_type\n",
            "303/303 [==============================] - 2s 5ms/step - loss: 0.5523 - accuracy: 0.7669 - val_loss: 0.5579 - val_accuracy: 0.7698 - lr: 0.0010\n",
            "Epoch 33/100\n",
            "287/303 [===========================>..] - ETA: 0s - loss: 0.5473 - accuracy: 0.7682\n",
            "Epoch 33: saving model to bestmodel.cover_type\n",
            "303/303 [==============================] - 2s 5ms/step - loss: 0.5463 - accuracy: 0.7688 - val_loss: 0.5452 - val_accuracy: 0.7748 - lr: 0.0010\n",
            "Epoch 34/100\n",
            "282/303 [==========================>...] - ETA: 0s - loss: 0.5507 - accuracy: 0.7704\n",
            "Epoch 34: saving model to bestmodel.cover_type\n",
            "303/303 [==============================] - 1s 5ms/step - loss: 0.5467 - accuracy: 0.7724 - val_loss: 0.5549 - val_accuracy: 0.7624 - lr: 0.0010\n",
            "Epoch 35/100\n",
            "278/303 [==========================>...] - ETA: 0s - loss: 0.5357 - accuracy: 0.7716\n",
            "Epoch 35: saving model to bestmodel.cover_type\n",
            "303/303 [==============================] - 1s 5ms/step - loss: 0.5376 - accuracy: 0.7712 - val_loss: 0.5464 - val_accuracy: 0.7744 - lr: 0.0010\n",
            "Epoch 36/100\n",
            "292/303 [===========================>..] - ETA: 0s - loss: 0.5352 - accuracy: 0.7784\n",
            "Epoch 36: saving model to bestmodel.cover_type\n",
            "303/303 [==============================] - 2s 5ms/step - loss: 0.5358 - accuracy: 0.7778 - val_loss: 0.5418 - val_accuracy: 0.7698 - lr: 0.0010\n",
            "Epoch 37/100\n",
            "284/303 [===========================>..] - ETA: 0s - loss: 0.5373 - accuracy: 0.7761\n",
            "Epoch 37: saving model to bestmodel.cover_type\n",
            "303/303 [==============================] - 1s 5ms/step - loss: 0.5376 - accuracy: 0.7761 - val_loss: 0.5458 - val_accuracy: 0.7711 - lr: 0.0010\n",
            "Epoch 38/100\n",
            "296/303 [============================>.] - ETA: 0s - loss: 0.5297 - accuracy: 0.7768\n",
            "Epoch 38: saving model to bestmodel.cover_type\n",
            "303/303 [==============================] - 2s 5ms/step - loss: 0.5291 - accuracy: 0.7772 - val_loss: 0.5482 - val_accuracy: 0.7669 - lr: 0.0010\n",
            "Epoch 39/100\n",
            "281/303 [==========================>...] - ETA: 0s - loss: 0.5298 - accuracy: 0.7768\n",
            "Epoch 39: saving model to bestmodel.cover_type\n",
            "303/303 [==============================] - 2s 5ms/step - loss: 0.5316 - accuracy: 0.7754 - val_loss: 0.5534 - val_accuracy: 0.7645 - lr: 0.0010\n",
            "Epoch 40/100\n",
            "283/303 [===========================>..] - ETA: 0s - loss: 0.5276 - accuracy: 0.7807\n",
            "Epoch 40: saving model to bestmodel.cover_type\n",
            "303/303 [==============================] - 1s 5ms/step - loss: 0.5276 - accuracy: 0.7789 - val_loss: 0.5439 - val_accuracy: 0.7723 - lr: 0.0010\n",
            "Epoch 41/100\n",
            "290/303 [===========================>..] - ETA: 0s - loss: 0.5233 - accuracy: 0.7791\n",
            "Epoch 41: saving model to bestmodel.cover_type\n",
            "303/303 [==============================] - 2s 5ms/step - loss: 0.5244 - accuracy: 0.7777 - val_loss: 0.5353 - val_accuracy: 0.7748 - lr: 0.0010\n",
            "Epoch 42/100\n",
            "300/303 [============================>.] - ETA: 0s - loss: 0.5208 - accuracy: 0.7794\n",
            "Epoch 42: saving model to bestmodel.cover_type\n",
            "303/303 [==============================] - 2s 5ms/step - loss: 0.5214 - accuracy: 0.7796 - val_loss: 0.5416 - val_accuracy: 0.7686 - lr: 0.0010\n",
            "Epoch 43/100\n",
            "300/303 [============================>.] - ETA: 0s - loss: 0.5192 - accuracy: 0.7835\n",
            "Epoch 43: saving model to bestmodel.cover_type\n",
            "303/303 [==============================] - 2s 5ms/step - loss: 0.5204 - accuracy: 0.7830 - val_loss: 0.5338 - val_accuracy: 0.7752 - lr: 0.0010\n",
            "Epoch 44/100\n",
            "299/303 [============================>.] - ETA: 0s - loss: 0.5232 - accuracy: 0.7758\n",
            "Epoch 44: saving model to bestmodel.cover_type\n",
            "303/303 [==============================] - 2s 7ms/step - loss: 0.5219 - accuracy: 0.7764 - val_loss: 0.5339 - val_accuracy: 0.7748 - lr: 0.0010\n",
            "Epoch 45/100\n",
            "301/303 [============================>.] - ETA: 0s - loss: 0.5122 - accuracy: 0.7797\n",
            "Epoch 45: saving model to bestmodel.cover_type\n",
            "303/303 [==============================] - 2s 5ms/step - loss: 0.5120 - accuracy: 0.7797 - val_loss: 0.5253 - val_accuracy: 0.7789 - lr: 0.0010\n",
            "Epoch 46/100\n",
            "300/303 [============================>.] - ETA: 0s - loss: 0.5075 - accuracy: 0.7856\n",
            "Epoch 46: saving model to bestmodel.cover_type\n",
            "303/303 [==============================] - 2s 5ms/step - loss: 0.5070 - accuracy: 0.7862 - val_loss: 0.5232 - val_accuracy: 0.7748 - lr: 0.0010\n",
            "Epoch 47/100\n",
            "289/303 [===========================>..] - ETA: 0s - loss: 0.5088 - accuracy: 0.7854\n",
            "Epoch 47: saving model to bestmodel.cover_type\n",
            "303/303 [==============================] - 1s 5ms/step - loss: 0.5083 - accuracy: 0.7854 - val_loss: 0.5306 - val_accuracy: 0.7810 - lr: 0.0010\n",
            "Epoch 48/100\n",
            "301/303 [============================>.] - ETA: 0s - loss: 0.5056 - accuracy: 0.7889\n",
            "Epoch 48: saving model to bestmodel.cover_type\n",
            "303/303 [==============================] - 2s 5ms/step - loss: 0.5058 - accuracy: 0.7889 - val_loss: 0.5356 - val_accuracy: 0.7723 - lr: 0.0010\n",
            "Epoch 49/100\n",
            "291/303 [===========================>..] - ETA: 0s - loss: 0.5072 - accuracy: 0.7849\n",
            "Epoch 49: saving model to bestmodel.cover_type\n",
            "303/303 [==============================] - 2s 5ms/step - loss: 0.5066 - accuracy: 0.7852 - val_loss: 0.5316 - val_accuracy: 0.7727 - lr: 0.0010\n",
            "Epoch 50/100\n",
            "302/303 [============================>.] - ETA: 0s - loss: 0.5029 - accuracy: 0.7890\n",
            "Epoch 50: saving model to bestmodel.cover_type\n",
            "303/303 [==============================] - 2s 5ms/step - loss: 0.5032 - accuracy: 0.7887 - val_loss: 0.5176 - val_accuracy: 0.7913 - lr: 0.0010\n",
            "Epoch 51/100\n",
            "288/303 [===========================>..] - ETA: 0s - loss: 0.4980 - accuracy: 0.7906\n",
            "Epoch 51: saving model to bestmodel.cover_type\n",
            "303/303 [==============================] - 1s 5ms/step - loss: 0.4964 - accuracy: 0.7908 - val_loss: 0.5296 - val_accuracy: 0.7789 - lr: 0.0010\n",
            "Epoch 52/100\n",
            "285/303 [===========================>..] - ETA: 0s - loss: 0.5016 - accuracy: 0.7864\n",
            "Epoch 52: saving model to bestmodel.cover_type\n",
            "303/303 [==============================] - 2s 5ms/step - loss: 0.4987 - accuracy: 0.7884 - val_loss: 0.5234 - val_accuracy: 0.7835 - lr: 0.0010\n",
            "Epoch 53/100\n",
            "300/303 [============================>.] - ETA: 0s - loss: 0.4928 - accuracy: 0.7925\n",
            "Epoch 53: saving model to bestmodel.cover_type\n",
            "303/303 [==============================] - 2s 5ms/step - loss: 0.4930 - accuracy: 0.7925 - val_loss: 0.5148 - val_accuracy: 0.7851 - lr: 0.0010\n",
            "Epoch 54/100\n",
            "291/303 [===========================>..] - ETA: 0s - loss: 0.4959 - accuracy: 0.7927\n",
            "Epoch 54: saving model to bestmodel.cover_type\n",
            "303/303 [==============================] - 1s 5ms/step - loss: 0.4945 - accuracy: 0.7933 - val_loss: 0.5181 - val_accuracy: 0.7864 - lr: 0.0010\n",
            "Epoch 55/100\n",
            "286/303 [===========================>..] - ETA: 0s - loss: 0.4934 - accuracy: 0.7931\n",
            "Epoch 55: saving model to bestmodel.cover_type\n",
            "303/303 [==============================] - 2s 5ms/step - loss: 0.4924 - accuracy: 0.7944 - val_loss: 0.5072 - val_accuracy: 0.7880 - lr: 0.0010\n",
            "Epoch 56/100\n",
            "283/303 [===========================>..] - ETA: 0s - loss: 0.4903 - accuracy: 0.7959\n",
            "Epoch 56: saving model to bestmodel.cover_type\n",
            "303/303 [==============================] - 1s 5ms/step - loss: 0.4900 - accuracy: 0.7958 - val_loss: 0.5155 - val_accuracy: 0.7802 - lr: 0.0010\n",
            "Epoch 57/100\n",
            "300/303 [============================>.] - ETA: 0s - loss: 0.4819 - accuracy: 0.7962\n",
            "Epoch 57: saving model to bestmodel.cover_type\n",
            "303/303 [==============================] - 2s 5ms/step - loss: 0.4824 - accuracy: 0.7959 - val_loss: 0.5170 - val_accuracy: 0.7851 - lr: 0.0010\n",
            "Epoch 58/100\n",
            "289/303 [===========================>..] - ETA: 0s - loss: 0.4883 - accuracy: 0.7978\n",
            "Epoch 58: saving model to bestmodel.cover_type\n",
            "303/303 [==============================] - 1s 5ms/step - loss: 0.4893 - accuracy: 0.7983 - val_loss: 0.5116 - val_accuracy: 0.7864 - lr: 0.0010\n",
            "Epoch 59/100\n",
            "284/303 [===========================>..] - ETA: 0s - loss: 0.4809 - accuracy: 0.7989\n",
            "Epoch 59: saving model to bestmodel.cover_type\n",
            "303/303 [==============================] - 2s 7ms/step - loss: 0.4806 - accuracy: 0.7991 - val_loss: 0.5118 - val_accuracy: 0.7839 - lr: 0.0010\n",
            "Epoch 60/100\n",
            "292/303 [===========================>..] - ETA: 0s - loss: 0.4822 - accuracy: 0.7991\n",
            "Epoch 60: saving model to bestmodel.cover_type\n",
            "303/303 [==============================] - 2s 5ms/step - loss: 0.4841 - accuracy: 0.7990 - val_loss: 0.5105 - val_accuracy: 0.7880 - lr: 0.0010\n",
            "Epoch 61/100\n",
            "278/303 [==========================>...] - ETA: 0s - loss: 0.4861 - accuracy: 0.7995\n",
            "Epoch 61: saving model to bestmodel.cover_type\n",
            "303/303 [==============================] - 1s 5ms/step - loss: 0.4828 - accuracy: 0.8004 - val_loss: 0.5214 - val_accuracy: 0.7860 - lr: 0.0010\n",
            "Epoch 62/100\n",
            "288/303 [===========================>..] - ETA: 0s - loss: 0.4787 - accuracy: 0.7994\n",
            "Epoch 62: saving model to bestmodel.cover_type\n",
            "303/303 [==============================] - 1s 5ms/step - loss: 0.4795 - accuracy: 0.7985 - val_loss: 0.5132 - val_accuracy: 0.7831 - lr: 0.0010\n",
            "Epoch 63/100\n",
            "284/303 [===========================>..] - ETA: 0s - loss: 0.4736 - accuracy: 0.8020\n",
            "Epoch 63: saving model to bestmodel.cover_type\n",
            "303/303 [==============================] - 2s 5ms/step - loss: 0.4766 - accuracy: 0.8013 - val_loss: 0.5002 - val_accuracy: 0.7934 - lr: 0.0010\n",
            "Epoch 64/100\n",
            "284/303 [===========================>..] - ETA: 0s - loss: 0.4787 - accuracy: 0.7985\n",
            "Epoch 64: saving model to bestmodel.cover_type\n",
            "303/303 [==============================] - 2s 5ms/step - loss: 0.4797 - accuracy: 0.7984 - val_loss: 0.5009 - val_accuracy: 0.7909 - lr: 0.0010\n",
            "Epoch 65/100\n",
            "292/303 [===========================>..] - ETA: 0s - loss: 0.4776 - accuracy: 0.8032\n",
            "Epoch 65: saving model to bestmodel.cover_type\n",
            "303/303 [==============================] - 2s 5ms/step - loss: 0.4754 - accuracy: 0.8037 - val_loss: 0.4983 - val_accuracy: 0.7930 - lr: 0.0010\n",
            "Epoch 66/100\n",
            "282/303 [==========================>...] - ETA: 0s - loss: 0.4686 - accuracy: 0.8037\n",
            "Epoch 66: saving model to bestmodel.cover_type\n",
            "303/303 [==============================] - 2s 5ms/step - loss: 0.4703 - accuracy: 0.8023 - val_loss: 0.5204 - val_accuracy: 0.7781 - lr: 0.0010\n",
            "Epoch 67/100\n",
            "286/303 [===========================>..] - ETA: 0s - loss: 0.4739 - accuracy: 0.8017\n",
            "Epoch 67: saving model to bestmodel.cover_type\n",
            "303/303 [==============================] - 2s 5ms/step - loss: 0.4726 - accuracy: 0.8015 - val_loss: 0.5072 - val_accuracy: 0.7872 - lr: 0.0010\n",
            "Epoch 68/100\n",
            "289/303 [===========================>..] - ETA: 0s - loss: 0.4694 - accuracy: 0.8100\n",
            "Epoch 68: saving model to bestmodel.cover_type\n",
            "303/303 [==============================] - 2s 5ms/step - loss: 0.4690 - accuracy: 0.8091 - val_loss: 0.4948 - val_accuracy: 0.7959 - lr: 0.0010\n",
            "Epoch 69/100\n",
            "300/303 [============================>.] - ETA: 0s - loss: 0.4695 - accuracy: 0.8064\n",
            "Epoch 69: saving model to bestmodel.cover_type\n",
            "303/303 [==============================] - 2s 5ms/step - loss: 0.4698 - accuracy: 0.8061 - val_loss: 0.5101 - val_accuracy: 0.7955 - lr: 0.0010\n",
            "Epoch 70/100\n",
            "293/303 [============================>.] - ETA: 0s - loss: 0.4600 - accuracy: 0.8064\n",
            "Epoch 70: saving model to bestmodel.cover_type\n",
            "303/303 [==============================] - 2s 5ms/step - loss: 0.4613 - accuracy: 0.8056 - val_loss: 0.4992 - val_accuracy: 0.7901 - lr: 0.0010\n",
            "Epoch 71/100\n",
            "295/303 [============================>.] - ETA: 0s - loss: 0.4609 - accuracy: 0.8075\n",
            "Epoch 71: saving model to bestmodel.cover_type\n",
            "303/303 [==============================] - 2s 5ms/step - loss: 0.4632 - accuracy: 0.8067 - val_loss: 0.4960 - val_accuracy: 0.7971 - lr: 0.0010\n",
            "Epoch 72/100\n",
            "296/303 [============================>.] - ETA: 0s - loss: 0.4663 - accuracy: 0.8054\n",
            "Epoch 72: saving model to bestmodel.cover_type\n",
            "303/303 [==============================] - 2s 5ms/step - loss: 0.4666 - accuracy: 0.8053 - val_loss: 0.4918 - val_accuracy: 0.7959 - lr: 0.0010\n",
            "Epoch 73/100\n",
            "302/303 [============================>.] - ETA: 0s - loss: 0.4627 - accuracy: 0.8073\n",
            "Epoch 73: saving model to bestmodel.cover_type\n",
            "303/303 [==============================] - 2s 7ms/step - loss: 0.4630 - accuracy: 0.8073 - val_loss: 0.4939 - val_accuracy: 0.7971 - lr: 0.0010\n",
            "Epoch 74/100\n",
            "302/303 [============================>.] - ETA: 0s - loss: 0.4605 - accuracy: 0.8061\n",
            "Epoch 74: saving model to bestmodel.cover_type\n",
            "303/303 [==============================] - 2s 5ms/step - loss: 0.4606 - accuracy: 0.8061 - val_loss: 0.5247 - val_accuracy: 0.7835 - lr: 0.0010\n",
            "Epoch 75/100\n",
            "285/303 [===========================>..] - ETA: 0s - loss: 0.4631 - accuracy: 0.8092\n",
            "Epoch 75: saving model to bestmodel.cover_type\n",
            "303/303 [==============================] - 2s 5ms/step - loss: 0.4599 - accuracy: 0.8095 - val_loss: 0.4894 - val_accuracy: 0.7983 - lr: 0.0010\n",
            "Epoch 76/100\n",
            "281/303 [==========================>...] - ETA: 0s - loss: 0.4545 - accuracy: 0.8118\n",
            "Epoch 76: saving model to bestmodel.cover_type\n",
            "303/303 [==============================] - 2s 5ms/step - loss: 0.4556 - accuracy: 0.8107 - val_loss: 0.5105 - val_accuracy: 0.7855 - lr: 0.0010\n",
            "Epoch 77/100\n",
            "299/303 [============================>.] - ETA: 0s - loss: 0.4548 - accuracy: 0.8139\n",
            "Epoch 77: saving model to bestmodel.cover_type\n",
            "303/303 [==============================] - 2s 5ms/step - loss: 0.4549 - accuracy: 0.8139 - val_loss: 0.4904 - val_accuracy: 0.7950 - lr: 0.0010\n",
            "Epoch 78/100\n",
            "287/303 [===========================>..] - ETA: 0s - loss: 0.4605 - accuracy: 0.8085\n",
            "Epoch 78: saving model to bestmodel.cover_type\n",
            "303/303 [==============================] - 1s 5ms/step - loss: 0.4563 - accuracy: 0.8103 - val_loss: 0.5058 - val_accuracy: 0.7880 - lr: 0.0010\n",
            "Epoch 79/100\n",
            "298/303 [============================>.] - ETA: 0s - loss: 0.4488 - accuracy: 0.8159\n",
            "Epoch 79: saving model to bestmodel.cover_type\n",
            "303/303 [==============================] - 2s 5ms/step - loss: 0.4488 - accuracy: 0.8152 - val_loss: 0.5004 - val_accuracy: 0.7901 - lr: 0.0010\n",
            "Epoch 80/100\n",
            "295/303 [============================>.] - ETA: 0s - loss: 0.4516 - accuracy: 0.8158\n",
            "Epoch 80: saving model to bestmodel.cover_type\n",
            "303/303 [==============================] - 1s 5ms/step - loss: 0.4528 - accuracy: 0.8153 - val_loss: 0.4905 - val_accuracy: 0.7963 - lr: 0.0010\n",
            "Epoch 81/100\n",
            "289/303 [===========================>..] - ETA: 0s - loss: 0.4497 - accuracy: 0.8119\n",
            "Epoch 81: saving model to bestmodel.cover_type\n",
            "303/303 [==============================] - 2s 5ms/step - loss: 0.4477 - accuracy: 0.8134 - val_loss: 0.4944 - val_accuracy: 0.7963 - lr: 0.0010\n",
            "Epoch 82/100\n",
            "298/303 [============================>.] - ETA: 0s - loss: 0.4504 - accuracy: 0.8119\n",
            "Epoch 82: saving model to bestmodel.cover_type\n",
            "303/303 [==============================] - 2s 5ms/step - loss: 0.4509 - accuracy: 0.8117 - val_loss: 0.4958 - val_accuracy: 0.7959 - lr: 0.0010\n",
            "Epoch 83/100\n",
            "298/303 [============================>.] - ETA: 0s - loss: 0.4488 - accuracy: 0.8131\n",
            "Epoch 83: saving model to bestmodel.cover_type\n",
            "303/303 [==============================] - 2s 5ms/step - loss: 0.4489 - accuracy: 0.8126 - val_loss: 0.4886 - val_accuracy: 0.7992 - lr: 0.0010\n",
            "Epoch 84/100\n",
            "296/303 [============================>.] - ETA: 0s - loss: 0.4520 - accuracy: 0.8141\n",
            "Epoch 84: saving model to bestmodel.cover_type\n",
            "303/303 [==============================] - 1s 5ms/step - loss: 0.4503 - accuracy: 0.8145 - val_loss: 0.5020 - val_accuracy: 0.8066 - lr: 0.0010\n",
            "Epoch 85/100\n",
            "302/303 [============================>.] - ETA: 0s - loss: 0.4402 - accuracy: 0.8168\n",
            "Epoch 85: saving model to bestmodel.cover_type\n",
            "303/303 [==============================] - 1s 5ms/step - loss: 0.4406 - accuracy: 0.8167 - val_loss: 0.4939 - val_accuracy: 0.7971 - lr: 0.0010\n",
            "Epoch 85: early stopping\n"
          ]
        }
      ]
    },
    {
      "cell_type": "code",
      "execution_count": null,
      "metadata": {
        "colab": {
          "base_uri": "https://localhost:8080/",
          "height": 282
        },
        "id": "paYgHL4oY1wU",
        "outputId": "6da5c67f-a078-417f-d322-09f8ef7f7c01"
      },
      "outputs": [
        {
          "output_type": "execute_result",
          "data": {
            "text/plain": [
              "[<matplotlib.lines.Line2D at 0x7f540d8bb790>]"
            ]
          },
          "metadata": {},
          "execution_count": 56
        },
        {
          "output_type": "display_data",
          "data": {
            "text/plain": [
              "<Figure size 432x288 with 1 Axes>"
            ],
            "image/png": "[encoded data removed]"
          },
          "metadata": {
            "needs_background": "light"
          }
        }
      ],
      "source": [
        "import matplotlib.pyplot as plt\n",
        "plt.plot(history.history['loss'])\n",
        "plt.plot(history.history['val_loss'])"
      ]
    },
    {
      "cell_type": "code",
      "execution_count": null,
      "metadata": {
        "id": "jqL5J6F3ELNh"
      },
      "outputs": [],
      "source": [
        "from keras.models import load_model"
      ]
    },
    {
      "cell_type": "code",
      "execution_count": null,
      "metadata": {
        "id": "C0mmnOULELPx"
      },
      "outputs": [],
      "source": [
        "bestmodel = load_model('bestmodel.cover_type')"
      ]
    },
    {
      "cell_type": "code",
      "execution_count": null,
      "metadata": {
        "colab": {
          "base_uri": "https://localhost:8080/"
        },
        "id": "zj85aDMHELUO",
        "outputId": "e7f70146-42b1-43f4-c506-892c448a89e0"
      },
      "outputs": [
        {
          "output_type": "stream",
          "name": "stdout",
          "text": [
            "95/95 [==============================] - 0s 1ms/step - loss: 0.5127 - accuracy: 0.7880\n"
          ]
        },
        {
          "output_type": "execute_result",
          "data": {
            "text/plain": [
              "[0.5127115249633789, 0.7880290746688843]"
            ]
          },
          "metadata": {},
          "execution_count": 59
        }
      ],
      "source": [
        "bestmodel.evaluate(X_test, ytest)\n"
      ]
    },
    {
      "cell_type": "code",
      "execution_count": null,
      "metadata": {
        "id": "jQHi9Qg-ELW7"
      },
      "outputs": [],
      "source": [
        "#assume Bayes error - 0.1  so accuracy = 99"
      ]
    },
    {
      "cell_type": "code",
      "execution_count": null,
      "metadata": {
        "id": "F-rF9PIwELZ1"
      },
      "outputs": [],
      "source": [
        "#Avoidable bias or variance\n",
        "#steps to solve\n",
        "\n",
        "#Avoidable bias = bayes accuracy - training accuracy    0.99-0.7987=0.1913\n",
        "#Variance = training accuracy - validation accuracy     0.7987-0.776=0.0227\n",
        "\n",
        "#Variance < Avoidable bias\n",
        "\n"
      ]
    }
  ],
  "metadata": {
    "colab": {
      "provenance": [],
      "authorship_tag": "ABX9TyPKYpZExb8U+MrEd4AL0TxJ",
      "include_colab_link": true
    },
    "kernelspec": {
      "display_name": "Python 3",
      "name": "python3"
    },
    "language_info": {
      "name": "python"
    }
  },
  "nbformat": 4,
  "nbformat_minor": 0
}