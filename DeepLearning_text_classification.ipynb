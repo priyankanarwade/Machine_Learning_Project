{
  "nbformat": 4,
  "nbformat_minor": 0,
  "metadata": {
    "colab": {
      "provenance": [],
      "authorship_tag": "ABX9TyPt2gDUsKV031E3iF6bql6u",
      "include_colab_link": true
    },
    "kernelspec": {
      "name": "python3",
      "display_name": "Python 3"
    },
    "language_info": {
      "name": "python"
    }
  },
  "cells": [
    {
      "cell_type": "markdown",
      "metadata": {
        "id": "view-in-github",
        "colab_type": "text"
      },
      "source": [
        "<a href=\"https://colab.research.google.com/github/priyankanarwade/Machine_Learning_Project/blob/main/DeepLearning_text_classification.ipynb\" target=\"_parent\"><img src=\"https://colab.research.google.com/assets/colab-badge.svg\" alt=\"Open In Colab\"/></a>"
      ]
    },
    {
      "cell_type": "code",
      "execution_count": null,
      "metadata": {
        "id": "xL5Oe-HCtl9O"
      },
      "outputs": [],
      "source": [
        "import numpy as np\n",
        "import pandas as pd\n",
        "import os"
      ]
    },
    {
      "cell_type": "code",
      "source": [
        "from google.colab import drive\n",
        "drive.mount('/content/drive')"
      ],
      "metadata": {
        "colab": {
          "base_uri": "https://localhost:8080/"
        },
        "id": "ARH_QRZmAnoX",
        "outputId": "378382df-2bf4-45e6-d5f4-06e88cb39bd8"
      },
      "execution_count": null,
      "outputs": [
        {
          "output_type": "stream",
          "name": "stdout",
          "text": [
            "Drive already mounted at /content/drive; to attempt to forcibly remount, call drive.mount(\"/content/drive\", force_remount=True).\n"
          ]
        }
      ]
    },
    {
      "cell_type": "code",
      "source": [
        "df_true = pd.read_csv(\"/content/drive/MyDrive/priyanka narwade - True.csv\")\n",
        "df_fake = pd.read_csv(\"/content/drive/MyDrive/priyanka narwade - Fake.csv\")"
      ],
      "metadata": {
        "id": "WOJljSKQEARY"
      },
      "execution_count": null,
      "outputs": []
    },
    {
      "cell_type": "code",
      "source": [
        "df_true.shape"
      ],
      "metadata": {
        "colab": {
          "base_uri": "https://localhost:8080/"
        },
        "id": "2Bu-zaWOKELK",
        "outputId": "9c31da5b-6d37-4d84-9199-0d28dbd6e868"
      },
      "execution_count": null,
      "outputs": [
        {
          "output_type": "execute_result",
          "data": {
            "text/plain": [
              "(21417, 4)"
            ]
          },
          "metadata": {},
          "execution_count": 17
        }
      ]
    },
    {
      "cell_type": "code",
      "source": [
        "df_fake.shape"
      ],
      "metadata": {
        "colab": {
          "base_uri": "https://localhost:8080/"
        },
        "id": "QWjK_RsoKHyK",
        "outputId": "7b08dc83-50fd-4105-d639-48da0ebba43d"
      },
      "execution_count": null,
      "outputs": [
        {
          "output_type": "execute_result",
          "data": {
            "text/plain": [
              "(23481, 4)"
            ]
          },
          "metadata": {},
          "execution_count": 18
        }
      ]
    },
    {
      "cell_type": "code",
      "source": [
        "df_true.head()"
      ],
      "metadata": {
        "colab": {
          "base_uri": "https://localhost:8080/",
          "height": 206
        },
        "id": "NS1f-v0_MDy3",
        "outputId": "9c64df05-b05f-412e-b1a9-6d0f555d7354"
      },
      "execution_count": null,
      "outputs": [
        {
          "output_type": "execute_result",
          "data": {
            "text/plain": [
              "                                               title  \\\n",
              "0  As U.S. budget fight looms, Republicans flip t...   \n",
              "1  U.S. military to accept transgender recruits o...   \n",
              "2  Senior U.S. Republican senator: 'Let Mr. Muell...   \n",
              "3  FBI Russia probe helped by Australian diplomat...   \n",
              "4  Trump wants Postal Service to charge 'much mor...   \n",
              "\n",
              "                                                text       subject  \\\n",
              "0  WASHINGTON (Reuters) - The head of a conservat...  politicsNews   \n",
              "1  WASHINGTON (Reuters) - Transgender people will...  politicsNews   \n",
              "2  WASHINGTON (Reuters) - The special counsel inv...  politicsNews   \n",
              "3  WASHINGTON (Reuters) - Trump campaign adviser ...  politicsNews   \n",
              "4  SEATTLE/WASHINGTON (Reuters) - President Donal...  politicsNews   \n",
              "\n",
              "                 date  \n",
              "0  December 31, 2017   \n",
              "1  December 29, 2017   \n",
              "2  December 31, 2017   \n",
              "3  December 30, 2017   \n",
              "4  December 29, 2017   "
            ],
            "text/html": [
              "\n",
              "  <div id=\"df-e02fdc87-a5ba-4a47-a65e-f2ebc334e2c1\">\n",
              "    <div class=\"colab-df-container\">\n",
              "      <div>\n",
              "<style scoped>\n",
              "    .dataframe tbody tr th:only-of-type {\n",
              "        vertical-align: middle;\n",
              "    }\n",
              "\n",
              "    .dataframe tbody tr th {\n",
              "        vertical-align: top;\n",
              "    }\n",
              "\n",
              "    .dataframe thead th {\n",
              "        text-align: right;\n",
              "    }\n",
              "</style>\n",
              "<table border=\"1\" class=\"dataframe\">\n",
              "  <thead>\n",
              "    <tr style=\"text-align: right;\">\n",
              "      <th></th>\n",
              "      <th>title</th>\n",
              "      <th>text</th>\n",
              "      <th>subject</th>\n",
              "      <th>date</th>\n",
              "    </tr>\n",
              "  </thead>\n",
              "  <tbody>\n",
              "    <tr>\n",
              "      <th>0</th>\n",
              "      <td>As U.S. budget fight looms, Republicans flip t...</td>\n",
              "      <td>WASHINGTON (Reuters) - The head of a conservat...</td>\n",
              "      <td>politicsNews</td>\n",
              "      <td>December 31, 2017</td>\n",
              "    </tr>\n",
              "    <tr>\n",
              "      <th>1</th>\n",
              "      <td>U.S. military to accept transgender recruits o...</td>\n",
              "      <td>WASHINGTON (Reuters) - Transgender people will...</td>\n",
              "      <td>politicsNews</td>\n",
              "      <td>December 29, 2017</td>\n",
              "    </tr>\n",
              "    <tr>\n",
              "      <th>2</th>\n",
              "      <td>Senior U.S. Republican senator: 'Let Mr. Muell...</td>\n",
              "      <td>WASHINGTON (Reuters) - The special counsel inv...</td>\n",
              "      <td>politicsNews</td>\n",
              "      <td>December 31, 2017</td>\n",
              "    </tr>\n",
              "    <tr>\n",
              "      <th>3</th>\n",
              "      <td>FBI Russia probe helped by Australian diplomat...</td>\n",
              "      <td>WASHINGTON (Reuters) - Trump campaign adviser ...</td>\n",
              "      <td>politicsNews</td>\n",
              "      <td>December 30, 2017</td>\n",
              "    </tr>\n",
              "    <tr>\n",
              "      <th>4</th>\n",
              "      <td>Trump wants Postal Service to charge 'much mor...</td>\n",
              "      <td>SEATTLE/WASHINGTON (Reuters) - President Donal...</td>\n",
              "      <td>politicsNews</td>\n",
              "      <td>December 29, 2017</td>\n",
              "    </tr>\n",
              "  </tbody>\n",
              "</table>\n",
              "</div>\n",
              "      <button class=\"colab-df-convert\" onclick=\"convertToInteractive('df-e02fdc87-a5ba-4a47-a65e-f2ebc334e2c1')\"\n",
              "              title=\"Convert this dataframe to an interactive table.\"\n",
              "              style=\"display:none;\">\n",
              "        \n",
              "  <svg xmlns=\"http://www.w3.org/2000/svg\" height=\"24px\"viewBox=\"0 0 24 24\"\n",
              "       width=\"24px\">\n",
              "    <path d=\"M0 0h24v24H0V0z\" fill=\"none\"/>\n",
              "    <path d=\"M18.56 5.44l.94 2.06.94-2.06 2.06-.94-2.06-.94-.94-2.06-.94 2.06-2.06.94zm-11 1L8.5 8.5l.94-2.06 2.06-.94-2.06-.94L8.5 2.5l-.94 2.06-2.06.94zm10 10l.94 2.06.94-2.06 2.06-.94-2.06-.94-.94-2.06-.94 2.06-2.06.94z\"/><path d=\"M17.41 7.96l-1.37-1.37c-.4-.4-.92-.59-1.43-.59-.52 0-1.04.2-1.43.59L10.3 9.45l-7.72 7.72c-.78.78-.78 2.05 0 2.83L4 21.41c.39.39.9.59 1.41.59.51 0 1.02-.2 1.41-.59l7.78-7.78 2.81-2.81c.8-.78.8-2.07 0-2.86zM5.41 20L4 18.59l7.72-7.72 1.47 1.35L5.41 20z\"/>\n",
              "  </svg>\n",
              "      </button>\n",
              "      \n",
              "  <style>\n",
              "    .colab-df-container {\n",
              "      display:flex;\n",
              "      flex-wrap:wrap;\n",
              "      gap: 12px;\n",
              "    }\n",
              "\n",
              "    .colab-df-convert {\n",
              "      background-color: #E8F0FE;\n",
              "      border: none;\n",
              "      border-radius: 50%;\n",
              "      cursor: pointer;\n",
              "      display: none;\n",
              "      fill: #1967D2;\n",
              "      height: 32px;\n",
              "      padding: 0 0 0 0;\n",
              "      width: 32px;\n",
              "    }\n",
              "\n",
              "    .colab-df-convert:hover {\n",
              "      background-color: #E2EBFA;\n",
              "      box-shadow: 0px 1px 2px rgba(60, 64, 67, 0.3), 0px 1px 3px 1px rgba(60, 64, 67, 0.15);\n",
              "      fill: #174EA6;\n",
              "    }\n",
              "\n",
              "    [theme=dark] .colab-df-convert {\n",
              "      background-color: #3B4455;\n",
              "      fill: #D2E3FC;\n",
              "    }\n",
              "\n",
              "    [theme=dark] .colab-df-convert:hover {\n",
              "      background-color: #434B5C;\n",
              "      box-shadow: 0px 1px 3px 1px rgba(0, 0, 0, 0.15);\n",
              "      filter: drop-shadow(0px 1px 2px rgba(0, 0, 0, 0.3));\n",
              "      fill: #FFFFFF;\n",
              "    }\n",
              "  </style>\n",
              "\n",
              "      <script>\n",
              "        const buttonEl =\n",
              "          document.querySelector('#df-e02fdc87-a5ba-4a47-a65e-f2ebc334e2c1 button.colab-df-convert');\n",
              "        buttonEl.style.display =\n",
              "          google.colab.kernel.accessAllowed ? 'block' : 'none';\n",
              "\n",
              "        async function convertToInteractive(key) {\n",
              "          const element = document.querySelector('#df-e02fdc87-a5ba-4a47-a65e-f2ebc334e2c1');\n",
              "          const dataTable =\n",
              "            await google.colab.kernel.invokeFunction('convertToInteractive',\n",
              "                                                     [key], {});\n",
              "          if (!dataTable) return;\n",
              "\n",
              "          const docLinkHtml = 'Like what you see? Visit the ' +\n",
              "            '<a target=\"_blank\" href=https://colab.research.google.com/notebooks/data_table.ipynb>data table notebook</a>'\n",
              "            + ' to learn more about interactive tables.';\n",
              "          element.innerHTML = '';\n",
              "          dataTable['output_type'] = 'display_data';\n",
              "          await google.colab.output.renderOutput(dataTable, element);\n",
              "          const docLink = document.createElement('div');\n",
              "          docLink.innerHTML = docLinkHtml;\n",
              "          element.appendChild(docLink);\n",
              "        }\n",
              "      </script>\n",
              "    </div>\n",
              "  </div>\n",
              "  "
            ]
          },
          "metadata": {},
          "execution_count": 19
        }
      ]
    },
    {
      "cell_type": "code",
      "source": [
        "df_fake.head()"
      ],
      "metadata": {
        "colab": {
          "base_uri": "https://localhost:8080/",
          "height": 206
        },
        "id": "o3-sayZY8dNw",
        "outputId": "b08484cc-1f8f-47e0-d300-65a8fb5dc615"
      },
      "execution_count": null,
      "outputs": [
        {
          "output_type": "execute_result",
          "data": {
            "text/plain": [
              "                                               title  \\\n",
              "0   Donald Trump Sends Out Embarrassing New Year’...   \n",
              "1   Drunk Bragging Trump Staffer Started Russian ...   \n",
              "2   Sheriff David Clarke Becomes An Internet Joke...   \n",
              "3   Trump Is So Obsessed He Even Has Obama’s Name...   \n",
              "4   Pope Francis Just Called Out Donald Trump Dur...   \n",
              "\n",
              "                                                text subject  \\\n",
              "0  Donald Trump just couldn t wish all Americans ...    News   \n",
              "1  House Intelligence Committee Chairman Devin Nu...    News   \n",
              "2  On Friday, it was revealed that former Milwauk...    News   \n",
              "3  On Christmas day, Donald Trump announced that ...    News   \n",
              "4  Pope Francis used his annual Christmas Day mes...    News   \n",
              "\n",
              "                date  \n",
              "0  December 31, 2017  \n",
              "1  December 31, 2017  \n",
              "2  December 30, 2017  \n",
              "3  December 29, 2017  \n",
              "4  December 25, 2017  "
            ],
            "text/html": [
              "\n",
              "  <div id=\"df-23ad3b9e-e24d-4529-8b02-e496b9091e3d\">\n",
              "    <div class=\"colab-df-container\">\n",
              "      <div>\n",
              "<style scoped>\n",
              "    .dataframe tbody tr th:only-of-type {\n",
              "        vertical-align: middle;\n",
              "    }\n",
              "\n",
              "    .dataframe tbody tr th {\n",
              "        vertical-align: top;\n",
              "    }\n",
              "\n",
              "    .dataframe thead th {\n",
              "        text-align: right;\n",
              "    }\n",
              "</style>\n",
              "<table border=\"1\" class=\"dataframe\">\n",
              "  <thead>\n",
              "    <tr style=\"text-align: right;\">\n",
              "      <th></th>\n",
              "      <th>title</th>\n",
              "      <th>text</th>\n",
              "      <th>subject</th>\n",
              "      <th>date</th>\n",
              "    </tr>\n",
              "  </thead>\n",
              "  <tbody>\n",
              "    <tr>\n",
              "      <th>0</th>\n",
              "      <td>Donald Trump Sends Out Embarrassing New Year’...</td>\n",
              "      <td>Donald Trump just couldn t wish all Americans ...</td>\n",
              "      <td>News</td>\n",
              "      <td>December 31, 2017</td>\n",
              "    </tr>\n",
              "    <tr>\n",
              "      <th>1</th>\n",
              "      <td>Drunk Bragging Trump Staffer Started Russian ...</td>\n",
              "      <td>House Intelligence Committee Chairman Devin Nu...</td>\n",
              "      <td>News</td>\n",
              "      <td>December 31, 2017</td>\n",
              "    </tr>\n",
              "    <tr>\n",
              "      <th>2</th>\n",
              "      <td>Sheriff David Clarke Becomes An Internet Joke...</td>\n",
              "      <td>On Friday, it was revealed that former Milwauk...</td>\n",
              "      <td>News</td>\n",
              "      <td>December 30, 2017</td>\n",
              "    </tr>\n",
              "    <tr>\n",
              "      <th>3</th>\n",
              "      <td>Trump Is So Obsessed He Even Has Obama’s Name...</td>\n",
              "      <td>On Christmas day, Donald Trump announced that ...</td>\n",
              "      <td>News</td>\n",
              "      <td>December 29, 2017</td>\n",
              "    </tr>\n",
              "    <tr>\n",
              "      <th>4</th>\n",
              "      <td>Pope Francis Just Called Out Donald Trump Dur...</td>\n",
              "      <td>Pope Francis used his annual Christmas Day mes...</td>\n",
              "      <td>News</td>\n",
              "      <td>December 25, 2017</td>\n",
              "    </tr>\n",
              "  </tbody>\n",
              "</table>\n",
              "</div>\n",
              "      <button class=\"colab-df-convert\" onclick=\"convertToInteractive('df-23ad3b9e-e24d-4529-8b02-e496b9091e3d')\"\n",
              "              title=\"Convert this dataframe to an interactive table.\"\n",
              "              style=\"display:none;\">\n",
              "        \n",
              "  <svg xmlns=\"http://www.w3.org/2000/svg\" height=\"24px\"viewBox=\"0 0 24 24\"\n",
              "       width=\"24px\">\n",
              "    <path d=\"M0 0h24v24H0V0z\" fill=\"none\"/>\n",
              "    <path d=\"M18.56 5.44l.94 2.06.94-2.06 2.06-.94-2.06-.94-.94-2.06-.94 2.06-2.06.94zm-11 1L8.5 8.5l.94-2.06 2.06-.94-2.06-.94L8.5 2.5l-.94 2.06-2.06.94zm10 10l.94 2.06.94-2.06 2.06-.94-2.06-.94-.94-2.06-.94 2.06-2.06.94z\"/><path d=\"M17.41 7.96l-1.37-1.37c-.4-.4-.92-.59-1.43-.59-.52 0-1.04.2-1.43.59L10.3 9.45l-7.72 7.72c-.78.78-.78 2.05 0 2.83L4 21.41c.39.39.9.59 1.41.59.51 0 1.02-.2 1.41-.59l7.78-7.78 2.81-2.81c.8-.78.8-2.07 0-2.86zM5.41 20L4 18.59l7.72-7.72 1.47 1.35L5.41 20z\"/>\n",
              "  </svg>\n",
              "      </button>\n",
              "      \n",
              "  <style>\n",
              "    .colab-df-container {\n",
              "      display:flex;\n",
              "      flex-wrap:wrap;\n",
              "      gap: 12px;\n",
              "    }\n",
              "\n",
              "    .colab-df-convert {\n",
              "      background-color: #E8F0FE;\n",
              "      border: none;\n",
              "      border-radius: 50%;\n",
              "      cursor: pointer;\n",
              "      display: none;\n",
              "      fill: #1967D2;\n",
              "      height: 32px;\n",
              "      padding: 0 0 0 0;\n",
              "      width: 32px;\n",
              "    }\n",
              "\n",
              "    .colab-df-convert:hover {\n",
              "      background-color: #E2EBFA;\n",
              "      box-shadow: 0px 1px 2px rgba(60, 64, 67, 0.3), 0px 1px 3px 1px rgba(60, 64, 67, 0.15);\n",
              "      fill: #174EA6;\n",
              "    }\n",
              "\n",
              "    [theme=dark] .colab-df-convert {\n",
              "      background-color: #3B4455;\n",
              "      fill: #D2E3FC;\n",
              "    }\n",
              "\n",
              "    [theme=dark] .colab-df-convert:hover {\n",
              "      background-color: #434B5C;\n",
              "      box-shadow: 0px 1px 3px 1px rgba(0, 0, 0, 0.15);\n",
              "      filter: drop-shadow(0px 1px 2px rgba(0, 0, 0, 0.3));\n",
              "      fill: #FFFFFF;\n",
              "    }\n",
              "  </style>\n",
              "\n",
              "      <script>\n",
              "        const buttonEl =\n",
              "          document.querySelector('#df-23ad3b9e-e24d-4529-8b02-e496b9091e3d button.colab-df-convert');\n",
              "        buttonEl.style.display =\n",
              "          google.colab.kernel.accessAllowed ? 'block' : 'none';\n",
              "\n",
              "        async function convertToInteractive(key) {\n",
              "          const element = document.querySelector('#df-23ad3b9e-e24d-4529-8b02-e496b9091e3d');\n",
              "          const dataTable =\n",
              "            await google.colab.kernel.invokeFunction('convertToInteractive',\n",
              "                                                     [key], {});\n",
              "          if (!dataTable) return;\n",
              "\n",
              "          const docLinkHtml = 'Like what you see? Visit the ' +\n",
              "            '<a target=\"_blank\" href=https://colab.research.google.com/notebooks/data_table.ipynb>data table notebook</a>'\n",
              "            + ' to learn more about interactive tables.';\n",
              "          element.innerHTML = '';\n",
              "          dataTable['output_type'] = 'display_data';\n",
              "          await google.colab.output.renderOutput(dataTable, element);\n",
              "          const docLink = document.createElement('div');\n",
              "          docLink.innerHTML = docLinkHtml;\n",
              "          element.appendChild(docLink);\n",
              "        }\n",
              "      </script>\n",
              "    </div>\n",
              "  </div>\n",
              "  "
            ]
          },
          "metadata": {},
          "execution_count": 20
        }
      ]
    },
    {
      "cell_type": "code",
      "source": [
        "df_true['istrue']= 1"
      ],
      "metadata": {
        "id": "-dyznGsC8dPk"
      },
      "execution_count": null,
      "outputs": []
    },
    {
      "cell_type": "code",
      "source": [
        "df_fake['istrue']= 0"
      ],
      "metadata": {
        "id": "hC48ZXSE8dSI"
      },
      "execution_count": null,
      "outputs": []
    },
    {
      "cell_type": "code",
      "source": [
        "df =pd.concat([df_true,df_fake]).reset_index(drop=True)"
      ],
      "metadata": {
        "id": "HPFHyPTw8dVF"
      },
      "execution_count": null,
      "outputs": []
    },
    {
      "cell_type": "code",
      "source": [
        "df.head()"
      ],
      "metadata": {
        "colab": {
          "base_uri": "https://localhost:8080/",
          "height": 206
        },
        "id": "4PdPs-208dX2",
        "outputId": "141448b9-a348-4520-9c73-18f174030cc8"
      },
      "execution_count": null,
      "outputs": [
        {
          "output_type": "execute_result",
          "data": {
            "text/plain": [
              "                                               title  \\\n",
              "0  As U.S. budget fight looms, Republicans flip t...   \n",
              "1  U.S. military to accept transgender recruits o...   \n",
              "2  Senior U.S. Republican senator: 'Let Mr. Muell...   \n",
              "3  FBI Russia probe helped by Australian diplomat...   \n",
              "4  Trump wants Postal Service to charge 'much mor...   \n",
              "\n",
              "                                                text       subject  \\\n",
              "0  WASHINGTON (Reuters) - The head of a conservat...  politicsNews   \n",
              "1  WASHINGTON (Reuters) - Transgender people will...  politicsNews   \n",
              "2  WASHINGTON (Reuters) - The special counsel inv...  politicsNews   \n",
              "3  WASHINGTON (Reuters) - Trump campaign adviser ...  politicsNews   \n",
              "4  SEATTLE/WASHINGTON (Reuters) - President Donal...  politicsNews   \n",
              "\n",
              "                 date  istrue  \n",
              "0  December 31, 2017        1  \n",
              "1  December 29, 2017        1  \n",
              "2  December 31, 2017        1  \n",
              "3  December 30, 2017        1  \n",
              "4  December 29, 2017        1  "
            ],
            "text/html": [
              "\n",
              "  <div id=\"df-86784d78-5cb8-4af7-8112-8be37e989c59\">\n",
              "    <div class=\"colab-df-container\">\n",
              "      <div>\n",
              "<style scoped>\n",
              "    .dataframe tbody tr th:only-of-type {\n",
              "        vertical-align: middle;\n",
              "    }\n",
              "\n",
              "    .dataframe tbody tr th {\n",
              "        vertical-align: top;\n",
              "    }\n",
              "\n",
              "    .dataframe thead th {\n",
              "        text-align: right;\n",
              "    }\n",
              "</style>\n",
              "<table border=\"1\" class=\"dataframe\">\n",
              "  <thead>\n",
              "    <tr style=\"text-align: right;\">\n",
              "      <th></th>\n",
              "      <th>title</th>\n",
              "      <th>text</th>\n",
              "      <th>subject</th>\n",
              "      <th>date</th>\n",
              "      <th>istrue</th>\n",
              "    </tr>\n",
              "  </thead>\n",
              "  <tbody>\n",
              "    <tr>\n",
              "      <th>0</th>\n",
              "      <td>As U.S. budget fight looms, Republicans flip t...</td>\n",
              "      <td>WASHINGTON (Reuters) - The head of a conservat...</td>\n",
              "      <td>politicsNews</td>\n",
              "      <td>December 31, 2017</td>\n",
              "      <td>1</td>\n",
              "    </tr>\n",
              "    <tr>\n",
              "      <th>1</th>\n",
              "      <td>U.S. military to accept transgender recruits o...</td>\n",
              "      <td>WASHINGTON (Reuters) - Transgender people will...</td>\n",
              "      <td>politicsNews</td>\n",
              "      <td>December 29, 2017</td>\n",
              "      <td>1</td>\n",
              "    </tr>\n",
              "    <tr>\n",
              "      <th>2</th>\n",
              "      <td>Senior U.S. Republican senator: 'Let Mr. Muell...</td>\n",
              "      <td>WASHINGTON (Reuters) - The special counsel inv...</td>\n",
              "      <td>politicsNews</td>\n",
              "      <td>December 31, 2017</td>\n",
              "      <td>1</td>\n",
              "    </tr>\n",
              "    <tr>\n",
              "      <th>3</th>\n",
              "      <td>FBI Russia probe helped by Australian diplomat...</td>\n",
              "      <td>WASHINGTON (Reuters) - Trump campaign adviser ...</td>\n",
              "      <td>politicsNews</td>\n",
              "      <td>December 30, 2017</td>\n",
              "      <td>1</td>\n",
              "    </tr>\n",
              "    <tr>\n",
              "      <th>4</th>\n",
              "      <td>Trump wants Postal Service to charge 'much mor...</td>\n",
              "      <td>SEATTLE/WASHINGTON (Reuters) - President Donal...</td>\n",
              "      <td>politicsNews</td>\n",
              "      <td>December 29, 2017</td>\n",
              "      <td>1</td>\n",
              "    </tr>\n",
              "  </tbody>\n",
              "</table>\n",
              "</div>\n",
              "      <button class=\"colab-df-convert\" onclick=\"convertToInteractive('df-86784d78-5cb8-4af7-8112-8be37e989c59')\"\n",
              "              title=\"Convert this dataframe to an interactive table.\"\n",
              "              style=\"display:none;\">\n",
              "        \n",
              "  <svg xmlns=\"http://www.w3.org/2000/svg\" height=\"24px\"viewBox=\"0 0 24 24\"\n",
              "       width=\"24px\">\n",
              "    <path d=\"M0 0h24v24H0V0z\" fill=\"none\"/>\n",
              "    <path d=\"M18.56 5.44l.94 2.06.94-2.06 2.06-.94-2.06-.94-.94-2.06-.94 2.06-2.06.94zm-11 1L8.5 8.5l.94-2.06 2.06-.94-2.06-.94L8.5 2.5l-.94 2.06-2.06.94zm10 10l.94 2.06.94-2.06 2.06-.94-2.06-.94-.94-2.06-.94 2.06-2.06.94z\"/><path d=\"M17.41 7.96l-1.37-1.37c-.4-.4-.92-.59-1.43-.59-.52 0-1.04.2-1.43.59L10.3 9.45l-7.72 7.72c-.78.78-.78 2.05 0 2.83L4 21.41c.39.39.9.59 1.41.59.51 0 1.02-.2 1.41-.59l7.78-7.78 2.81-2.81c.8-.78.8-2.07 0-2.86zM5.41 20L4 18.59l7.72-7.72 1.47 1.35L5.41 20z\"/>\n",
              "  </svg>\n",
              "      </button>\n",
              "      \n",
              "  <style>\n",
              "    .colab-df-container {\n",
              "      display:flex;\n",
              "      flex-wrap:wrap;\n",
              "      gap: 12px;\n",
              "    }\n",
              "\n",
              "    .colab-df-convert {\n",
              "      background-color: #E8F0FE;\n",
              "      border: none;\n",
              "      border-radius: 50%;\n",
              "      cursor: pointer;\n",
              "      display: none;\n",
              "      fill: #1967D2;\n",
              "      height: 32px;\n",
              "      padding: 0 0 0 0;\n",
              "      width: 32px;\n",
              "    }\n",
              "\n",
              "    .colab-df-convert:hover {\n",
              "      background-color: #E2EBFA;\n",
              "      box-shadow: 0px 1px 2px rgba(60, 64, 67, 0.3), 0px 1px 3px 1px rgba(60, 64, 67, 0.15);\n",
              "      fill: #174EA6;\n",
              "    }\n",
              "\n",
              "    [theme=dark] .colab-df-convert {\n",
              "      background-color: #3B4455;\n",
              "      fill: #D2E3FC;\n",
              "    }\n",
              "\n",
              "    [theme=dark] .colab-df-convert:hover {\n",
              "      background-color: #434B5C;\n",
              "      box-shadow: 0px 1px 3px 1px rgba(0, 0, 0, 0.15);\n",
              "      filter: drop-shadow(0px 1px 2px rgba(0, 0, 0, 0.3));\n",
              "      fill: #FFFFFF;\n",
              "    }\n",
              "  </style>\n",
              "\n",
              "      <script>\n",
              "        const buttonEl =\n",
              "          document.querySelector('#df-86784d78-5cb8-4af7-8112-8be37e989c59 button.colab-df-convert');\n",
              "        buttonEl.style.display =\n",
              "          google.colab.kernel.accessAllowed ? 'block' : 'none';\n",
              "\n",
              "        async function convertToInteractive(key) {\n",
              "          const element = document.querySelector('#df-86784d78-5cb8-4af7-8112-8be37e989c59');\n",
              "          const dataTable =\n",
              "            await google.colab.kernel.invokeFunction('convertToInteractive',\n",
              "                                                     [key], {});\n",
              "          if (!dataTable) return;\n",
              "\n",
              "          const docLinkHtml = 'Like what you see? Visit the ' +\n",
              "            '<a target=\"_blank\" href=https://colab.research.google.com/notebooks/data_table.ipynb>data table notebook</a>'\n",
              "            + ' to learn more about interactive tables.';\n",
              "          element.innerHTML = '';\n",
              "          dataTable['output_type'] = 'display_data';\n",
              "          await google.colab.output.renderOutput(dataTable, element);\n",
              "          const docLink = document.createElement('div');\n",
              "          docLink.innerHTML = docLinkHtml;\n",
              "          element.appendChild(docLink);\n",
              "        }\n",
              "      </script>\n",
              "    </div>\n",
              "  </div>\n",
              "  "
            ]
          },
          "metadata": {},
          "execution_count": 24
        }
      ]
    },
    {
      "cell_type": "code",
      "source": [
        "df.drop(columns=['date'], inplace=True)"
      ],
      "metadata": {
        "id": "My3Z4xOK8daS"
      },
      "execution_count": null,
      "outputs": []
    },
    {
      "cell_type": "code",
      "source": [
        "df['news'] = df['title']+ \" \"+ df['text']"
      ],
      "metadata": {
        "id": "SzmEyzSy8dcx"
      },
      "execution_count": null,
      "outputs": []
    },
    {
      "cell_type": "code",
      "source": [
        "df['news'][1]"
      ],
      "metadata": {
        "colab": {
          "base_uri": "https://localhost:8080/",
          "height": 140
        },
        "id": "X2UUQOjt8dgd",
        "outputId": "f6eeb587-4e9b-41f6-83f4-a309a621ebc5"
      },
      "execution_count": null,
      "outputs": [
        {
          "output_type": "execute_result",
          "data": {
            "text/plain": [
              "'U.S. military to accept transgender recruits on Monday: Pentagon WASHINGTON (Reuters) - Transgender people will be allowed for the first time to enlist in the U.S. military starting on Monday as ordered by federal courts, the Pentagon said on Friday, after President Donald Trump’s administration decided not to appeal rulings that blocked his transgender ban. Two federal appeals courts, one in Washington and one in Virginia, last week rejected the administration’s request to put on hold orders by lower court judges requiring the military to begin accepting transgender recruits on Jan. 1. A Justice Department official said the administration will not challenge those rulings. “The Department of Defense has announced that it will be releasing an independent study of these issues in the coming weeks. So rather than litigate this interim appeal before that occurs, the administration has decided to wait for DOD’s study and will continue to defend the president’s lawful authority in District Court in the meantime,” the official said, speaking on condition of anonymity. In September, the Pentagon said it had created a panel of senior officials to study how to implement a directive by Trump to prohibit transgender individuals from serving. The Defense Department has until Feb. 21 to submit a plan to Trump. Lawyers representing currently-serving transgender service members and aspiring recruits said they had expected the administration to appeal the rulings to the conservative-majority Supreme Court, but were hoping that would not happen. Pentagon spokeswoman Heather Babb said in a statement: “As mandated by court order, the Department of Defense is prepared to begin accessing transgender applicants for military service Jan. 1. All applicants must meet all accession standards.” Jennifer Levi, a lawyer with gay, lesbian and transgender advocacy group GLAD, called the decision not to appeal “great news.” “I’m hoping it means the government has come to see that there is no way to justify a ban and that it’s not good for the military or our country,” Levi said. Both GLAD and the American Civil Liberties Union represent plaintiffs in the lawsuits filed against the administration. In a move that appealed to his hard-line conservative supporters, Trump announced in July that he would prohibit transgender people from serving in the military, reversing Democratic President Barack Obama’s policy of accepting them. Trump said on Twitter at the time that the military “cannot be burdened with the tremendous medical costs and disruption that transgender in the military would entail.” Four federal judges - in Baltimore, Washington, D.C., Seattle and Riverside, California - have issued rulings blocking Trump’s ban while legal challenges to the Republican president’s policy proceed. The judges said the ban would likely violate the right under the U.S. Constitution to equal protection under the law. The Pentagon on Dec. 8 issued guidelines to recruitment personnel in order to enlist transgender applicants by Jan. 1. The memo outlined medical requirements and specified how the applicants’ sex would be identified and even which undergarments they would wear. The Trump administration previously said in legal papers that the armed forces were not prepared to train thousands of personnel on the medical standards needed to process transgender applicants and might have to accept “some individuals who are not medically fit for service.” The Obama administration had set a deadline of July 1, 2017, to begin accepting transgender recruits. But Trump’s defense secretary, James Mattis, postponed that date to Jan. 1, 2018, which the president’s ban then put off indefinitely. Trump has taken other steps aimed at rolling back transgender rights. In October, his administration said a federal law banning gender-based workplace discrimination does not protect transgender employees, reversing another Obama-era position. In February, Trump rescinded guidance issued by the Obama administration saying that public schools should allow transgender students to use the restroom that corresponds to their gender identity. '"
            ],
            "application/vnd.google.colaboratory.intrinsic+json": {
              "type": "string"
            }
          },
          "metadata": {},
          "execution_count": 27
        }
      ]
    },
    {
      "cell_type": "code",
      "source": [
        "print(df.isnull().sum())"
      ],
      "metadata": {
        "colab": {
          "base_uri": "https://localhost:8080/"
        },
        "id": "8cbnOKkN-uRA",
        "outputId": "c8f9ca70-edc3-47ee-b821-5ac5b31d18db"
      },
      "execution_count": null,
      "outputs": [
        {
          "output_type": "stream",
          "name": "stdout",
          "text": [
            "title      0\n",
            "text       0\n",
            "subject    0\n",
            "istrue     0\n",
            "news       0\n",
            "dtype: int64\n"
          ]
        }
      ]
    },
    {
      "cell_type": "code",
      "source": [
        "# to remove non url, numbers and punctuations\n",
        "import re"
      ],
      "metadata": {
        "id": "rt_vtx7w-0U-"
      },
      "execution_count": null,
      "outputs": []
    },
    {
      "cell_type": "code",
      "source": [
        "def clean_url(text):\n",
        "    return re.sub(r'http\\s+','',text)\n",
        "    "
      ],
      "metadata": {
        "id": "_0_IlWGV-0Xj"
      },
      "execution_count": null,
      "outputs": []
    },
    {
      "cell_type": "code",
      "source": [
        "df['news']=df['news'].apply(clean_url)"
      ],
      "metadata": {
        "id": "py7tYKW--0bJ"
      },
      "execution_count": null,
      "outputs": []
    },
    {
      "cell_type": "code",
      "source": [
        "def clean_alphanumeric(text):\n",
        "    return re.sub('[^a-zA-Z]',' ',text)"
      ],
      "metadata": {
        "id": "5Rzigr2I-0dm"
      },
      "execution_count": null,
      "outputs": []
    },
    {
      "cell_type": "code",
      "source": [
        "df['news'] = df['news'].apply(clean_alphanumeric)"
      ],
      "metadata": {
        "id": "fWe46aCx-0g-"
      },
      "execution_count": null,
      "outputs": []
    },
    {
      "cell_type": "code",
      "source": [
        "df['news'][1]"
      ],
      "metadata": {
        "colab": {
          "base_uri": "https://localhost:8080/",
          "height": 140
        },
        "id": "nqxDd6ku-0je",
        "outputId": "3e4eb1e7-0074-482b-b690-771eaeb01813"
      },
      "execution_count": null,
      "outputs": [
        {
          "output_type": "execute_result",
          "data": {
            "text/plain": [
              "'U S  military to accept transgender recruits on Monday  Pentagon WASHINGTON  Reuters    Transgender people will be allowed for the first time to enlist in the U S  military starting on Monday as ordered by federal courts  the Pentagon said on Friday  after President Donald Trump s administration decided not to appeal rulings that blocked his transgender ban  Two federal appeals courts  one in Washington and one in Virginia  last week rejected the administration s request to put on hold orders by lower court judges requiring the military to begin accepting transgender recruits on Jan     A Justice Department official said the administration will not challenge those rulings   The Department of Defense has announced that it will be releasing an independent study of these issues in the coming weeks  So rather than litigate this interim appeal before that occurs  the administration has decided to wait for DOD s study and will continue to defend the president s lawful authority in District Court in the meantime   the official said  speaking on condition of anonymity  In September  the Pentagon said it had created a panel of senior officials to study how to implement a directive by Trump to prohibit transgender individuals from serving  The Defense Department has until Feb     to submit a plan to Trump  Lawyers representing currently serving transgender service members and aspiring recruits said they had expected the administration to appeal the rulings to the conservative majority Supreme Court  but were hoping that would not happen  Pentagon spokeswoman Heather Babb said in a statement   As mandated by court order  the Department of Defense is prepared to begin accessing transgender applicants for military service Jan     All applicants must meet all accession standards   Jennifer Levi  a lawyer with gay  lesbian and transgender advocacy group GLAD  called the decision not to appeal  great news    I m hoping it means the government has come to see that there is no way to justify a ban and that it s not good for the military or our country   Levi said  Both GLAD and the American Civil Liberties Union represent plaintiffs in the lawsuits filed against the administration  In a move that appealed to his hard line conservative supporters  Trump announced in July that he would prohibit transgender people from serving in the military  reversing Democratic President Barack Obama s policy of accepting them  Trump said on Twitter at the time that the military  cannot be burdened with the tremendous medical costs and disruption that transgender in the military would entail   Four federal judges   in Baltimore  Washington  D C   Seattle and Riverside  California   have issued rulings blocking Trump s ban while legal challenges to the Republican president s policy proceed  The judges said the ban would likely violate the right under the U S  Constitution to equal protection under the law  The Pentagon on Dec    issued guidelines to recruitment personnel in order to enlist transgender applicants by Jan     The memo outlined medical requirements and specified how the applicants  sex would be identified and even which undergarments they would wear  The Trump administration previously said in legal papers that the armed forces were not prepared to train thousands of personnel on the medical standards needed to process transgender applicants and might have to accept  some individuals who are not medically fit for service   The Obama administration had set a deadline of July          to begin accepting transgender recruits  But Trump s defense secretary  James Mattis  postponed that date to Jan           which the president s ban then put off indefinitely  Trump has taken other steps aimed at rolling back transgender rights  In October  his administration said a federal law banning gender based workplace discrimination does not protect transgender employees  reversing another Obama era position  In February  Trump rescinded guidance issued by the Obama administration saying that public schools should allow transgender students to use the restroom that corresponds to their gender identity  '"
            ],
            "application/vnd.google.colaboratory.intrinsic+json": {
              "type": "string"
            }
          },
          "metadata": {},
          "execution_count": 34
        }
      ]
    },
    {
      "cell_type": "code",
      "source": [
        "def clean_lowercase(text):\n",
        "    return str(text).lower()"
      ],
      "metadata": {
        "id": "EwzrCPAG-0nE"
      },
      "execution_count": null,
      "outputs": []
    },
    {
      "cell_type": "code",
      "source": [
        "df['news'] = df['news'].apply(clean_lowercase)"
      ],
      "metadata": {
        "id": "RpNph2aADLjl"
      },
      "execution_count": null,
      "outputs": []
    },
    {
      "cell_type": "code",
      "source": [
        "df['news'][1]"
      ],
      "metadata": {
        "colab": {
          "base_uri": "https://localhost:8080/",
          "height": 140
        },
        "id": "AH5c5cR_DLlm",
        "outputId": "7abe4548-65eb-4105-f277-eeea7cdd3a37"
      },
      "execution_count": null,
      "outputs": [
        {
          "output_type": "execute_result",
          "data": {
            "text/plain": [
              "'u s  military to accept transgender recruits on monday  pentagon washington  reuters    transgender people will be allowed for the first time to enlist in the u s  military starting on monday as ordered by federal courts  the pentagon said on friday  after president donald trump s administration decided not to appeal rulings that blocked his transgender ban  two federal appeals courts  one in washington and one in virginia  last week rejected the administration s request to put on hold orders by lower court judges requiring the military to begin accepting transgender recruits on jan     a justice department official said the administration will not challenge those rulings   the department of defense has announced that it will be releasing an independent study of these issues in the coming weeks  so rather than litigate this interim appeal before that occurs  the administration has decided to wait for dod s study and will continue to defend the president s lawful authority in district court in the meantime   the official said  speaking on condition of anonymity  in september  the pentagon said it had created a panel of senior officials to study how to implement a directive by trump to prohibit transgender individuals from serving  the defense department has until feb     to submit a plan to trump  lawyers representing currently serving transgender service members and aspiring recruits said they had expected the administration to appeal the rulings to the conservative majority supreme court  but were hoping that would not happen  pentagon spokeswoman heather babb said in a statement   as mandated by court order  the department of defense is prepared to begin accessing transgender applicants for military service jan     all applicants must meet all accession standards   jennifer levi  a lawyer with gay  lesbian and transgender advocacy group glad  called the decision not to appeal  great news    i m hoping it means the government has come to see that there is no way to justify a ban and that it s not good for the military or our country   levi said  both glad and the american civil liberties union represent plaintiffs in the lawsuits filed against the administration  in a move that appealed to his hard line conservative supporters  trump announced in july that he would prohibit transgender people from serving in the military  reversing democratic president barack obama s policy of accepting them  trump said on twitter at the time that the military  cannot be burdened with the tremendous medical costs and disruption that transgender in the military would entail   four federal judges   in baltimore  washington  d c   seattle and riverside  california   have issued rulings blocking trump s ban while legal challenges to the republican president s policy proceed  the judges said the ban would likely violate the right under the u s  constitution to equal protection under the law  the pentagon on dec    issued guidelines to recruitment personnel in order to enlist transgender applicants by jan     the memo outlined medical requirements and specified how the applicants  sex would be identified and even which undergarments they would wear  the trump administration previously said in legal papers that the armed forces were not prepared to train thousands of personnel on the medical standards needed to process transgender applicants and might have to accept  some individuals who are not medically fit for service   the obama administration had set a deadline of july          to begin accepting transgender recruits  but trump s defense secretary  james mattis  postponed that date to jan           which the president s ban then put off indefinitely  trump has taken other steps aimed at rolling back transgender rights  in october  his administration said a federal law banning gender based workplace discrimination does not protect transgender employees  reversing another obama era position  in february  trump rescinded guidance issued by the obama administration saying that public schools should allow transgender students to use the restroom that corresponds to their gender identity  '"
            ],
            "application/vnd.google.colaboratory.intrinsic+json": {
              "type": "string"
            }
          },
          "metadata": {},
          "execution_count": 37
        }
      ]
    },
    {
      "cell_type": "code",
      "source": [
        "import nltk\n",
        "from nltk.tokenize import word_tokenize"
      ],
      "metadata": {
        "id": "gC_YBicIJF-d"
      },
      "execution_count": null,
      "outputs": []
    },
    {
      "cell_type": "code",
      "source": [
        "nltk.download('punkt')\n"
      ],
      "metadata": {
        "colab": {
          "base_uri": "https://localhost:8080/"
        },
        "id": "WYj5izvxJIRT",
        "outputId": "9d5e0975-17c6-4cf9-a135-8519697faa1f"
      },
      "execution_count": null,
      "outputs": [
        {
          "output_type": "stream",
          "name": "stderr",
          "text": [
            "[nltk_data] Downloading package punkt to /root/nltk_data...\n",
            "[nltk_data]   Unzipping tokenizers/punkt.zip.\n"
          ]
        },
        {
          "output_type": "execute_result",
          "data": {
            "text/plain": [
              "True"
            ]
          },
          "metadata": {},
          "execution_count": 39
        }
      ]
    },
    {
      "cell_type": "code",
      "source": [
        "def clean_tokenization(text):\n",
        "    return word_tokenize(text)"
      ],
      "metadata": {
        "id": "b-HW3zzCJIUL"
      },
      "execution_count": null,
      "outputs": []
    },
    {
      "cell_type": "code",
      "source": [
        "df['news'][1375]"
      ],
      "metadata": {
        "colab": {
          "base_uri": "https://localhost:8080/",
          "height": 140
        },
        "id": "t2S5KNyELK6B",
        "outputId": "d675ff64-f880-489f-cdda-397cb1bb1538"
      },
      "execution_count": null,
      "outputs": [
        {
          "output_type": "execute_result",
          "data": {
            "text/plain": [
              "'u s  voting commission vice chair urged new voting restrictions washington  reuters    the vice chairman of a voter fraud panel set up by u s  president donald trump began soon after the election to draft legislative changes that would allow states to require voters to prove their citizenship when registering  court records show  kansas secretary of state kris kobach  who has been on the panel since its creation in may  exchanged emails on the matter with trump s transition team the day after the november presidential election  according to records unsealed by a federal judge on thursday  kobach  who like trump is a republican  was ordered to release the records as part of a legal challenge that has enjoined a state law that required kansans to provide proof of citizenship when registering to vote  the records showed that by the day after the election  kobach had already started drafting legislative changes that would permit all states to impose proof of citizenship requirements by amending the national voter registration act  which lets americans register to vote when they apply for driver s licenses  the records shed light on a photograph taken several days after the election that showed kobach  then a contender for a cabinet post  standing with trump and holding a document partially obscured by his arm and titled  department of homeland security kobach strategic plan for first     days   kobach fought the public release of the documents  which included a heavily redacted version of the document in the photograph  for months in federal court     he and his spokeswoman did not immediately respond to requests for comment  any changes to the national voter registration act  or  motor voter law   require congressional approval  civil rights groups said they fear kobach is using the trump voting panel to drum up fake proof of widespread non citizen voter fraud to persuade congress to change the law  trump has said without evidence that there was widespread voter fraud in the november election  most state election officials and election law experts say u s  voter fraud is rare  requiring people to show birth certificates or other proof of citizenship when registering would be overly burdensome and would discourage young people  such as college students  said dale ho  director of the voting project at the american civil liberties union  the aclu sued kobach over the kansas law  which it said blocked more than        people  nearly    percent of new registered voters  from voting over two years  '"
            ],
            "application/vnd.google.colaboratory.intrinsic+json": {
              "type": "string"
            }
          },
          "metadata": {},
          "execution_count": 41
        }
      ]
    },
    {
      "cell_type": "code",
      "source": [
        "df['news'] = df['news'].apply(clean_tokenization)"
      ],
      "metadata": {
        "id": "3dE_D4KkJM-k"
      },
      "execution_count": null,
      "outputs": []
    },
    {
      "cell_type": "code",
      "source": [
        "df['news'][1]\n"
      ],
      "metadata": {
        "colab": {
          "base_uri": "https://localhost:8080/"
        },
        "id": "l0WQwkxVJNGJ",
        "outputId": "7b4a006f-7c8c-4ab4-ed7b-61ca6856eacf"
      },
      "execution_count": null,
      "outputs": [
        {
          "output_type": "execute_result",
          "data": {
            "text/plain": [
              "['u',\n",
              " 's',\n",
              " 'military',\n",
              " 'to',\n",
              " 'accept',\n",
              " 'transgender',\n",
              " 'recruits',\n",
              " 'on',\n",
              " 'monday',\n",
              " 'pentagon',\n",
              " 'washington',\n",
              " 'reuters',\n",
              " 'transgender',\n",
              " 'people',\n",
              " 'will',\n",
              " 'be',\n",
              " 'allowed',\n",
              " 'for',\n",
              " 'the',\n",
              " 'first',\n",
              " 'time',\n",
              " 'to',\n",
              " 'enlist',\n",
              " 'in',\n",
              " 'the',\n",
              " 'u',\n",
              " 's',\n",
              " 'military',\n",
              " 'starting',\n",
              " 'on',\n",
              " 'monday',\n",
              " 'as',\n",
              " 'ordered',\n",
              " 'by',\n",
              " 'federal',\n",
              " 'courts',\n",
              " 'the',\n",
              " 'pentagon',\n",
              " 'said',\n",
              " 'on',\n",
              " 'friday',\n",
              " 'after',\n",
              " 'president',\n",
              " 'donald',\n",
              " 'trump',\n",
              " 's',\n",
              " 'administration',\n",
              " 'decided',\n",
              " 'not',\n",
              " 'to',\n",
              " 'appeal',\n",
              " 'rulings',\n",
              " 'that',\n",
              " 'blocked',\n",
              " 'his',\n",
              " 'transgender',\n",
              " 'ban',\n",
              " 'two',\n",
              " 'federal',\n",
              " 'appeals',\n",
              " 'courts',\n",
              " 'one',\n",
              " 'in',\n",
              " 'washington',\n",
              " 'and',\n",
              " 'one',\n",
              " 'in',\n",
              " 'virginia',\n",
              " 'last',\n",
              " 'week',\n",
              " 'rejected',\n",
              " 'the',\n",
              " 'administration',\n",
              " 's',\n",
              " 'request',\n",
              " 'to',\n",
              " 'put',\n",
              " 'on',\n",
              " 'hold',\n",
              " 'orders',\n",
              " 'by',\n",
              " 'lower',\n",
              " 'court',\n",
              " 'judges',\n",
              " 'requiring',\n",
              " 'the',\n",
              " 'military',\n",
              " 'to',\n",
              " 'begin',\n",
              " 'accepting',\n",
              " 'transgender',\n",
              " 'recruits',\n",
              " 'on',\n",
              " 'jan',\n",
              " 'a',\n",
              " 'justice',\n",
              " 'department',\n",
              " 'official',\n",
              " 'said',\n",
              " 'the',\n",
              " 'administration',\n",
              " 'will',\n",
              " 'not',\n",
              " 'challenge',\n",
              " 'those',\n",
              " 'rulings',\n",
              " 'the',\n",
              " 'department',\n",
              " 'of',\n",
              " 'defense',\n",
              " 'has',\n",
              " 'announced',\n",
              " 'that',\n",
              " 'it',\n",
              " 'will',\n",
              " 'be',\n",
              " 'releasing',\n",
              " 'an',\n",
              " 'independent',\n",
              " 'study',\n",
              " 'of',\n",
              " 'these',\n",
              " 'issues',\n",
              " 'in',\n",
              " 'the',\n",
              " 'coming',\n",
              " 'weeks',\n",
              " 'so',\n",
              " 'rather',\n",
              " 'than',\n",
              " 'litigate',\n",
              " 'this',\n",
              " 'interim',\n",
              " 'appeal',\n",
              " 'before',\n",
              " 'that',\n",
              " 'occurs',\n",
              " 'the',\n",
              " 'administration',\n",
              " 'has',\n",
              " 'decided',\n",
              " 'to',\n",
              " 'wait',\n",
              " 'for',\n",
              " 'dod',\n",
              " 's',\n",
              " 'study',\n",
              " 'and',\n",
              " 'will',\n",
              " 'continue',\n",
              " 'to',\n",
              " 'defend',\n",
              " 'the',\n",
              " 'president',\n",
              " 's',\n",
              " 'lawful',\n",
              " 'authority',\n",
              " 'in',\n",
              " 'district',\n",
              " 'court',\n",
              " 'in',\n",
              " 'the',\n",
              " 'meantime',\n",
              " 'the',\n",
              " 'official',\n",
              " 'said',\n",
              " 'speaking',\n",
              " 'on',\n",
              " 'condition',\n",
              " 'of',\n",
              " 'anonymity',\n",
              " 'in',\n",
              " 'september',\n",
              " 'the',\n",
              " 'pentagon',\n",
              " 'said',\n",
              " 'it',\n",
              " 'had',\n",
              " 'created',\n",
              " 'a',\n",
              " 'panel',\n",
              " 'of',\n",
              " 'senior',\n",
              " 'officials',\n",
              " 'to',\n",
              " 'study',\n",
              " 'how',\n",
              " 'to',\n",
              " 'implement',\n",
              " 'a',\n",
              " 'directive',\n",
              " 'by',\n",
              " 'trump',\n",
              " 'to',\n",
              " 'prohibit',\n",
              " 'transgender',\n",
              " 'individuals',\n",
              " 'from',\n",
              " 'serving',\n",
              " 'the',\n",
              " 'defense',\n",
              " 'department',\n",
              " 'has',\n",
              " 'until',\n",
              " 'feb',\n",
              " 'to',\n",
              " 'submit',\n",
              " 'a',\n",
              " 'plan',\n",
              " 'to',\n",
              " 'trump',\n",
              " 'lawyers',\n",
              " 'representing',\n",
              " 'currently',\n",
              " 'serving',\n",
              " 'transgender',\n",
              " 'service',\n",
              " 'members',\n",
              " 'and',\n",
              " 'aspiring',\n",
              " 'recruits',\n",
              " 'said',\n",
              " 'they',\n",
              " 'had',\n",
              " 'expected',\n",
              " 'the',\n",
              " 'administration',\n",
              " 'to',\n",
              " 'appeal',\n",
              " 'the',\n",
              " 'rulings',\n",
              " 'to',\n",
              " 'the',\n",
              " 'conservative',\n",
              " 'majority',\n",
              " 'supreme',\n",
              " 'court',\n",
              " 'but',\n",
              " 'were',\n",
              " 'hoping',\n",
              " 'that',\n",
              " 'would',\n",
              " 'not',\n",
              " 'happen',\n",
              " 'pentagon',\n",
              " 'spokeswoman',\n",
              " 'heather',\n",
              " 'babb',\n",
              " 'said',\n",
              " 'in',\n",
              " 'a',\n",
              " 'statement',\n",
              " 'as',\n",
              " 'mandated',\n",
              " 'by',\n",
              " 'court',\n",
              " 'order',\n",
              " 'the',\n",
              " 'department',\n",
              " 'of',\n",
              " 'defense',\n",
              " 'is',\n",
              " 'prepared',\n",
              " 'to',\n",
              " 'begin',\n",
              " 'accessing',\n",
              " 'transgender',\n",
              " 'applicants',\n",
              " 'for',\n",
              " 'military',\n",
              " 'service',\n",
              " 'jan',\n",
              " 'all',\n",
              " 'applicants',\n",
              " 'must',\n",
              " 'meet',\n",
              " 'all',\n",
              " 'accession',\n",
              " 'standards',\n",
              " 'jennifer',\n",
              " 'levi',\n",
              " 'a',\n",
              " 'lawyer',\n",
              " 'with',\n",
              " 'gay',\n",
              " 'lesbian',\n",
              " 'and',\n",
              " 'transgender',\n",
              " 'advocacy',\n",
              " 'group',\n",
              " 'glad',\n",
              " 'called',\n",
              " 'the',\n",
              " 'decision',\n",
              " 'not',\n",
              " 'to',\n",
              " 'appeal',\n",
              " 'great',\n",
              " 'news',\n",
              " 'i',\n",
              " 'm',\n",
              " 'hoping',\n",
              " 'it',\n",
              " 'means',\n",
              " 'the',\n",
              " 'government',\n",
              " 'has',\n",
              " 'come',\n",
              " 'to',\n",
              " 'see',\n",
              " 'that',\n",
              " 'there',\n",
              " 'is',\n",
              " 'no',\n",
              " 'way',\n",
              " 'to',\n",
              " 'justify',\n",
              " 'a',\n",
              " 'ban',\n",
              " 'and',\n",
              " 'that',\n",
              " 'it',\n",
              " 's',\n",
              " 'not',\n",
              " 'good',\n",
              " 'for',\n",
              " 'the',\n",
              " 'military',\n",
              " 'or',\n",
              " 'our',\n",
              " 'country',\n",
              " 'levi',\n",
              " 'said',\n",
              " 'both',\n",
              " 'glad',\n",
              " 'and',\n",
              " 'the',\n",
              " 'american',\n",
              " 'civil',\n",
              " 'liberties',\n",
              " 'union',\n",
              " 'represent',\n",
              " 'plaintiffs',\n",
              " 'in',\n",
              " 'the',\n",
              " 'lawsuits',\n",
              " 'filed',\n",
              " 'against',\n",
              " 'the',\n",
              " 'administration',\n",
              " 'in',\n",
              " 'a',\n",
              " 'move',\n",
              " 'that',\n",
              " 'appealed',\n",
              " 'to',\n",
              " 'his',\n",
              " 'hard',\n",
              " 'line',\n",
              " 'conservative',\n",
              " 'supporters',\n",
              " 'trump',\n",
              " 'announced',\n",
              " 'in',\n",
              " 'july',\n",
              " 'that',\n",
              " 'he',\n",
              " 'would',\n",
              " 'prohibit',\n",
              " 'transgender',\n",
              " 'people',\n",
              " 'from',\n",
              " 'serving',\n",
              " 'in',\n",
              " 'the',\n",
              " 'military',\n",
              " 'reversing',\n",
              " 'democratic',\n",
              " 'president',\n",
              " 'barack',\n",
              " 'obama',\n",
              " 's',\n",
              " 'policy',\n",
              " 'of',\n",
              " 'accepting',\n",
              " 'them',\n",
              " 'trump',\n",
              " 'said',\n",
              " 'on',\n",
              " 'twitter',\n",
              " 'at',\n",
              " 'the',\n",
              " 'time',\n",
              " 'that',\n",
              " 'the',\n",
              " 'military',\n",
              " 'can',\n",
              " 'not',\n",
              " 'be',\n",
              " 'burdened',\n",
              " 'with',\n",
              " 'the',\n",
              " 'tremendous',\n",
              " 'medical',\n",
              " 'costs',\n",
              " 'and',\n",
              " 'disruption',\n",
              " 'that',\n",
              " 'transgender',\n",
              " 'in',\n",
              " 'the',\n",
              " 'military',\n",
              " 'would',\n",
              " 'entail',\n",
              " 'four',\n",
              " 'federal',\n",
              " 'judges',\n",
              " 'in',\n",
              " 'baltimore',\n",
              " 'washington',\n",
              " 'd',\n",
              " 'c',\n",
              " 'seattle',\n",
              " 'and',\n",
              " 'riverside',\n",
              " 'california',\n",
              " 'have',\n",
              " 'issued',\n",
              " 'rulings',\n",
              " 'blocking',\n",
              " 'trump',\n",
              " 's',\n",
              " 'ban',\n",
              " 'while',\n",
              " 'legal',\n",
              " 'challenges',\n",
              " 'to',\n",
              " 'the',\n",
              " 'republican',\n",
              " 'president',\n",
              " 's',\n",
              " 'policy',\n",
              " 'proceed',\n",
              " 'the',\n",
              " 'judges',\n",
              " 'said',\n",
              " 'the',\n",
              " 'ban',\n",
              " 'would',\n",
              " 'likely',\n",
              " 'violate',\n",
              " 'the',\n",
              " 'right',\n",
              " 'under',\n",
              " 'the',\n",
              " 'u',\n",
              " 's',\n",
              " 'constitution',\n",
              " 'to',\n",
              " 'equal',\n",
              " 'protection',\n",
              " 'under',\n",
              " 'the',\n",
              " 'law',\n",
              " 'the',\n",
              " 'pentagon',\n",
              " 'on',\n",
              " 'dec',\n",
              " 'issued',\n",
              " 'guidelines',\n",
              " 'to',\n",
              " 'recruitment',\n",
              " 'personnel',\n",
              " 'in',\n",
              " 'order',\n",
              " 'to',\n",
              " 'enlist',\n",
              " 'transgender',\n",
              " 'applicants',\n",
              " 'by',\n",
              " 'jan',\n",
              " 'the',\n",
              " 'memo',\n",
              " 'outlined',\n",
              " 'medical',\n",
              " 'requirements',\n",
              " 'and',\n",
              " 'specified',\n",
              " 'how',\n",
              " 'the',\n",
              " 'applicants',\n",
              " 'sex',\n",
              " 'would',\n",
              " 'be',\n",
              " 'identified',\n",
              " 'and',\n",
              " 'even',\n",
              " 'which',\n",
              " 'undergarments',\n",
              " 'they',\n",
              " 'would',\n",
              " 'wear',\n",
              " 'the',\n",
              " 'trump',\n",
              " 'administration',\n",
              " 'previously',\n",
              " 'said',\n",
              " 'in',\n",
              " 'legal',\n",
              " 'papers',\n",
              " 'that',\n",
              " 'the',\n",
              " 'armed',\n",
              " 'forces',\n",
              " 'were',\n",
              " 'not',\n",
              " 'prepared',\n",
              " 'to',\n",
              " 'train',\n",
              " 'thousands',\n",
              " 'of',\n",
              " 'personnel',\n",
              " 'on',\n",
              " 'the',\n",
              " 'medical',\n",
              " 'standards',\n",
              " 'needed',\n",
              " 'to',\n",
              " 'process',\n",
              " 'transgender',\n",
              " 'applicants',\n",
              " 'and',\n",
              " 'might',\n",
              " 'have',\n",
              " 'to',\n",
              " 'accept',\n",
              " 'some',\n",
              " 'individuals',\n",
              " 'who',\n",
              " 'are',\n",
              " 'not',\n",
              " 'medically',\n",
              " 'fit',\n",
              " 'for',\n",
              " 'service',\n",
              " 'the',\n",
              " 'obama',\n",
              " 'administration',\n",
              " 'had',\n",
              " 'set',\n",
              " 'a',\n",
              " 'deadline',\n",
              " 'of',\n",
              " 'july',\n",
              " 'to',\n",
              " 'begin',\n",
              " 'accepting',\n",
              " 'transgender',\n",
              " 'recruits',\n",
              " 'but',\n",
              " 'trump',\n",
              " 's',\n",
              " 'defense',\n",
              " 'secretary',\n",
              " 'james',\n",
              " 'mattis',\n",
              " 'postponed',\n",
              " 'that',\n",
              " 'date',\n",
              " 'to',\n",
              " 'jan',\n",
              " 'which',\n",
              " 'the',\n",
              " 'president',\n",
              " 's',\n",
              " 'ban',\n",
              " 'then',\n",
              " 'put',\n",
              " 'off',\n",
              " 'indefinitely',\n",
              " 'trump',\n",
              " 'has',\n",
              " 'taken',\n",
              " 'other',\n",
              " 'steps',\n",
              " 'aimed',\n",
              " 'at',\n",
              " 'rolling',\n",
              " 'back',\n",
              " 'transgender',\n",
              " 'rights',\n",
              " 'in',\n",
              " 'october',\n",
              " 'his',\n",
              " 'administration',\n",
              " 'said',\n",
              " 'a',\n",
              " 'federal',\n",
              " 'law',\n",
              " 'banning',\n",
              " 'gender',\n",
              " 'based',\n",
              " 'workplace',\n",
              " 'discrimination',\n",
              " 'does',\n",
              " 'not',\n",
              " 'protect',\n",
              " 'transgender',\n",
              " 'employees',\n",
              " 'reversing',\n",
              " 'another',\n",
              " 'obama',\n",
              " 'era',\n",
              " 'position',\n",
              " 'in',\n",
              " 'february',\n",
              " 'trump',\n",
              " 'rescinded',\n",
              " 'guidance',\n",
              " 'issued',\n",
              " 'by',\n",
              " 'the',\n",
              " 'obama',\n",
              " 'administration',\n",
              " 'saying',\n",
              " 'that',\n",
              " 'public',\n",
              " 'schools',\n",
              " 'should',\n",
              " 'allow',\n",
              " 'transgender',\n",
              " 'students',\n",
              " 'to',\n",
              " 'use',\n",
              " 'the',\n",
              " 'restroom',\n",
              " 'that',\n",
              " 'corresponds',\n",
              " 'to',\n",
              " 'their',\n",
              " 'gender',\n",
              " 'identity']"
            ]
          },
          "metadata": {},
          "execution_count": 43
        }
      ]
    },
    {
      "cell_type": "code",
      "source": [
        "#importing the libraries required to remove the stopwords and punctuation\n",
        "from nltk.corpus import stopwords"
      ],
      "metadata": {
        "id": "tCl4-J32DLn-"
      },
      "execution_count": null,
      "outputs": []
    },
    {
      "cell_type": "code",
      "source": [
        "nltk.download('stopwords')"
      ],
      "metadata": {
        "colab": {
          "base_uri": "https://localhost:8080/"
        },
        "id": "3-B16ivwDLqZ",
        "outputId": "010d8050-07f3-4cb2-c14a-f3b4ef3305e9"
      },
      "execution_count": null,
      "outputs": [
        {
          "output_type": "stream",
          "name": "stderr",
          "text": [
            "[nltk_data] Downloading package stopwords to /root/nltk_data...\n",
            "[nltk_data]   Unzipping corpora/stopwords.zip.\n"
          ]
        },
        {
          "output_type": "execute_result",
          "data": {
            "text/plain": [
              "True"
            ]
          },
          "metadata": {},
          "execution_count": 45
        }
      ]
    },
    {
      "cell_type": "code",
      "source": [
        "stopwords.words('english')"
      ],
      "metadata": {
        "colab": {
          "base_uri": "https://localhost:8080/"
        },
        "id": "LhypCelgDLuO",
        "outputId": "e9bd2937-5e5d-4bd6-f92a-2f626bdf54b8"
      },
      "execution_count": null,
      "outputs": [
        {
          "output_type": "execute_result",
          "data": {
            "text/plain": [
              "['i',\n",
              " 'me',\n",
              " 'my',\n",
              " 'myself',\n",
              " 'we',\n",
              " 'our',\n",
              " 'ours',\n",
              " 'ourselves',\n",
              " 'you',\n",
              " \"you're\",\n",
              " \"you've\",\n",
              " \"you'll\",\n",
              " \"you'd\",\n",
              " 'your',\n",
              " 'yours',\n",
              " 'yourself',\n",
              " 'yourselves',\n",
              " 'he',\n",
              " 'him',\n",
              " 'his',\n",
              " 'himself',\n",
              " 'she',\n",
              " \"she's\",\n",
              " 'her',\n",
              " 'hers',\n",
              " 'herself',\n",
              " 'it',\n",
              " \"it's\",\n",
              " 'its',\n",
              " 'itself',\n",
              " 'they',\n",
              " 'them',\n",
              " 'their',\n",
              " 'theirs',\n",
              " 'themselves',\n",
              " 'what',\n",
              " 'which',\n",
              " 'who',\n",
              " 'whom',\n",
              " 'this',\n",
              " 'that',\n",
              " \"that'll\",\n",
              " 'these',\n",
              " 'those',\n",
              " 'am',\n",
              " 'is',\n",
              " 'are',\n",
              " 'was',\n",
              " 'were',\n",
              " 'be',\n",
              " 'been',\n",
              " 'being',\n",
              " 'have',\n",
              " 'has',\n",
              " 'had',\n",
              " 'having',\n",
              " 'do',\n",
              " 'does',\n",
              " 'did',\n",
              " 'doing',\n",
              " 'a',\n",
              " 'an',\n",
              " 'the',\n",
              " 'and',\n",
              " 'but',\n",
              " 'if',\n",
              " 'or',\n",
              " 'because',\n",
              " 'as',\n",
              " 'until',\n",
              " 'while',\n",
              " 'of',\n",
              " 'at',\n",
              " 'by',\n",
              " 'for',\n",
              " 'with',\n",
              " 'about',\n",
              " 'against',\n",
              " 'between',\n",
              " 'into',\n",
              " 'through',\n",
              " 'during',\n",
              " 'before',\n",
              " 'after',\n",
              " 'above',\n",
              " 'below',\n",
              " 'to',\n",
              " 'from',\n",
              " 'up',\n",
              " 'down',\n",
              " 'in',\n",
              " 'out',\n",
              " 'on',\n",
              " 'off',\n",
              " 'over',\n",
              " 'under',\n",
              " 'again',\n",
              " 'further',\n",
              " 'then',\n",
              " 'once',\n",
              " 'here',\n",
              " 'there',\n",
              " 'when',\n",
              " 'where',\n",
              " 'why',\n",
              " 'how',\n",
              " 'all',\n",
              " 'any',\n",
              " 'both',\n",
              " 'each',\n",
              " 'few',\n",
              " 'more',\n",
              " 'most',\n",
              " 'other',\n",
              " 'some',\n",
              " 'such',\n",
              " 'no',\n",
              " 'nor',\n",
              " 'not',\n",
              " 'only',\n",
              " 'own',\n",
              " 'same',\n",
              " 'so',\n",
              " 'than',\n",
              " 'too',\n",
              " 'very',\n",
              " 's',\n",
              " 't',\n",
              " 'can',\n",
              " 'will',\n",
              " 'just',\n",
              " 'don',\n",
              " \"don't\",\n",
              " 'should',\n",
              " \"should've\",\n",
              " 'now',\n",
              " 'd',\n",
              " 'll',\n",
              " 'm',\n",
              " 'o',\n",
              " 're',\n",
              " 've',\n",
              " 'y',\n",
              " 'ain',\n",
              " 'aren',\n",
              " \"aren't\",\n",
              " 'couldn',\n",
              " \"couldn't\",\n",
              " 'didn',\n",
              " \"didn't\",\n",
              " 'doesn',\n",
              " \"doesn't\",\n",
              " 'hadn',\n",
              " \"hadn't\",\n",
              " 'hasn',\n",
              " \"hasn't\",\n",
              " 'haven',\n",
              " \"haven't\",\n",
              " 'isn',\n",
              " \"isn't\",\n",
              " 'ma',\n",
              " 'mightn',\n",
              " \"mightn't\",\n",
              " 'mustn',\n",
              " \"mustn't\",\n",
              " 'needn',\n",
              " \"needn't\",\n",
              " 'shan',\n",
              " \"shan't\",\n",
              " 'shouldn',\n",
              " \"shouldn't\",\n",
              " 'wasn',\n",
              " \"wasn't\",\n",
              " 'weren',\n",
              " \"weren't\",\n",
              " 'won',\n",
              " \"won't\",\n",
              " 'wouldn',\n",
              " \"wouldn't\"]"
            ]
          },
          "metadata": {},
          "execution_count": 46
        }
      ]
    },
    {
      "cell_type": "code",
      "source": [
        "stop_words =set(stopwords.words('english'))\n",
        "\n",
        "def clean_stopwords(token):\n",
        "    return [item for item in token if item not in stop_words]"
      ],
      "metadata": {
        "id": "vgEvJlKXFQE5"
      },
      "execution_count": null,
      "outputs": []
    },
    {
      "cell_type": "code",
      "source": [
        "df['news'] = df['news'].apply(clean_stopwords)\n"
      ],
      "metadata": {
        "id": "-5D2S8CnFQIO"
      },
      "execution_count": null,
      "outputs": []
    },
    {
      "cell_type": "code",
      "source": [
        "df['news'][1]"
      ],
      "metadata": {
        "colab": {
          "base_uri": "https://localhost:8080/"
        },
        "id": "1ukX8my0Ighr",
        "outputId": "a6f4b2d0-618f-497f-83f3-f3fbd3ac2d12"
      },
      "execution_count": null,
      "outputs": [
        {
          "output_type": "execute_result",
          "data": {
            "text/plain": [
              "['u',\n",
              " 'military',\n",
              " 'accept',\n",
              " 'transgender',\n",
              " 'recruits',\n",
              " 'monday',\n",
              " 'pentagon',\n",
              " 'washington',\n",
              " 'reuters',\n",
              " 'transgender',\n",
              " 'people',\n",
              " 'allowed',\n",
              " 'first',\n",
              " 'time',\n",
              " 'enlist',\n",
              " 'u',\n",
              " 'military',\n",
              " 'starting',\n",
              " 'monday',\n",
              " 'ordered',\n",
              " 'federal',\n",
              " 'courts',\n",
              " 'pentagon',\n",
              " 'said',\n",
              " 'friday',\n",
              " 'president',\n",
              " 'donald',\n",
              " 'trump',\n",
              " 'administration',\n",
              " 'decided',\n",
              " 'appeal',\n",
              " 'rulings',\n",
              " 'blocked',\n",
              " 'transgender',\n",
              " 'ban',\n",
              " 'two',\n",
              " 'federal',\n",
              " 'appeals',\n",
              " 'courts',\n",
              " 'one',\n",
              " 'washington',\n",
              " 'one',\n",
              " 'virginia',\n",
              " 'last',\n",
              " 'week',\n",
              " 'rejected',\n",
              " 'administration',\n",
              " 'request',\n",
              " 'put',\n",
              " 'hold',\n",
              " 'orders',\n",
              " 'lower',\n",
              " 'court',\n",
              " 'judges',\n",
              " 'requiring',\n",
              " 'military',\n",
              " 'begin',\n",
              " 'accepting',\n",
              " 'transgender',\n",
              " 'recruits',\n",
              " 'jan',\n",
              " 'justice',\n",
              " 'department',\n",
              " 'official',\n",
              " 'said',\n",
              " 'administration',\n",
              " 'challenge',\n",
              " 'rulings',\n",
              " 'department',\n",
              " 'defense',\n",
              " 'announced',\n",
              " 'releasing',\n",
              " 'independent',\n",
              " 'study',\n",
              " 'issues',\n",
              " 'coming',\n",
              " 'weeks',\n",
              " 'rather',\n",
              " 'litigate',\n",
              " 'interim',\n",
              " 'appeal',\n",
              " 'occurs',\n",
              " 'administration',\n",
              " 'decided',\n",
              " 'wait',\n",
              " 'dod',\n",
              " 'study',\n",
              " 'continue',\n",
              " 'defend',\n",
              " 'president',\n",
              " 'lawful',\n",
              " 'authority',\n",
              " 'district',\n",
              " 'court',\n",
              " 'meantime',\n",
              " 'official',\n",
              " 'said',\n",
              " 'speaking',\n",
              " 'condition',\n",
              " 'anonymity',\n",
              " 'september',\n",
              " 'pentagon',\n",
              " 'said',\n",
              " 'created',\n",
              " 'panel',\n",
              " 'senior',\n",
              " 'officials',\n",
              " 'study',\n",
              " 'implement',\n",
              " 'directive',\n",
              " 'trump',\n",
              " 'prohibit',\n",
              " 'transgender',\n",
              " 'individuals',\n",
              " 'serving',\n",
              " 'defense',\n",
              " 'department',\n",
              " 'feb',\n",
              " 'submit',\n",
              " 'plan',\n",
              " 'trump',\n",
              " 'lawyers',\n",
              " 'representing',\n",
              " 'currently',\n",
              " 'serving',\n",
              " 'transgender',\n",
              " 'service',\n",
              " 'members',\n",
              " 'aspiring',\n",
              " 'recruits',\n",
              " 'said',\n",
              " 'expected',\n",
              " 'administration',\n",
              " 'appeal',\n",
              " 'rulings',\n",
              " 'conservative',\n",
              " 'majority',\n",
              " 'supreme',\n",
              " 'court',\n",
              " 'hoping',\n",
              " 'would',\n",
              " 'happen',\n",
              " 'pentagon',\n",
              " 'spokeswoman',\n",
              " 'heather',\n",
              " 'babb',\n",
              " 'said',\n",
              " 'statement',\n",
              " 'mandated',\n",
              " 'court',\n",
              " 'order',\n",
              " 'department',\n",
              " 'defense',\n",
              " 'prepared',\n",
              " 'begin',\n",
              " 'accessing',\n",
              " 'transgender',\n",
              " 'applicants',\n",
              " 'military',\n",
              " 'service',\n",
              " 'jan',\n",
              " 'applicants',\n",
              " 'must',\n",
              " 'meet',\n",
              " 'accession',\n",
              " 'standards',\n",
              " 'jennifer',\n",
              " 'levi',\n",
              " 'lawyer',\n",
              " 'gay',\n",
              " 'lesbian',\n",
              " 'transgender',\n",
              " 'advocacy',\n",
              " 'group',\n",
              " 'glad',\n",
              " 'called',\n",
              " 'decision',\n",
              " 'appeal',\n",
              " 'great',\n",
              " 'news',\n",
              " 'hoping',\n",
              " 'means',\n",
              " 'government',\n",
              " 'come',\n",
              " 'see',\n",
              " 'way',\n",
              " 'justify',\n",
              " 'ban',\n",
              " 'good',\n",
              " 'military',\n",
              " 'country',\n",
              " 'levi',\n",
              " 'said',\n",
              " 'glad',\n",
              " 'american',\n",
              " 'civil',\n",
              " 'liberties',\n",
              " 'union',\n",
              " 'represent',\n",
              " 'plaintiffs',\n",
              " 'lawsuits',\n",
              " 'filed',\n",
              " 'administration',\n",
              " 'move',\n",
              " 'appealed',\n",
              " 'hard',\n",
              " 'line',\n",
              " 'conservative',\n",
              " 'supporters',\n",
              " 'trump',\n",
              " 'announced',\n",
              " 'july',\n",
              " 'would',\n",
              " 'prohibit',\n",
              " 'transgender',\n",
              " 'people',\n",
              " 'serving',\n",
              " 'military',\n",
              " 'reversing',\n",
              " 'democratic',\n",
              " 'president',\n",
              " 'barack',\n",
              " 'obama',\n",
              " 'policy',\n",
              " 'accepting',\n",
              " 'trump',\n",
              " 'said',\n",
              " 'twitter',\n",
              " 'time',\n",
              " 'military',\n",
              " 'burdened',\n",
              " 'tremendous',\n",
              " 'medical',\n",
              " 'costs',\n",
              " 'disruption',\n",
              " 'transgender',\n",
              " 'military',\n",
              " 'would',\n",
              " 'entail',\n",
              " 'four',\n",
              " 'federal',\n",
              " 'judges',\n",
              " 'baltimore',\n",
              " 'washington',\n",
              " 'c',\n",
              " 'seattle',\n",
              " 'riverside',\n",
              " 'california',\n",
              " 'issued',\n",
              " 'rulings',\n",
              " 'blocking',\n",
              " 'trump',\n",
              " 'ban',\n",
              " 'legal',\n",
              " 'challenges',\n",
              " 'republican',\n",
              " 'president',\n",
              " 'policy',\n",
              " 'proceed',\n",
              " 'judges',\n",
              " 'said',\n",
              " 'ban',\n",
              " 'would',\n",
              " 'likely',\n",
              " 'violate',\n",
              " 'right',\n",
              " 'u',\n",
              " 'constitution',\n",
              " 'equal',\n",
              " 'protection',\n",
              " 'law',\n",
              " 'pentagon',\n",
              " 'dec',\n",
              " 'issued',\n",
              " 'guidelines',\n",
              " 'recruitment',\n",
              " 'personnel',\n",
              " 'order',\n",
              " 'enlist',\n",
              " 'transgender',\n",
              " 'applicants',\n",
              " 'jan',\n",
              " 'memo',\n",
              " 'outlined',\n",
              " 'medical',\n",
              " 'requirements',\n",
              " 'specified',\n",
              " 'applicants',\n",
              " 'sex',\n",
              " 'would',\n",
              " 'identified',\n",
              " 'even',\n",
              " 'undergarments',\n",
              " 'would',\n",
              " 'wear',\n",
              " 'trump',\n",
              " 'administration',\n",
              " 'previously',\n",
              " 'said',\n",
              " 'legal',\n",
              " 'papers',\n",
              " 'armed',\n",
              " 'forces',\n",
              " 'prepared',\n",
              " 'train',\n",
              " 'thousands',\n",
              " 'personnel',\n",
              " 'medical',\n",
              " 'standards',\n",
              " 'needed',\n",
              " 'process',\n",
              " 'transgender',\n",
              " 'applicants',\n",
              " 'might',\n",
              " 'accept',\n",
              " 'individuals',\n",
              " 'medically',\n",
              " 'fit',\n",
              " 'service',\n",
              " 'obama',\n",
              " 'administration',\n",
              " 'set',\n",
              " 'deadline',\n",
              " 'july',\n",
              " 'begin',\n",
              " 'accepting',\n",
              " 'transgender',\n",
              " 'recruits',\n",
              " 'trump',\n",
              " 'defense',\n",
              " 'secretary',\n",
              " 'james',\n",
              " 'mattis',\n",
              " 'postponed',\n",
              " 'date',\n",
              " 'jan',\n",
              " 'president',\n",
              " 'ban',\n",
              " 'put',\n",
              " 'indefinitely',\n",
              " 'trump',\n",
              " 'taken',\n",
              " 'steps',\n",
              " 'aimed',\n",
              " 'rolling',\n",
              " 'back',\n",
              " 'transgender',\n",
              " 'rights',\n",
              " 'october',\n",
              " 'administration',\n",
              " 'said',\n",
              " 'federal',\n",
              " 'law',\n",
              " 'banning',\n",
              " 'gender',\n",
              " 'based',\n",
              " 'workplace',\n",
              " 'discrimination',\n",
              " 'protect',\n",
              " 'transgender',\n",
              " 'employees',\n",
              " 'reversing',\n",
              " 'another',\n",
              " 'obama',\n",
              " 'era',\n",
              " 'position',\n",
              " 'february',\n",
              " 'trump',\n",
              " 'rescinded',\n",
              " 'guidance',\n",
              " 'issued',\n",
              " 'obama',\n",
              " 'administration',\n",
              " 'saying',\n",
              " 'public',\n",
              " 'schools',\n",
              " 'allow',\n",
              " 'transgender',\n",
              " 'students',\n",
              " 'use',\n",
              " 'restroom',\n",
              " 'corresponds',\n",
              " 'gender',\n",
              " 'identity']"
            ]
          },
          "metadata": {},
          "execution_count": 49
        }
      ]
    },
    {
      "cell_type": "code",
      "source": [
        "from nltk.stem import PorterStemmer\n",
        "\n",
        "stemmer = PorterStemmer()"
      ],
      "metadata": {
        "id": "y9CRpk_rFQKl"
      },
      "execution_count": null,
      "outputs": []
    },
    {
      "cell_type": "code",
      "source": [
        "def clean_stem(token):\n",
        "    return[stemmer.stem(i) for i in token]"
      ],
      "metadata": {
        "id": "MNN8-3wfGUto"
      },
      "execution_count": null,
      "outputs": []
    },
    {
      "cell_type": "code",
      "source": [
        "df['news']=df['news'].apply(clean_stem)\n"
      ],
      "metadata": {
        "id": "l8VajPswFmMd"
      },
      "execution_count": null,
      "outputs": []
    },
    {
      "cell_type": "code",
      "source": [
        "df['news'][1]"
      ],
      "metadata": {
        "colab": {
          "base_uri": "https://localhost:8080/"
        },
        "id": "bp6q4FzoKSz_",
        "outputId": "fc26a9af-283f-4be2-f2d9-60ae031c1361"
      },
      "execution_count": null,
      "outputs": [
        {
          "output_type": "execute_result",
          "data": {
            "text/plain": [
              "['u',\n",
              " 'militari',\n",
              " 'accept',\n",
              " 'transgend',\n",
              " 'recruit',\n",
              " 'monday',\n",
              " 'pentagon',\n",
              " 'washington',\n",
              " 'reuter',\n",
              " 'transgend',\n",
              " 'peopl',\n",
              " 'allow',\n",
              " 'first',\n",
              " 'time',\n",
              " 'enlist',\n",
              " 'u',\n",
              " 'militari',\n",
              " 'start',\n",
              " 'monday',\n",
              " 'order',\n",
              " 'feder',\n",
              " 'court',\n",
              " 'pentagon',\n",
              " 'said',\n",
              " 'friday',\n",
              " 'presid',\n",
              " 'donald',\n",
              " 'trump',\n",
              " 'administr',\n",
              " 'decid',\n",
              " 'appeal',\n",
              " 'rule',\n",
              " 'block',\n",
              " 'transgend',\n",
              " 'ban',\n",
              " 'two',\n",
              " 'feder',\n",
              " 'appeal',\n",
              " 'court',\n",
              " 'one',\n",
              " 'washington',\n",
              " 'one',\n",
              " 'virginia',\n",
              " 'last',\n",
              " 'week',\n",
              " 'reject',\n",
              " 'administr',\n",
              " 'request',\n",
              " 'put',\n",
              " 'hold',\n",
              " 'order',\n",
              " 'lower',\n",
              " 'court',\n",
              " 'judg',\n",
              " 'requir',\n",
              " 'militari',\n",
              " 'begin',\n",
              " 'accept',\n",
              " 'transgend',\n",
              " 'recruit',\n",
              " 'jan',\n",
              " 'justic',\n",
              " 'depart',\n",
              " 'offici',\n",
              " 'said',\n",
              " 'administr',\n",
              " 'challeng',\n",
              " 'rule',\n",
              " 'depart',\n",
              " 'defens',\n",
              " 'announc',\n",
              " 'releas',\n",
              " 'independ',\n",
              " 'studi',\n",
              " 'issu',\n",
              " 'come',\n",
              " 'week',\n",
              " 'rather',\n",
              " 'litig',\n",
              " 'interim',\n",
              " 'appeal',\n",
              " 'occur',\n",
              " 'administr',\n",
              " 'decid',\n",
              " 'wait',\n",
              " 'dod',\n",
              " 'studi',\n",
              " 'continu',\n",
              " 'defend',\n",
              " 'presid',\n",
              " 'law',\n",
              " 'author',\n",
              " 'district',\n",
              " 'court',\n",
              " 'meantim',\n",
              " 'offici',\n",
              " 'said',\n",
              " 'speak',\n",
              " 'condit',\n",
              " 'anonym',\n",
              " 'septemb',\n",
              " 'pentagon',\n",
              " 'said',\n",
              " 'creat',\n",
              " 'panel',\n",
              " 'senior',\n",
              " 'offici',\n",
              " 'studi',\n",
              " 'implement',\n",
              " 'direct',\n",
              " 'trump',\n",
              " 'prohibit',\n",
              " 'transgend',\n",
              " 'individu',\n",
              " 'serv',\n",
              " 'defens',\n",
              " 'depart',\n",
              " 'feb',\n",
              " 'submit',\n",
              " 'plan',\n",
              " 'trump',\n",
              " 'lawyer',\n",
              " 'repres',\n",
              " 'current',\n",
              " 'serv',\n",
              " 'transgend',\n",
              " 'servic',\n",
              " 'member',\n",
              " 'aspir',\n",
              " 'recruit',\n",
              " 'said',\n",
              " 'expect',\n",
              " 'administr',\n",
              " 'appeal',\n",
              " 'rule',\n",
              " 'conserv',\n",
              " 'major',\n",
              " 'suprem',\n",
              " 'court',\n",
              " 'hope',\n",
              " 'would',\n",
              " 'happen',\n",
              " 'pentagon',\n",
              " 'spokeswoman',\n",
              " 'heather',\n",
              " 'babb',\n",
              " 'said',\n",
              " 'statement',\n",
              " 'mandat',\n",
              " 'court',\n",
              " 'order',\n",
              " 'depart',\n",
              " 'defens',\n",
              " 'prepar',\n",
              " 'begin',\n",
              " 'access',\n",
              " 'transgend',\n",
              " 'applic',\n",
              " 'militari',\n",
              " 'servic',\n",
              " 'jan',\n",
              " 'applic',\n",
              " 'must',\n",
              " 'meet',\n",
              " 'access',\n",
              " 'standard',\n",
              " 'jennif',\n",
              " 'levi',\n",
              " 'lawyer',\n",
              " 'gay',\n",
              " 'lesbian',\n",
              " 'transgend',\n",
              " 'advocaci',\n",
              " 'group',\n",
              " 'glad',\n",
              " 'call',\n",
              " 'decis',\n",
              " 'appeal',\n",
              " 'great',\n",
              " 'news',\n",
              " 'hope',\n",
              " 'mean',\n",
              " 'govern',\n",
              " 'come',\n",
              " 'see',\n",
              " 'way',\n",
              " 'justifi',\n",
              " 'ban',\n",
              " 'good',\n",
              " 'militari',\n",
              " 'countri',\n",
              " 'levi',\n",
              " 'said',\n",
              " 'glad',\n",
              " 'american',\n",
              " 'civil',\n",
              " 'liberti',\n",
              " 'union',\n",
              " 'repres',\n",
              " 'plaintiff',\n",
              " 'lawsuit',\n",
              " 'file',\n",
              " 'administr',\n",
              " 'move',\n",
              " 'appeal',\n",
              " 'hard',\n",
              " 'line',\n",
              " 'conserv',\n",
              " 'support',\n",
              " 'trump',\n",
              " 'announc',\n",
              " 'juli',\n",
              " 'would',\n",
              " 'prohibit',\n",
              " 'transgend',\n",
              " 'peopl',\n",
              " 'serv',\n",
              " 'militari',\n",
              " 'revers',\n",
              " 'democrat',\n",
              " 'presid',\n",
              " 'barack',\n",
              " 'obama',\n",
              " 'polici',\n",
              " 'accept',\n",
              " 'trump',\n",
              " 'said',\n",
              " 'twitter',\n",
              " 'time',\n",
              " 'militari',\n",
              " 'burden',\n",
              " 'tremend',\n",
              " 'medic',\n",
              " 'cost',\n",
              " 'disrupt',\n",
              " 'transgend',\n",
              " 'militari',\n",
              " 'would',\n",
              " 'entail',\n",
              " 'four',\n",
              " 'feder',\n",
              " 'judg',\n",
              " 'baltimor',\n",
              " 'washington',\n",
              " 'c',\n",
              " 'seattl',\n",
              " 'riversid',\n",
              " 'california',\n",
              " 'issu',\n",
              " 'rule',\n",
              " 'block',\n",
              " 'trump',\n",
              " 'ban',\n",
              " 'legal',\n",
              " 'challeng',\n",
              " 'republican',\n",
              " 'presid',\n",
              " 'polici',\n",
              " 'proceed',\n",
              " 'judg',\n",
              " 'said',\n",
              " 'ban',\n",
              " 'would',\n",
              " 'like',\n",
              " 'violat',\n",
              " 'right',\n",
              " 'u',\n",
              " 'constitut',\n",
              " 'equal',\n",
              " 'protect',\n",
              " 'law',\n",
              " 'pentagon',\n",
              " 'dec',\n",
              " 'issu',\n",
              " 'guidelin',\n",
              " 'recruit',\n",
              " 'personnel',\n",
              " 'order',\n",
              " 'enlist',\n",
              " 'transgend',\n",
              " 'applic',\n",
              " 'jan',\n",
              " 'memo',\n",
              " 'outlin',\n",
              " 'medic',\n",
              " 'requir',\n",
              " 'specifi',\n",
              " 'applic',\n",
              " 'sex',\n",
              " 'would',\n",
              " 'identifi',\n",
              " 'even',\n",
              " 'undergar',\n",
              " 'would',\n",
              " 'wear',\n",
              " 'trump',\n",
              " 'administr',\n",
              " 'previous',\n",
              " 'said',\n",
              " 'legal',\n",
              " 'paper',\n",
              " 'arm',\n",
              " 'forc',\n",
              " 'prepar',\n",
              " 'train',\n",
              " 'thousand',\n",
              " 'personnel',\n",
              " 'medic',\n",
              " 'standard',\n",
              " 'need',\n",
              " 'process',\n",
              " 'transgend',\n",
              " 'applic',\n",
              " 'might',\n",
              " 'accept',\n",
              " 'individu',\n",
              " 'medic',\n",
              " 'fit',\n",
              " 'servic',\n",
              " 'obama',\n",
              " 'administr',\n",
              " 'set',\n",
              " 'deadlin',\n",
              " 'juli',\n",
              " 'begin',\n",
              " 'accept',\n",
              " 'transgend',\n",
              " 'recruit',\n",
              " 'trump',\n",
              " 'defens',\n",
              " 'secretari',\n",
              " 'jame',\n",
              " 'matti',\n",
              " 'postpon',\n",
              " 'date',\n",
              " 'jan',\n",
              " 'presid',\n",
              " 'ban',\n",
              " 'put',\n",
              " 'indefinit',\n",
              " 'trump',\n",
              " 'taken',\n",
              " 'step',\n",
              " 'aim',\n",
              " 'roll',\n",
              " 'back',\n",
              " 'transgend',\n",
              " 'right',\n",
              " 'octob',\n",
              " 'administr',\n",
              " 'said',\n",
              " 'feder',\n",
              " 'law',\n",
              " 'ban',\n",
              " 'gender',\n",
              " 'base',\n",
              " 'workplac',\n",
              " 'discrimin',\n",
              " 'protect',\n",
              " 'transgend',\n",
              " 'employe',\n",
              " 'revers',\n",
              " 'anoth',\n",
              " 'obama',\n",
              " 'era',\n",
              " 'posit',\n",
              " 'februari',\n",
              " 'trump',\n",
              " 'rescind',\n",
              " 'guidanc',\n",
              " 'issu',\n",
              " 'obama',\n",
              " 'administr',\n",
              " 'say',\n",
              " 'public',\n",
              " 'school',\n",
              " 'allow',\n",
              " 'transgend',\n",
              " 'student',\n",
              " 'use',\n",
              " 'restroom',\n",
              " 'correspond',\n",
              " 'gender',\n",
              " 'ident']"
            ]
          },
          "metadata": {},
          "execution_count": 53
        }
      ]
    },
    {
      "cell_type": "code",
      "source": [
        "def clean_length(token):\n",
        "  return [i for i in token if len(i)>3]"
      ],
      "metadata": {
        "id": "MVP5aUvPFmOj"
      },
      "execution_count": null,
      "outputs": []
    },
    {
      "cell_type": "code",
      "source": [
        "df['news']=df['news'].apply(clean_length)"
      ],
      "metadata": {
        "id": "rc9xe-0OFmRe"
      },
      "execution_count": null,
      "outputs": []
    },
    {
      "cell_type": "code",
      "source": [
        "df['news'][1]"
      ],
      "metadata": {
        "colab": {
          "base_uri": "https://localhost:8080/"
        },
        "id": "rHZmzc3DFmT8",
        "outputId": "d09265b9-2fcf-495c-a30c-e42e589a4d00"
      },
      "execution_count": null,
      "outputs": [
        {
          "output_type": "execute_result",
          "data": {
            "text/plain": [
              "['militari',\n",
              " 'accept',\n",
              " 'transgend',\n",
              " 'recruit',\n",
              " 'monday',\n",
              " 'pentagon',\n",
              " 'washington',\n",
              " 'reuter',\n",
              " 'transgend',\n",
              " 'peopl',\n",
              " 'allow',\n",
              " 'first',\n",
              " 'time',\n",
              " 'enlist',\n",
              " 'militari',\n",
              " 'start',\n",
              " 'monday',\n",
              " 'order',\n",
              " 'feder',\n",
              " 'court',\n",
              " 'pentagon',\n",
              " 'said',\n",
              " 'friday',\n",
              " 'presid',\n",
              " 'donald',\n",
              " 'trump',\n",
              " 'administr',\n",
              " 'decid',\n",
              " 'appeal',\n",
              " 'rule',\n",
              " 'block',\n",
              " 'transgend',\n",
              " 'feder',\n",
              " 'appeal',\n",
              " 'court',\n",
              " 'washington',\n",
              " 'virginia',\n",
              " 'last',\n",
              " 'week',\n",
              " 'reject',\n",
              " 'administr',\n",
              " 'request',\n",
              " 'hold',\n",
              " 'order',\n",
              " 'lower',\n",
              " 'court',\n",
              " 'judg',\n",
              " 'requir',\n",
              " 'militari',\n",
              " 'begin',\n",
              " 'accept',\n",
              " 'transgend',\n",
              " 'recruit',\n",
              " 'justic',\n",
              " 'depart',\n",
              " 'offici',\n",
              " 'said',\n",
              " 'administr',\n",
              " 'challeng',\n",
              " 'rule',\n",
              " 'depart',\n",
              " 'defens',\n",
              " 'announc',\n",
              " 'releas',\n",
              " 'independ',\n",
              " 'studi',\n",
              " 'issu',\n",
              " 'come',\n",
              " 'week',\n",
              " 'rather',\n",
              " 'litig',\n",
              " 'interim',\n",
              " 'appeal',\n",
              " 'occur',\n",
              " 'administr',\n",
              " 'decid',\n",
              " 'wait',\n",
              " 'studi',\n",
              " 'continu',\n",
              " 'defend',\n",
              " 'presid',\n",
              " 'author',\n",
              " 'district',\n",
              " 'court',\n",
              " 'meantim',\n",
              " 'offici',\n",
              " 'said',\n",
              " 'speak',\n",
              " 'condit',\n",
              " 'anonym',\n",
              " 'septemb',\n",
              " 'pentagon',\n",
              " 'said',\n",
              " 'creat',\n",
              " 'panel',\n",
              " 'senior',\n",
              " 'offici',\n",
              " 'studi',\n",
              " 'implement',\n",
              " 'direct',\n",
              " 'trump',\n",
              " 'prohibit',\n",
              " 'transgend',\n",
              " 'individu',\n",
              " 'serv',\n",
              " 'defens',\n",
              " 'depart',\n",
              " 'submit',\n",
              " 'plan',\n",
              " 'trump',\n",
              " 'lawyer',\n",
              " 'repres',\n",
              " 'current',\n",
              " 'serv',\n",
              " 'transgend',\n",
              " 'servic',\n",
              " 'member',\n",
              " 'aspir',\n",
              " 'recruit',\n",
              " 'said',\n",
              " 'expect',\n",
              " 'administr',\n",
              " 'appeal',\n",
              " 'rule',\n",
              " 'conserv',\n",
              " 'major',\n",
              " 'suprem',\n",
              " 'court',\n",
              " 'hope',\n",
              " 'would',\n",
              " 'happen',\n",
              " 'pentagon',\n",
              " 'spokeswoman',\n",
              " 'heather',\n",
              " 'babb',\n",
              " 'said',\n",
              " 'statement',\n",
              " 'mandat',\n",
              " 'court',\n",
              " 'order',\n",
              " 'depart',\n",
              " 'defens',\n",
              " 'prepar',\n",
              " 'begin',\n",
              " 'access',\n",
              " 'transgend',\n",
              " 'applic',\n",
              " 'militari',\n",
              " 'servic',\n",
              " 'applic',\n",
              " 'must',\n",
              " 'meet',\n",
              " 'access',\n",
              " 'standard',\n",
              " 'jennif',\n",
              " 'levi',\n",
              " 'lawyer',\n",
              " 'lesbian',\n",
              " 'transgend',\n",
              " 'advocaci',\n",
              " 'group',\n",
              " 'glad',\n",
              " 'call',\n",
              " 'decis',\n",
              " 'appeal',\n",
              " 'great',\n",
              " 'news',\n",
              " 'hope',\n",
              " 'mean',\n",
              " 'govern',\n",
              " 'come',\n",
              " 'justifi',\n",
              " 'good',\n",
              " 'militari',\n",
              " 'countri',\n",
              " 'levi',\n",
              " 'said',\n",
              " 'glad',\n",
              " 'american',\n",
              " 'civil',\n",
              " 'liberti',\n",
              " 'union',\n",
              " 'repres',\n",
              " 'plaintiff',\n",
              " 'lawsuit',\n",
              " 'file',\n",
              " 'administr',\n",
              " 'move',\n",
              " 'appeal',\n",
              " 'hard',\n",
              " 'line',\n",
              " 'conserv',\n",
              " 'support',\n",
              " 'trump',\n",
              " 'announc',\n",
              " 'juli',\n",
              " 'would',\n",
              " 'prohibit',\n",
              " 'transgend',\n",
              " 'peopl',\n",
              " 'serv',\n",
              " 'militari',\n",
              " 'revers',\n",
              " 'democrat',\n",
              " 'presid',\n",
              " 'barack',\n",
              " 'obama',\n",
              " 'polici',\n",
              " 'accept',\n",
              " 'trump',\n",
              " 'said',\n",
              " 'twitter',\n",
              " 'time',\n",
              " 'militari',\n",
              " 'burden',\n",
              " 'tremend',\n",
              " 'medic',\n",
              " 'cost',\n",
              " 'disrupt',\n",
              " 'transgend',\n",
              " 'militari',\n",
              " 'would',\n",
              " 'entail',\n",
              " 'four',\n",
              " 'feder',\n",
              " 'judg',\n",
              " 'baltimor',\n",
              " 'washington',\n",
              " 'seattl',\n",
              " 'riversid',\n",
              " 'california',\n",
              " 'issu',\n",
              " 'rule',\n",
              " 'block',\n",
              " 'trump',\n",
              " 'legal',\n",
              " 'challeng',\n",
              " 'republican',\n",
              " 'presid',\n",
              " 'polici',\n",
              " 'proceed',\n",
              " 'judg',\n",
              " 'said',\n",
              " 'would',\n",
              " 'like',\n",
              " 'violat',\n",
              " 'right',\n",
              " 'constitut',\n",
              " 'equal',\n",
              " 'protect',\n",
              " 'pentagon',\n",
              " 'issu',\n",
              " 'guidelin',\n",
              " 'recruit',\n",
              " 'personnel',\n",
              " 'order',\n",
              " 'enlist',\n",
              " 'transgend',\n",
              " 'applic',\n",
              " 'memo',\n",
              " 'outlin',\n",
              " 'medic',\n",
              " 'requir',\n",
              " 'specifi',\n",
              " 'applic',\n",
              " 'would',\n",
              " 'identifi',\n",
              " 'even',\n",
              " 'undergar',\n",
              " 'would',\n",
              " 'wear',\n",
              " 'trump',\n",
              " 'administr',\n",
              " 'previous',\n",
              " 'said',\n",
              " 'legal',\n",
              " 'paper',\n",
              " 'forc',\n",
              " 'prepar',\n",
              " 'train',\n",
              " 'thousand',\n",
              " 'personnel',\n",
              " 'medic',\n",
              " 'standard',\n",
              " 'need',\n",
              " 'process',\n",
              " 'transgend',\n",
              " 'applic',\n",
              " 'might',\n",
              " 'accept',\n",
              " 'individu',\n",
              " 'medic',\n",
              " 'servic',\n",
              " 'obama',\n",
              " 'administr',\n",
              " 'deadlin',\n",
              " 'juli',\n",
              " 'begin',\n",
              " 'accept',\n",
              " 'transgend',\n",
              " 'recruit',\n",
              " 'trump',\n",
              " 'defens',\n",
              " 'secretari',\n",
              " 'jame',\n",
              " 'matti',\n",
              " 'postpon',\n",
              " 'date',\n",
              " 'presid',\n",
              " 'indefinit',\n",
              " 'trump',\n",
              " 'taken',\n",
              " 'step',\n",
              " 'roll',\n",
              " 'back',\n",
              " 'transgend',\n",
              " 'right',\n",
              " 'octob',\n",
              " 'administr',\n",
              " 'said',\n",
              " 'feder',\n",
              " 'gender',\n",
              " 'base',\n",
              " 'workplac',\n",
              " 'discrimin',\n",
              " 'protect',\n",
              " 'transgend',\n",
              " 'employe',\n",
              " 'revers',\n",
              " 'anoth',\n",
              " 'obama',\n",
              " 'posit',\n",
              " 'februari',\n",
              " 'trump',\n",
              " 'rescind',\n",
              " 'guidanc',\n",
              " 'issu',\n",
              " 'obama',\n",
              " 'administr',\n",
              " 'public',\n",
              " 'school',\n",
              " 'allow',\n",
              " 'transgend',\n",
              " 'student',\n",
              " 'restroom',\n",
              " 'correspond',\n",
              " 'gender',\n",
              " 'ident']"
            ]
          },
          "metadata": {},
          "execution_count": 56
        }
      ]
    },
    {
      "cell_type": "code",
      "source": [
        "def convert_to_string(text):\n",
        "  return \" \".join(text)"
      ],
      "metadata": {
        "id": "dzzlz3IjFmWr"
      },
      "execution_count": null,
      "outputs": []
    },
    {
      "cell_type": "code",
      "source": [
        "df['news']=df['news'].apply(convert_to_string)"
      ],
      "metadata": {
        "id": "TMbTzLKGFmZz"
      },
      "execution_count": null,
      "outputs": []
    },
    {
      "cell_type": "code",
      "source": [
        "df['news'][1]"
      ],
      "metadata": {
        "colab": {
          "base_uri": "https://localhost:8080/",
          "height": 140
        },
        "id": "4SU3NCyrFmdk",
        "outputId": "00e93cc2-d0ce-417f-e577-918d06b51518"
      },
      "execution_count": null,
      "outputs": [
        {
          "output_type": "execute_result",
          "data": {
            "text/plain": [
              "'militari accept transgend recruit monday pentagon washington reuter transgend peopl allow first time enlist militari start monday order feder court pentagon said friday presid donald trump administr decid appeal rule block transgend feder appeal court washington virginia last week reject administr request hold order lower court judg requir militari begin accept transgend recruit justic depart offici said administr challeng rule depart defens announc releas independ studi issu come week rather litig interim appeal occur administr decid wait studi continu defend presid author district court meantim offici said speak condit anonym septemb pentagon said creat panel senior offici studi implement direct trump prohibit transgend individu serv defens depart submit plan trump lawyer repres current serv transgend servic member aspir recruit said expect administr appeal rule conserv major suprem court hope would happen pentagon spokeswoman heather babb said statement mandat court order depart defens prepar begin access transgend applic militari servic applic must meet access standard jennif levi lawyer lesbian transgend advocaci group glad call decis appeal great news hope mean govern come justifi good militari countri levi said glad american civil liberti union repres plaintiff lawsuit file administr move appeal hard line conserv support trump announc juli would prohibit transgend peopl serv militari revers democrat presid barack obama polici accept trump said twitter time militari burden tremend medic cost disrupt transgend militari would entail four feder judg baltimor washington seattl riversid california issu rule block trump legal challeng republican presid polici proceed judg said would like violat right constitut equal protect pentagon issu guidelin recruit personnel order enlist transgend applic memo outlin medic requir specifi applic would identifi even undergar would wear trump administr previous said legal paper forc prepar train thousand personnel medic standard need process transgend applic might accept individu medic servic obama administr deadlin juli begin accept transgend recruit trump defens secretari jame matti postpon date presid indefinit trump taken step roll back transgend right octob administr said feder gender base workplac discrimin protect transgend employe revers anoth obama posit februari trump rescind guidanc issu obama administr public school allow transgend student restroom correspond gender ident'"
            ],
            "application/vnd.google.colaboratory.intrinsic+json": {
              "type": "string"
            }
          },
          "metadata": {},
          "execution_count": 59
        }
      ]
    },
    {
      "cell_type": "code",
      "source": [
        "from sklearn.model_selection import train_test_split"
      ],
      "metadata": {
        "id": "7IuKCQkiMq5S"
      },
      "execution_count": null,
      "outputs": []
    },
    {
      "cell_type": "code",
      "source": [
        "X = df['news']\n",
        "y = df['istrue']"
      ],
      "metadata": {
        "id": "IZzi4w5TMq79"
      },
      "execution_count": null,
      "outputs": []
    },
    {
      "cell_type": "code",
      "source": [
        "X_train, X_test, y_train, y_test = train_test_split(X,y, test_size = 0.2, random_state= 43)"
      ],
      "metadata": {
        "id": "Iy8lX_muMq-o"
      },
      "execution_count": null,
      "outputs": []
    },
    {
      "cell_type": "code",
      "source": [
        "from sklearn.feature_extraction.text import TfidfVectorizer\n",
        "from sklearn.feature_selection import SelectKBest, f_classif"
      ],
      "metadata": {
        "id": "lTelekC_LQxY"
      },
      "execution_count": null,
      "outputs": []
    },
    {
      "cell_type": "code",
      "source": [
        "vectorizer = TfidfVectorizer( \n",
        "                             strip_accents='unicode', \n",
        "                             decode_error='replace',\n",
        "                             dtype='int32',                              \n",
        "                             analyzer=\"word\", \n",
        "                             ngram_range=(1, 2), \n",
        "                             min_df=2)"
      ],
      "metadata": {
        "id": "c7hlRm1LMEan"
      },
      "execution_count": null,
      "outputs": []
    },
    {
      "cell_type": "code",
      "source": [
        "Xtrain = vectorizer.fit_transform(X_train)"
      ],
      "metadata": {
        "id": "w6drsLllNQlN",
        "colab": {
          "base_uri": "https://localhost:8080/"
        },
        "outputId": "3b340895-5d0b-41ae-e47f-feb127977d2d"
      },
      "execution_count": null,
      "outputs": [
        {
          "output_type": "stream",
          "name": "stderr",
          "text": [
            "/usr/local/lib/python3.7/dist-packages/sklearn/feature_extraction/text.py:2032: UserWarning: Only (<class 'numpy.float64'>, <class 'numpy.float32'>, <class 'numpy.float16'>) 'dtype' should be used. int32 'dtype' will be converted to np.float64.\n",
            "  UserWarning,\n"
          ]
        }
      ]
    },
    {
      "cell_type": "code",
      "source": [
        "Xtrain.shape"
      ],
      "metadata": {
        "colab": {
          "base_uri": "https://localhost:8080/"
        },
        "id": "MkAhhXJWOR6M",
        "outputId": "36d939fc-b78b-48ce-c9e3-9e8ef026a33a"
      },
      "execution_count": null,
      "outputs": [
        {
          "output_type": "execute_result",
          "data": {
            "text/plain": [
              "(35918, 1074591)"
            ]
          },
          "metadata": {},
          "execution_count": 66
        }
      ]
    },
    {
      "cell_type": "code",
      "source": [
        "Xtest = vectorizer.transform(X_test)"
      ],
      "metadata": {
        "id": "JpIJqxI1Ndu0"
      },
      "execution_count": null,
      "outputs": []
    },
    {
      "cell_type": "code",
      "source": [
        "selector = SelectKBest(f_classif, k = min(20000, Xtrain.shape[1]))\n",
        "selector.fit(Xtrain, y_train)"
      ],
      "metadata": {
        "id": "AplwavhsNjHE",
        "colab": {
          "base_uri": "https://localhost:8080/"
        },
        "outputId": "793bf43e-8015-4e2b-ecc0-977077faba7c"
      },
      "execution_count": null,
      "outputs": [
        {
          "output_type": "execute_result",
          "data": {
            "text/plain": [
              "SelectKBest(k=20000)"
            ]
          },
          "metadata": {},
          "execution_count": 68
        }
      ]
    },
    {
      "cell_type": "code",
      "source": [
        "Xtrain = selector.transform(Xtrain).astype('float32')\n",
        "Xtest = selector.transform(Xtest).astype('float32')"
      ],
      "metadata": {
        "id": "R5hyaJ0XOHWL"
      },
      "execution_count": null,
      "outputs": []
    },
    {
      "cell_type": "code",
      "source": [
        "Xtrain.shape"
      ],
      "metadata": {
        "id": "lDD-UZ-DOVbE",
        "colab": {
          "base_uri": "https://localhost:8080/"
        },
        "outputId": "a057064c-7a35-4f0e-e672-44926c4c46d2"
      },
      "execution_count": null,
      "outputs": [
        {
          "output_type": "execute_result",
          "data": {
            "text/plain": [
              "(35918, 20000)"
            ]
          },
          "metadata": {},
          "execution_count": 70
        }
      ]
    },
    {
      "cell_type": "code",
      "source": [
        "Xtest.shape"
      ],
      "metadata": {
        "id": "73jXhreLOYvM",
        "colab": {
          "base_uri": "https://localhost:8080/"
        },
        "outputId": "e9299af4-9e67-474d-a9a6-541bb9be1768"
      },
      "execution_count": null,
      "outputs": [
        {
          "output_type": "execute_result",
          "data": {
            "text/plain": [
              "(8980, 20000)"
            ]
          },
          "metadata": {},
          "execution_count": 71
        }
      ]
    },
    {
      "cell_type": "code",
      "source": [
        "ytrain = np.array(y_train)\n",
        "ytest = np.array(y_test)"
      ],
      "metadata": {
        "id": "7asht5mJOr3V"
      },
      "execution_count": null,
      "outputs": []
    },
    {
      "cell_type": "code",
      "source": [
        "Xtrain = Xtrain.toarray()\n",
        "Xtest = Xtest.toarray()"
      ],
      "metadata": {
        "id": "303gfomQQl-0"
      },
      "execution_count": null,
      "outputs": []
    },
    {
      "cell_type": "code",
      "source": [
        "Xtrain.shape"
      ],
      "metadata": {
        "id": "Gc8HQMAoQ5bs",
        "colab": {
          "base_uri": "https://localhost:8080/"
        },
        "outputId": "5b87129f-cd6b-4763-d107-c877a4442d85"
      },
      "execution_count": null,
      "outputs": [
        {
          "output_type": "execute_result",
          "data": {
            "text/plain": [
              "(35918, 20000)"
            ]
          },
          "metadata": {},
          "execution_count": 74
        }
      ]
    },
    {
      "cell_type": "code",
      "execution_count": null,
      "metadata": {
        "id": "l_3VINuuO60j"
      },
      "outputs": [],
      "source": [
        "import tensorflow\n",
        "from keras.models import Sequential, load_model\n",
        "from keras.layers import Dense, Dropout"
      ]
    },
    {
      "cell_type": "code",
      "execution_count": null,
      "metadata": {
        "id": "JO4xRVgmPG3M"
      },
      "outputs": [],
      "source": [
        "trueANN = Sequential()"
      ]
    },
    {
      "cell_type": "code",
      "source": [
        "trueANN.add(Dense(units=512, activation='relu', input_dim=20000))\n",
        "trueANN.add(Dense(units=1, activation='sigmoid'))"
      ],
      "metadata": {
        "id": "L2LOi30lNkT8"
      },
      "execution_count": null,
      "outputs": []
    },
    {
      "cell_type": "code",
      "execution_count": null,
      "metadata": {
        "id": "jNbJEyzdOH1m"
      },
      "outputs": [],
      "source": [
        "trueANN.compile(loss='binary_crossentropy', optimizer='adam', metrics=['accuracy'])"
      ]
    },
    {
      "cell_type": "code",
      "execution_count": null,
      "metadata": {
        "id": "LnXgGBg_OTGr"
      },
      "outputs": [],
      "source": [
        "from keras.callbacks import EarlyStopping, ModelCheckpoint, ReduceLROnPlateau\n",
        "\n",
        "mc = ModelCheckpoint(filepath='bestpredictionTrue.h5', monitor='val_accuracy', verbose=1, save_best_only=True)\n"
      ]
    },
    {
      "cell_type": "code",
      "source": [
        "history = trueANN.fit(Xtrain, ytrain, epochs=10, callbacks=[mc], validation_split=0.2)"
      ],
      "metadata": {
        "colab": {
          "base_uri": "https://localhost:8080/"
        },
        "id": "kHDGmarYNDxQ",
        "outputId": "73c377ce-a9f5-41cc-d486-5caae77a7404"
      },
      "execution_count": null,
      "outputs": [
        {
          "output_type": "stream",
          "name": "stdout",
          "text": [
            "Epoch 1/10\n",
            "897/898 [============================>.] - ETA: 0s - loss: 0.0749 - accuracy: 0.9814\n",
            "Epoch 1: val_accuracy improved from -inf to 0.99318, saving model to bestpredictionTrue.h5\n",
            "898/898 [==============================] - 34s 37ms/step - loss: 0.0749 - accuracy: 0.9814 - val_loss: 0.0233 - val_accuracy: 0.9932\n",
            "Epoch 2/10\n",
            "897/898 [============================>.] - ETA: 0s - loss: 0.0068 - accuracy: 0.9987\n",
            "Epoch 2: val_accuracy did not improve from 0.99318\n",
            "898/898 [==============================] - 33s 37ms/step - loss: 0.0068 - accuracy: 0.9987 - val_loss: 0.0215 - val_accuracy: 0.9928\n",
            "Epoch 3/10\n",
            "898/898 [==============================] - ETA: 0s - loss: 0.0014 - accuracy: 0.9998\n",
            "Epoch 3: val_accuracy did not improve from 0.99318\n",
            "898/898 [==============================] - 33s 37ms/step - loss: 0.0014 - accuracy: 0.9998 - val_loss: 0.0223 - val_accuracy: 0.9928\n",
            "Epoch 4/10\n",
            "897/898 [============================>.] - ETA: 0s - loss: 5.3986e-04 - accuracy: 1.0000\n",
            "Epoch 4: val_accuracy improved from 0.99318 to 0.99346, saving model to bestpredictionTrue.h5\n",
            "898/898 [==============================] - 34s 38ms/step - loss: 5.3938e-04 - accuracy: 1.0000 - val_loss: 0.0216 - val_accuracy: 0.9935\n",
            "Epoch 5/10\n",
            "897/898 [============================>.] - ETA: 0s - loss: 1.6079e-04 - accuracy: 1.0000\n",
            "Epoch 5: val_accuracy did not improve from 0.99346\n",
            "898/898 [==============================] - 34s 38ms/step - loss: 1.6069e-04 - accuracy: 1.0000 - val_loss: 0.0220 - val_accuracy: 0.9929\n",
            "Epoch 6/10\n",
            "897/898 [============================>.] - ETA: 0s - loss: 8.8008e-05 - accuracy: 1.0000\n",
            "Epoch 6: val_accuracy did not improve from 0.99346\n",
            "898/898 [==============================] - 34s 38ms/step - loss: 8.7995e-05 - accuracy: 1.0000 - val_loss: 0.0228 - val_accuracy: 0.9930\n",
            "Epoch 7/10\n",
            "897/898 [============================>.] - ETA: 0s - loss: 5.1469e-05 - accuracy: 1.0000\n",
            "Epoch 7: val_accuracy did not improve from 0.99346\n",
            "898/898 [==============================] - 34s 38ms/step - loss: 5.1437e-05 - accuracy: 1.0000 - val_loss: 0.0235 - val_accuracy: 0.9929\n",
            "Epoch 8/10\n",
            "897/898 [============================>.] - ETA: 0s - loss: 3.0672e-05 - accuracy: 1.0000\n",
            "Epoch 8: val_accuracy did not improve from 0.99346\n",
            "898/898 [==============================] - 33s 37ms/step - loss: 3.0669e-05 - accuracy: 1.0000 - val_loss: 0.0243 - val_accuracy: 0.9930\n",
            "Epoch 9/10\n",
            "897/898 [============================>.] - ETA: 0s - loss: 1.8801e-05 - accuracy: 1.0000\n",
            "Epoch 9: val_accuracy did not improve from 0.99346\n",
            "898/898 [==============================] - 34s 37ms/step - loss: 1.8794e-05 - accuracy: 1.0000 - val_loss: 0.0252 - val_accuracy: 0.9930\n",
            "Epoch 10/10\n",
            "897/898 [============================>.] - ETA: 0s - loss: 1.1576e-05 - accuracy: 1.0000\n",
            "Epoch 10: val_accuracy did not improve from 0.99346\n",
            "898/898 [==============================] - 33s 37ms/step - loss: 1.1566e-05 - accuracy: 1.0000 - val_loss: 0.0260 - val_accuracy: 0.9930\n"
          ]
        }
      ]
    },
    {
      "cell_type": "code",
      "execution_count": null,
      "metadata": {
        "id": "12Sqxi7wH0Lf",
        "colab": {
          "base_uri": "https://localhost:8080/",
          "height": 282
        },
        "outputId": "508bf934-737d-4b62-f50c-aa32aca61fb8"
      },
      "outputs": [
        {
          "output_type": "execute_result",
          "data": {
            "text/plain": [
              "[<matplotlib.lines.Line2D at 0x7fe903fb7890>]"
            ]
          },
          "metadata": {},
          "execution_count": 81
        },
        {
          "output_type": "display_data",
          "data": {
            "text/plain": [
              "<Figure size 432x288 with 1 Axes>"
            ],
            "image/png": "[encoded data removed]"
          },
          "metadata": {
            "needs_background": "light"
          }
        }
      ],
      "source": [
        "import matplotlib.pyplot as plt\n",
        "plt.plot(history.history['accuracy'])\n",
        "plt.plot(history.history['val_accuracy'])"
      ]
    },
    {
      "cell_type": "code",
      "execution_count": null,
      "metadata": {
        "id": "mpr-l6bbR0ur"
      },
      "outputs": [],
      "source": [
        "newmodel = load_model('bestpredictionTrue.h5')"
      ]
    },
    {
      "cell_type": "code",
      "execution_count": null,
      "metadata": {
        "id": "Rfrd4B77Bbub",
        "colab": {
          "base_uri": "https://localhost:8080/"
        },
        "outputId": "32d4e565-6340-455e-96a6-45e0ed0b24e7"
      },
      "outputs": [
        {
          "output_type": "stream",
          "name": "stdout",
          "text": [
            "281/281 [==============================] - 4s 13ms/step - loss: 0.0198 - accuracy: 0.9937\n"
          ]
        },
        {
          "output_type": "execute_result",
          "data": {
            "text/plain": [
              "[0.019805682823061943, 0.9936525821685791]"
            ]
          },
          "metadata": {},
          "execution_count": 84
        }
      ],
      "source": [
        "newmodel.evaluate(Xtest, ytest)"
      ]
    },
    {
      "cell_type": "code",
      "source": [],
      "metadata": {
        "id": "C6KfREdBotH9"
      },
      "execution_count": null,
      "outputs": []
    },
    {
      "cell_type": "code",
      "source": [],
      "metadata": {
        "id": "ZISs0IR7ofdo"
      },
      "execution_count": null,
      "outputs": []
    },
    {
      "cell_type": "code",
      "source": [],
      "metadata": {
        "id": "zznsJmCQofgM"
      },
      "execution_count": null,
      "outputs": []
    },
    {
      "cell_type": "code",
      "source": [],
      "metadata": {
        "id": "dJCulvVIofiO"
      },
      "execution_count": null,
      "outputs": []
    },
    {
      "cell_type": "code",
      "source": [],
      "metadata": {
        "id": "M_QD4lfvofk_"
      },
      "execution_count": null,
      "outputs": []
    },
    {
      "cell_type": "code",
      "source": [],
      "metadata": {
        "id": "ldkyntD-ofoq"
      },
      "execution_count": null,
      "outputs": []
    }
  ]
}