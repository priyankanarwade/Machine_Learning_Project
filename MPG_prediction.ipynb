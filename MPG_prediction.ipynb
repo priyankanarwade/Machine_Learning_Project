{
  "cells": [
    {
      "cell_type": "markdown",
      "metadata": {
        "id": "view-in-github",
        "colab_type": "text"
      },
      "source": [
        "<a href=\"https://colab.research.google.com/github/priyankanarwade/Machine_Learning_Project/blob/main/MPG_prediction.ipynb\" target=\"_parent\"><img src=\"https://colab.research.google.com/assets/colab-badge.svg\" alt=\"Open In Colab\"/></a>"
      ]
    },
    {
      "cell_type": "markdown",
      "metadata": {
        "id": "NXWso2TiS0Fn"
      },
      "source": [
        "**MPG prediction**"
      ]
    },
    {
      "cell_type": "code",
      "execution_count": null,
      "metadata": {
        "id": "_ZvYx26CMDyr"
      },
      "outputs": [],
      "source": [
        "# import liabraries\n",
        "import numpy as np\n",
        "import pandas as pd\n",
        "import matplotlib.pyplot as plt\n",
        "import seaborn as sns"
      ]
    },
    {
      "cell_type": "code",
      "execution_count": null,
      "metadata": {
        "id": "k-t2tjT6Mhv0"
      },
      "outputs": [],
      "source": [
        "# Make numpy printouts easier to read.\n",
        "np.set_printoptions(precision=3, suppress=True)"
      ]
    },
    {
      "cell_type": "code",
      "execution_count": null,
      "metadata": {
        "id": "JL4rKCRKMv9B"
      },
      "outputs": [],
      "source": [
        "# read CSV file\n",
        "url = 'http://archive.ics.uci.edu/ml/machine-learning-databases/auto-mpg/auto-mpg.data'\n",
        "column_names = ['MPG', 'Cylinders', 'Displacement', 'Horsepower', 'Weight',\n",
        "                'Acceleration', 'Model Year', 'Origin']\n",
        "\n",
        "df= pd.read_csv(url, names=column_names,\n",
        "                          na_values='?', comment='\\t',\n",
        "                          sep=' ', skipinitialspace=True)"
      ]
    },
    {
      "cell_type": "code",
      "execution_count": null,
      "metadata": {
        "colab": {
          "base_uri": "https://localhost:8080/",
          "height": 206
        },
        "id": "EC2c4gw_M3bQ",
        "outputId": "a8be0f8a-cecb-48ea-a65b-896bf1a455d5"
      },
      "outputs": [
        {
          "output_type": "execute_result",
          "data": {
            "text/plain": [
              "    MPG  Cylinders  Displacement  Horsepower  Weight  Acceleration  \\\n",
              "0  18.0          8         307.0       130.0  3504.0          12.0   \n",
              "1  15.0          8         350.0       165.0  3693.0          11.5   \n",
              "2  18.0          8         318.0       150.0  3436.0          11.0   \n",
              "3  16.0          8         304.0       150.0  3433.0          12.0   \n",
              "4  17.0          8         302.0       140.0  3449.0          10.5   \n",
              "\n",
              "   Model Year  Origin  \n",
              "0          70       1  \n",
              "1          70       1  \n",
              "2          70       1  \n",
              "3          70       1  \n",
              "4          70       1  "
            ],
            "text/html": [
              "\n",
              "  <div id=\"df-fb8742d9-56a7-409f-83ed-0af5d79aa2b4\">\n",
              "    <div class=\"colab-df-container\">\n",
              "      <div>\n",
              "<style scoped>\n",
              "    .dataframe tbody tr th:only-of-type {\n",
              "        vertical-align: middle;\n",
              "    }\n",
              "\n",
              "    .dataframe tbody tr th {\n",
              "        vertical-align: top;\n",
              "    }\n",
              "\n",
              "    .dataframe thead th {\n",
              "        text-align: right;\n",
              "    }\n",
              "</style>\n",
              "<table border=\"1\" class=\"dataframe\">\n",
              "  <thead>\n",
              "    <tr style=\"text-align: right;\">\n",
              "      <th></th>\n",
              "      <th>MPG</th>\n",
              "      <th>Cylinders</th>\n",
              "      <th>Displacement</th>\n",
              "      <th>Horsepower</th>\n",
              "      <th>Weight</th>\n",
              "      <th>Acceleration</th>\n",
              "      <th>Model Year</th>\n",
              "      <th>Origin</th>\n",
              "    </tr>\n",
              "  </thead>\n",
              "  <tbody>\n",
              "    <tr>\n",
              "      <th>0</th>\n",
              "      <td>18.0</td>\n",
              "      <td>8</td>\n",
              "      <td>307.0</td>\n",
              "      <td>130.0</td>\n",
              "      <td>3504.0</td>\n",
              "      <td>12.0</td>\n",
              "      <td>70</td>\n",
              "      <td>1</td>\n",
              "    </tr>\n",
              "    <tr>\n",
              "      <th>1</th>\n",
              "      <td>15.0</td>\n",
              "      <td>8</td>\n",
              "      <td>350.0</td>\n",
              "      <td>165.0</td>\n",
              "      <td>3693.0</td>\n",
              "      <td>11.5</td>\n",
              "      <td>70</td>\n",
              "      <td>1</td>\n",
              "    </tr>\n",
              "    <tr>\n",
              "      <th>2</th>\n",
              "      <td>18.0</td>\n",
              "      <td>8</td>\n",
              "      <td>318.0</td>\n",
              "      <td>150.0</td>\n",
              "      <td>3436.0</td>\n",
              "      <td>11.0</td>\n",
              "      <td>70</td>\n",
              "      <td>1</td>\n",
              "    </tr>\n",
              "    <tr>\n",
              "      <th>3</th>\n",
              "      <td>16.0</td>\n",
              "      <td>8</td>\n",
              "      <td>304.0</td>\n",
              "      <td>150.0</td>\n",
              "      <td>3433.0</td>\n",
              "      <td>12.0</td>\n",
              "      <td>70</td>\n",
              "      <td>1</td>\n",
              "    </tr>\n",
              "    <tr>\n",
              "      <th>4</th>\n",
              "      <td>17.0</td>\n",
              "      <td>8</td>\n",
              "      <td>302.0</td>\n",
              "      <td>140.0</td>\n",
              "      <td>3449.0</td>\n",
              "      <td>10.5</td>\n",
              "      <td>70</td>\n",
              "      <td>1</td>\n",
              "    </tr>\n",
              "  </tbody>\n",
              "</table>\n",
              "</div>\n",
              "      <button class=\"colab-df-convert\" onclick=\"convertToInteractive('df-fb8742d9-56a7-409f-83ed-0af5d79aa2b4')\"\n",
              "              title=\"Convert this dataframe to an interactive table.\"\n",
              "              style=\"display:none;\">\n",
              "        \n",
              "  <svg xmlns=\"http://www.w3.org/2000/svg\" height=\"24px\"viewBox=\"0 0 24 24\"\n",
              "       width=\"24px\">\n",
              "    <path d=\"M0 0h24v24H0V0z\" fill=\"none\"/>\n",
              "    <path d=\"M18.56 5.44l.94 2.06.94-2.06 2.06-.94-2.06-.94-.94-2.06-.94 2.06-2.06.94zm-11 1L8.5 8.5l.94-2.06 2.06-.94-2.06-.94L8.5 2.5l-.94 2.06-2.06.94zm10 10l.94 2.06.94-2.06 2.06-.94-2.06-.94-.94-2.06-.94 2.06-2.06.94z\"/><path d=\"M17.41 7.96l-1.37-1.37c-.4-.4-.92-.59-1.43-.59-.52 0-1.04.2-1.43.59L10.3 9.45l-7.72 7.72c-.78.78-.78 2.05 0 2.83L4 21.41c.39.39.9.59 1.41.59.51 0 1.02-.2 1.41-.59l7.78-7.78 2.81-2.81c.8-.78.8-2.07 0-2.86zM5.41 20L4 18.59l7.72-7.72 1.47 1.35L5.41 20z\"/>\n",
              "  </svg>\n",
              "      </button>\n",
              "      \n",
              "  <style>\n",
              "    .colab-df-container {\n",
              "      display:flex;\n",
              "      flex-wrap:wrap;\n",
              "      gap: 12px;\n",
              "    }\n",
              "\n",
              "    .colab-df-convert {\n",
              "      background-color: #E8F0FE;\n",
              "      border: none;\n",
              "      border-radius: 50%;\n",
              "      cursor: pointer;\n",
              "      display: none;\n",
              "      fill: #1967D2;\n",
              "      height: 32px;\n",
              "      padding: 0 0 0 0;\n",
              "      width: 32px;\n",
              "    }\n",
              "\n",
              "    .colab-df-convert:hover {\n",
              "      background-color: #E2EBFA;\n",
              "      box-shadow: 0px 1px 2px rgba(60, 64, 67, 0.3), 0px 1px 3px 1px rgba(60, 64, 67, 0.15);\n",
              "      fill: #174EA6;\n",
              "    }\n",
              "\n",
              "    [theme=dark] .colab-df-convert {\n",
              "      background-color: #3B4455;\n",
              "      fill: #D2E3FC;\n",
              "    }\n",
              "\n",
              "    [theme=dark] .colab-df-convert:hover {\n",
              "      background-color: #434B5C;\n",
              "      box-shadow: 0px 1px 3px 1px rgba(0, 0, 0, 0.15);\n",
              "      filter: drop-shadow(0px 1px 2px rgba(0, 0, 0, 0.3));\n",
              "      fill: #FFFFFF;\n",
              "    }\n",
              "  </style>\n",
              "\n",
              "      <script>\n",
              "        const buttonEl =\n",
              "          document.querySelector('#df-fb8742d9-56a7-409f-83ed-0af5d79aa2b4 button.colab-df-convert');\n",
              "        buttonEl.style.display =\n",
              "          google.colab.kernel.accessAllowed ? 'block' : 'none';\n",
              "\n",
              "        async function convertToInteractive(key) {\n",
              "          const element = document.querySelector('#df-fb8742d9-56a7-409f-83ed-0af5d79aa2b4');\n",
              "          const dataTable =\n",
              "            await google.colab.kernel.invokeFunction('convertToInteractive',\n",
              "                                                     [key], {});\n",
              "          if (!dataTable) return;\n",
              "\n",
              "          const docLinkHtml = 'Like what you see? Visit the ' +\n",
              "            '<a target=\"_blank\" href=https://colab.research.google.com/notebooks/data_table.ipynb>data table notebook</a>'\n",
              "            + ' to learn more about interactive tables.';\n",
              "          element.innerHTML = '';\n",
              "          dataTable['output_type'] = 'display_data';\n",
              "          await google.colab.output.renderOutput(dataTable, element);\n",
              "          const docLink = document.createElement('div');\n",
              "          docLink.innerHTML = docLinkHtml;\n",
              "          element.appendChild(docLink);\n",
              "        }\n",
              "      </script>\n",
              "    </div>\n",
              "  </div>\n",
              "  "
            ]
          },
          "metadata": {},
          "execution_count": 4
        }
      ],
      "source": [
        "df.head()"
      ]
    },
    {
      "cell_type": "code",
      "execution_count": null,
      "metadata": {
        "id": "pOfGYVi7NDF9"
      },
      "outputs": [],
      "source": [
        "df['KMPL']=df['MPG']* 0.425144 "
      ]
    },
    {
      "cell_type": "code",
      "execution_count": null,
      "metadata": {
        "colab": {
          "base_uri": "https://localhost:8080/",
          "height": 424
        },
        "id": "_g6ZbCxcRVVa",
        "outputId": "f9988366-1109-4713-ae1b-0c3ad25cdf7e"
      },
      "outputs": [
        {
          "output_type": "execute_result",
          "data": {
            "text/plain": [
              "     Cylinders  Displacement  Horsepower  Weight  Acceleration  Model Year  \\\n",
              "0            8         307.0       130.0  3504.0          12.0          70   \n",
              "1            8         350.0       165.0  3693.0          11.5          70   \n",
              "2            8         318.0       150.0  3436.0          11.0          70   \n",
              "3            8         304.0       150.0  3433.0          12.0          70   \n",
              "4            8         302.0       140.0  3449.0          10.5          70   \n",
              "..         ...           ...         ...     ...           ...         ...   \n",
              "393          4         140.0        86.0  2790.0          15.6          82   \n",
              "394          4          97.0        52.0  2130.0          24.6          82   \n",
              "395          4         135.0        84.0  2295.0          11.6          82   \n",
              "396          4         120.0        79.0  2625.0          18.6          82   \n",
              "397          4         119.0        82.0  2720.0          19.4          82   \n",
              "\n",
              "     Origin       KMPL  \n",
              "0         1   7.652592  \n",
              "1         1   6.377160  \n",
              "2         1   7.652592  \n",
              "3         1   6.802304  \n",
              "4         1   7.227448  \n",
              "..      ...        ...  \n",
              "393       1  11.478888  \n",
              "394       2  18.706336  \n",
              "395       1  13.604608  \n",
              "396       1  11.904032  \n",
              "397       1  13.179464  \n",
              "\n",
              "[398 rows x 8 columns]"
            ],
            "text/html": [
              "\n",
              "  <div id=\"df-fa2f9dd2-395d-4882-abad-d49d7bf0b246\">\n",
              "    <div class=\"colab-df-container\">\n",
              "      <div>\n",
              "<style scoped>\n",
              "    .dataframe tbody tr th:only-of-type {\n",
              "        vertical-align: middle;\n",
              "    }\n",
              "\n",
              "    .dataframe tbody tr th {\n",
              "        vertical-align: top;\n",
              "    }\n",
              "\n",
              "    .dataframe thead th {\n",
              "        text-align: right;\n",
              "    }\n",
              "</style>\n",
              "<table border=\"1\" class=\"dataframe\">\n",
              "  <thead>\n",
              "    <tr style=\"text-align: right;\">\n",
              "      <th></th>\n",
              "      <th>Cylinders</th>\n",
              "      <th>Displacement</th>\n",
              "      <th>Horsepower</th>\n",
              "      <th>Weight</th>\n",
              "      <th>Acceleration</th>\n",
              "      <th>Model Year</th>\n",
              "      <th>Origin</th>\n",
              "      <th>KMPL</th>\n",
              "    </tr>\n",
              "  </thead>\n",
              "  <tbody>\n",
              "    <tr>\n",
              "      <th>0</th>\n",
              "      <td>8</td>\n",
              "      <td>307.0</td>\n",
              "      <td>130.0</td>\n",
              "      <td>3504.0</td>\n",
              "      <td>12.0</td>\n",
              "      <td>70</td>\n",
              "      <td>1</td>\n",
              "      <td>7.652592</td>\n",
              "    </tr>\n",
              "    <tr>\n",
              "      <th>1</th>\n",
              "      <td>8</td>\n",
              "      <td>350.0</td>\n",
              "      <td>165.0</td>\n",
              "      <td>3693.0</td>\n",
              "      <td>11.5</td>\n",
              "      <td>70</td>\n",
              "      <td>1</td>\n",
              "      <td>6.377160</td>\n",
              "    </tr>\n",
              "    <tr>\n",
              "      <th>2</th>\n",
              "      <td>8</td>\n",
              "      <td>318.0</td>\n",
              "      <td>150.0</td>\n",
              "      <td>3436.0</td>\n",
              "      <td>11.0</td>\n",
              "      <td>70</td>\n",
              "      <td>1</td>\n",
              "      <td>7.652592</td>\n",
              "    </tr>\n",
              "    <tr>\n",
              "      <th>3</th>\n",
              "      <td>8</td>\n",
              "      <td>304.0</td>\n",
              "      <td>150.0</td>\n",
              "      <td>3433.0</td>\n",
              "      <td>12.0</td>\n",
              "      <td>70</td>\n",
              "      <td>1</td>\n",
              "      <td>6.802304</td>\n",
              "    </tr>\n",
              "    <tr>\n",
              "      <th>4</th>\n",
              "      <td>8</td>\n",
              "      <td>302.0</td>\n",
              "      <td>140.0</td>\n",
              "      <td>3449.0</td>\n",
              "      <td>10.5</td>\n",
              "      <td>70</td>\n",
              "      <td>1</td>\n",
              "      <td>7.227448</td>\n",
              "    </tr>\n",
              "    <tr>\n",
              "      <th>...</th>\n",
              "      <td>...</td>\n",
              "      <td>...</td>\n",
              "      <td>...</td>\n",
              "      <td>...</td>\n",
              "      <td>...</td>\n",
              "      <td>...</td>\n",
              "      <td>...</td>\n",
              "      <td>...</td>\n",
              "    </tr>\n",
              "    <tr>\n",
              "      <th>393</th>\n",
              "      <td>4</td>\n",
              "      <td>140.0</td>\n",
              "      <td>86.0</td>\n",
              "      <td>2790.0</td>\n",
              "      <td>15.6</td>\n",
              "      <td>82</td>\n",
              "      <td>1</td>\n",
              "      <td>11.478888</td>\n",
              "    </tr>\n",
              "    <tr>\n",
              "      <th>394</th>\n",
              "      <td>4</td>\n",
              "      <td>97.0</td>\n",
              "      <td>52.0</td>\n",
              "      <td>2130.0</td>\n",
              "      <td>24.6</td>\n",
              "      <td>82</td>\n",
              "      <td>2</td>\n",
              "      <td>18.706336</td>\n",
              "    </tr>\n",
              "    <tr>\n",
              "      <th>395</th>\n",
              "      <td>4</td>\n",
              "      <td>135.0</td>\n",
              "      <td>84.0</td>\n",
              "      <td>2295.0</td>\n",
              "      <td>11.6</td>\n",
              "      <td>82</td>\n",
              "      <td>1</td>\n",
              "      <td>13.604608</td>\n",
              "    </tr>\n",
              "    <tr>\n",
              "      <th>396</th>\n",
              "      <td>4</td>\n",
              "      <td>120.0</td>\n",
              "      <td>79.0</td>\n",
              "      <td>2625.0</td>\n",
              "      <td>18.6</td>\n",
              "      <td>82</td>\n",
              "      <td>1</td>\n",
              "      <td>11.904032</td>\n",
              "    </tr>\n",
              "    <tr>\n",
              "      <th>397</th>\n",
              "      <td>4</td>\n",
              "      <td>119.0</td>\n",
              "      <td>82.0</td>\n",
              "      <td>2720.0</td>\n",
              "      <td>19.4</td>\n",
              "      <td>82</td>\n",
              "      <td>1</td>\n",
              "      <td>13.179464</td>\n",
              "    </tr>\n",
              "  </tbody>\n",
              "</table>\n",
              "<p>398 rows × 8 columns</p>\n",
              "</div>\n",
              "      <button class=\"colab-df-convert\" onclick=\"convertToInteractive('df-fa2f9dd2-395d-4882-abad-d49d7bf0b246')\"\n",
              "              title=\"Convert this dataframe to an interactive table.\"\n",
              "              style=\"display:none;\">\n",
              "        \n",
              "  <svg xmlns=\"http://www.w3.org/2000/svg\" height=\"24px\"viewBox=\"0 0 24 24\"\n",
              "       width=\"24px\">\n",
              "    <path d=\"M0 0h24v24H0V0z\" fill=\"none\"/>\n",
              "    <path d=\"M18.56 5.44l.94 2.06.94-2.06 2.06-.94-2.06-.94-.94-2.06-.94 2.06-2.06.94zm-11 1L8.5 8.5l.94-2.06 2.06-.94-2.06-.94L8.5 2.5l-.94 2.06-2.06.94zm10 10l.94 2.06.94-2.06 2.06-.94-2.06-.94-.94-2.06-.94 2.06-2.06.94z\"/><path d=\"M17.41 7.96l-1.37-1.37c-.4-.4-.92-.59-1.43-.59-.52 0-1.04.2-1.43.59L10.3 9.45l-7.72 7.72c-.78.78-.78 2.05 0 2.83L4 21.41c.39.39.9.59 1.41.59.51 0 1.02-.2 1.41-.59l7.78-7.78 2.81-2.81c.8-.78.8-2.07 0-2.86zM5.41 20L4 18.59l7.72-7.72 1.47 1.35L5.41 20z\"/>\n",
              "  </svg>\n",
              "      </button>\n",
              "      \n",
              "  <style>\n",
              "    .colab-df-container {\n",
              "      display:flex;\n",
              "      flex-wrap:wrap;\n",
              "      gap: 12px;\n",
              "    }\n",
              "\n",
              "    .colab-df-convert {\n",
              "      background-color: #E8F0FE;\n",
              "      border: none;\n",
              "      border-radius: 50%;\n",
              "      cursor: pointer;\n",
              "      display: none;\n",
              "      fill: #1967D2;\n",
              "      height: 32px;\n",
              "      padding: 0 0 0 0;\n",
              "      width: 32px;\n",
              "    }\n",
              "\n",
              "    .colab-df-convert:hover {\n",
              "      background-color: #E2EBFA;\n",
              "      box-shadow: 0px 1px 2px rgba(60, 64, 67, 0.3), 0px 1px 3px 1px rgba(60, 64, 67, 0.15);\n",
              "      fill: #174EA6;\n",
              "    }\n",
              "\n",
              "    [theme=dark] .colab-df-convert {\n",
              "      background-color: #3B4455;\n",
              "      fill: #D2E3FC;\n",
              "    }\n",
              "\n",
              "    [theme=dark] .colab-df-convert:hover {\n",
              "      background-color: #434B5C;\n",
              "      box-shadow: 0px 1px 3px 1px rgba(0, 0, 0, 0.15);\n",
              "      filter: drop-shadow(0px 1px 2px rgba(0, 0, 0, 0.3));\n",
              "      fill: #FFFFFF;\n",
              "    }\n",
              "  </style>\n",
              "\n",
              "      <script>\n",
              "        const buttonEl =\n",
              "          document.querySelector('#df-fa2f9dd2-395d-4882-abad-d49d7bf0b246 button.colab-df-convert');\n",
              "        buttonEl.style.display =\n",
              "          google.colab.kernel.accessAllowed ? 'block' : 'none';\n",
              "\n",
              "        async function convertToInteractive(key) {\n",
              "          const element = document.querySelector('#df-fa2f9dd2-395d-4882-abad-d49d7bf0b246');\n",
              "          const dataTable =\n",
              "            await google.colab.kernel.invokeFunction('convertToInteractive',\n",
              "                                                     [key], {});\n",
              "          if (!dataTable) return;\n",
              "\n",
              "          const docLinkHtml = 'Like what you see? Visit the ' +\n",
              "            '<a target=\"_blank\" href=https://colab.research.google.com/notebooks/data_table.ipynb>data table notebook</a>'\n",
              "            + ' to learn more about interactive tables.';\n",
              "          element.innerHTML = '';\n",
              "          dataTable['output_type'] = 'display_data';\n",
              "          await google.colab.output.renderOutput(dataTable, element);\n",
              "          const docLink = document.createElement('div');\n",
              "          docLink.innerHTML = docLinkHtml;\n",
              "          element.appendChild(docLink);\n",
              "        }\n",
              "      </script>\n",
              "    </div>\n",
              "  </div>\n",
              "  "
            ]
          },
          "metadata": {},
          "execution_count": 6
        }
      ],
      "source": [
        "df_new = df.drop('MPG',axis=1)\n",
        "df_new"
      ]
    },
    {
      "cell_type": "code",
      "execution_count": null,
      "metadata": {
        "colab": {
          "base_uri": "https://localhost:8080/"
        },
        "id": "pCM_hHyvNJUA",
        "outputId": "5ca514ed-074c-43fb-8c63-f05672aa28bf"
      },
      "outputs": [
        {
          "output_type": "stream",
          "name": "stdout",
          "text": [
            "<class 'pandas.core.frame.DataFrame'>\n",
            "RangeIndex: 398 entries, 0 to 397\n",
            "Data columns (total 8 columns):\n",
            " #   Column        Non-Null Count  Dtype  \n",
            "---  ------        --------------  -----  \n",
            " 0   Cylinders     398 non-null    int64  \n",
            " 1   Displacement  398 non-null    float64\n",
            " 2   Horsepower    398 non-null    float64\n",
            " 3   Weight        398 non-null    float64\n",
            " 4   Acceleration  398 non-null    float64\n",
            " 5   Model Year    398 non-null    int64  \n",
            " 6   Origin        398 non-null    int64  \n",
            " 7   KMPL          398 non-null    float64\n",
            "dtypes: float64(5), int64(3)\n",
            "memory usage: 25.0 KB\n"
          ]
        }
      ],
      "source": [
        "df_new['Horsepower'].fillna(df_new['Horsepower'].mean(), inplace=True)\n",
        "df_new.info()"
      ]
    },
    {
      "cell_type": "code",
      "execution_count": null,
      "metadata": {
        "colab": {
          "base_uri": "https://localhost:8080/",
          "height": 472
        },
        "id": "KV6MNzDvN-41",
        "outputId": "d6b41d6d-8132-4e2c-b9ab-296e8c144ec5"
      },
      "outputs": [
        {
          "output_type": "execute_result",
          "data": {
            "text/plain": [
              "array([[<matplotlib.axes._subplots.AxesSubplot object at 0x7f3271699a10>,\n",
              "        <matplotlib.axes._subplots.AxesSubplot object at 0x7f3272420050>,\n",
              "        <matplotlib.axes._subplots.AxesSubplot object at 0x7f3271638410>],\n",
              "       [<matplotlib.axes._subplots.AxesSubplot object at 0x7f32715eca10>,\n",
              "        <matplotlib.axes._subplots.AxesSubplot object at 0x7f32715a3fd0>,\n",
              "        <matplotlib.axes._subplots.AxesSubplot object at 0x7f3271567650>],\n",
              "       [<matplotlib.axes._subplots.AxesSubplot object at 0x7f327151dcd0>,\n",
              "        <matplotlib.axes._subplots.AxesSubplot object at 0x7f32714e2250>,\n",
              "        <matplotlib.axes._subplots.AxesSubplot object at 0x7f32714e2290>]],\n",
              "      dtype=object)"
            ]
          },
          "metadata": {},
          "execution_count": 8
        },
        {
          "output_type": "display_data",
          "data": {
            "text/plain": [
              "<Figure size 1800x1440 with 0 Axes>"
            ]
          },
          "metadata": {}
        },
        {
          "output_type": "display_data",
          "data": {
            "text/plain": [
              "<Figure size 432x288 with 9 Axes>"
            ],
            "image/png": "[encoded data removed]"
          },
          "metadata": {
            "needs_background": "light"
          }
        }
      ],
      "source": [
        "plt.figure(figsize=(25,20))\n",
        "df_new.hist()"
      ]
    },
    {
      "cell_type": "code",
      "execution_count": null,
      "metadata": {
        "colab": {
          "base_uri": "https://localhost:8080/",
          "height": 386
        },
        "id": "7M9dZvb6OJGQ",
        "outputId": "e0cad078-2ffa-4630-fce9-7201162fe826"
      },
      "outputs": [
        {
          "output_type": "execute_result",
          "data": {
            "text/plain": [
              "<seaborn.axisgrid.FacetGrid at 0x7f3270e16f90>"
            ]
          },
          "metadata": {},
          "execution_count": 9
        },
        {
          "output_type": "display_data",
          "data": {
            "text/plain": [
              "<Figure size 360x360 with 1 Axes>"
            ],
            "image/png": "[encoded data removed]"
          },
          "metadata": {
            "needs_background": "light"
          }
        }
      ],
      "source": [
        "sns.lmplot(x='Displacement', y='KMPL',data=df_new)"
      ]
    },
    {
      "cell_type": "code",
      "execution_count": null,
      "metadata": {
        "colab": {
          "base_uri": "https://localhost:8080/",
          "height": 386
        },
        "id": "F_-nhnRoQ-7T",
        "outputId": "91de447e-d0f6-424d-cc53-d01438fea480"
      },
      "outputs": [
        {
          "output_type": "execute_result",
          "data": {
            "text/plain": [
              "<seaborn.axisgrid.FacetGrid at 0x7f3270e02190>"
            ]
          },
          "metadata": {},
          "execution_count": 10
        },
        {
          "output_type": "display_data",
          "data": {
            "text/plain": [
              "<Figure size 360x360 with 1 Axes>"
            ],
            "image/png": "[encoded data removed]"
          },
          "metadata": {
            "needs_background": "light"
          }
        }
      ],
      "source": [
        "sns.lmplot(x='Horsepower',  y='KMPL',data=df_new)"
      ]
    },
    {
      "cell_type": "code",
      "execution_count": null,
      "metadata": {
        "colab": {
          "base_uri": "https://localhost:8080/",
          "height": 386
        },
        "id": "_TzUX4dMOig2",
        "outputId": "0f167057-784e-4854-d7d1-c21eef857555"
      },
      "outputs": [
        {
          "output_type": "execute_result",
          "data": {
            "text/plain": [
              "<seaborn.axisgrid.FacetGrid at 0x7f326e52b6d0>"
            ]
          },
          "metadata": {},
          "execution_count": 11
        },
        {
          "output_type": "display_data",
          "data": {
            "text/plain": [
              "<Figure size 360x360 with 1 Axes>"
            ],
            "image/png": "[encoded data removed]"
          },
          "metadata": {
            "needs_background": "light"
          }
        }
      ],
      "source": [
        "sns.lmplot(x='Weight',  y='KMPL',data=df_new)"
      ]
    },
    {
      "cell_type": "code",
      "execution_count": null,
      "metadata": {
        "colab": {
          "base_uri": "https://localhost:8080/",
          "height": 386
        },
        "id": "A3ohNrxgPD7t",
        "outputId": "e16dd906-b226-4d60-a401-4e3e3a3d072e"
      },
      "outputs": [
        {
          "output_type": "execute_result",
          "data": {
            "text/plain": [
              "<seaborn.axisgrid.FacetGrid at 0x7f326e54bcd0>"
            ]
          },
          "metadata": {},
          "execution_count": 12
        },
        {
          "output_type": "display_data",
          "data": {
            "text/plain": [
              "<Figure size 360x360 with 1 Axes>"
            ],
            "image/png": "[encoded data removed]"
          },
          "metadata": {
            "needs_background": "light"
          }
        }
      ],
      "source": [
        "sns.lmplot(x='Acceleration',  y='KMPL',data=df_new)"
      ]
    },
    {
      "cell_type": "code",
      "execution_count": null,
      "metadata": {
        "colab": {
          "base_uri": "https://localhost:8080/",
          "height": 351
        },
        "id": "yG1Z46zhPYEJ",
        "outputId": "1ca5a395-5107-45bf-b609-54926068d83e"
      },
      "outputs": [
        {
          "output_type": "stream",
          "name": "stderr",
          "text": [
            "/usr/local/lib/python3.7/dist-packages/seaborn/_decorators.py:43: FutureWarning: Pass the following variable as a keyword arg: x. From version 0.12, the only valid positional argument will be `data`, and passing other arguments without an explicit keyword will result in an error or misinterpretation.\n",
            "  FutureWarning\n"
          ]
        },
        {
          "output_type": "execute_result",
          "data": {
            "text/plain": [
              "<matplotlib.axes._subplots.AxesSubplot at 0x7f326e4235d0>"
            ]
          },
          "metadata": {},
          "execution_count": 13
        },
        {
          "output_type": "display_data",
          "data": {
            "text/plain": [
              "<Figure size 432x288 with 1 Axes>"
            ],
            "image/png": "[encoded data removed]"
          },
          "metadata": {
            "needs_background": "light"
          }
        }
      ],
      "source": [
        "sns.countplot(df_new['Model Year'])"
      ]
    },
    {
      "cell_type": "code",
      "execution_count": null,
      "metadata": {
        "colab": {
          "base_uri": "https://localhost:8080/",
          "height": 351
        },
        "id": "rhqw8zeGPjRJ",
        "outputId": "1bc228b4-36b9-4130-a2ef-6c2e3b70a4cb"
      },
      "outputs": [
        {
          "output_type": "stream",
          "name": "stderr",
          "text": [
            "/usr/local/lib/python3.7/dist-packages/seaborn/_decorators.py:43: FutureWarning: Pass the following variable as a keyword arg: x. From version 0.12, the only valid positional argument will be `data`, and passing other arguments without an explicit keyword will result in an error or misinterpretation.\n",
            "  FutureWarning\n"
          ]
        },
        {
          "output_type": "execute_result",
          "data": {
            "text/plain": [
              "<matplotlib.axes._subplots.AxesSubplot at 0x7f326e3f4390>"
            ]
          },
          "metadata": {},
          "execution_count": 14
        },
        {
          "output_type": "display_data",
          "data": {
            "text/plain": [
              "<Figure size 432x288 with 1 Axes>"
            ],
            "image/png": "[encoded data removed]"
          },
          "metadata": {
            "needs_background": "light"
          }
        }
      ],
      "source": [
        "sns.countplot(df_new['Cylinders'])"
      ]
    },
    {
      "cell_type": "code",
      "execution_count": null,
      "metadata": {
        "colab": {
          "base_uri": "https://localhost:8080/",
          "height": 351
        },
        "id": "txz92o0LPp9Z",
        "outputId": "a6d48be6-e916-48b9-d45e-5165d5fb94f2"
      },
      "outputs": [
        {
          "output_type": "stream",
          "name": "stderr",
          "text": [
            "/usr/local/lib/python3.7/dist-packages/seaborn/_decorators.py:43: FutureWarning: Pass the following variable as a keyword arg: x. From version 0.12, the only valid positional argument will be `data`, and passing other arguments without an explicit keyword will result in an error or misinterpretation.\n",
            "  FutureWarning\n"
          ]
        },
        {
          "output_type": "execute_result",
          "data": {
            "text/plain": [
              "<matplotlib.axes._subplots.AxesSubplot at 0x7f326e30fe90>"
            ]
          },
          "metadata": {},
          "execution_count": 15
        },
        {
          "output_type": "display_data",
          "data": {
            "text/plain": [
              "<Figure size 432x288 with 1 Axes>"
            ],
            "image/png": "[encoded data removed]"
          },
          "metadata": {
            "needs_background": "light"
          }
        }
      ],
      "source": [
        "sns.countplot(df_new['Origin'])"
      ]
    },
    {
      "cell_type": "code",
      "execution_count": null,
      "metadata": {
        "colab": {
          "base_uri": "https://localhost:8080/",
          "height": 424
        },
        "id": "eqFdQTiAppXr",
        "outputId": "9d68ca16-1bff-4c8c-95d6-93c3dec88133"
      },
      "outputs": [
        {
          "output_type": "execute_result",
          "data": {
            "text/plain": [
              "     Cylinders  Displacement  Horsepower  Weight  Acceleration  Model Year  \\\n",
              "0            8         307.0       130.0  3504.0          12.0          70   \n",
              "1            8         350.0       165.0  3693.0          11.5          70   \n",
              "2            8         318.0       150.0  3436.0          11.0          70   \n",
              "3            8         304.0       150.0  3433.0          12.0          70   \n",
              "4            8         302.0       140.0  3449.0          10.5          70   \n",
              "..         ...           ...         ...     ...           ...         ...   \n",
              "393          4         140.0        86.0  2790.0          15.6          82   \n",
              "394          4          97.0        52.0  2130.0          24.6          82   \n",
              "395          4         135.0        84.0  2295.0          11.6          82   \n",
              "396          4         120.0        79.0  2625.0          18.6          82   \n",
              "397          4         119.0        82.0  2720.0          19.4          82   \n",
              "\n",
              "     Origin       KMPL  \n",
              "0         1   7.652592  \n",
              "1         1   6.377160  \n",
              "2         1   7.652592  \n",
              "3         1   6.802304  \n",
              "4         1   7.227448  \n",
              "..      ...        ...  \n",
              "393       1  11.478888  \n",
              "394       2  18.706336  \n",
              "395       1  13.604608  \n",
              "396       1  11.904032  \n",
              "397       1  13.179464  \n",
              "\n",
              "[398 rows x 8 columns]"
            ],
            "text/html": [
              "\n",
              "  <div id=\"df-03e3e009-7724-45de-bb25-c7b42f39d795\">\n",
              "    <div class=\"colab-df-container\">\n",
              "      <div>\n",
              "<style scoped>\n",
              "    .dataframe tbody tr th:only-of-type {\n",
              "        vertical-align: middle;\n",
              "    }\n",
              "\n",
              "    .dataframe tbody tr th {\n",
              "        vertical-align: top;\n",
              "    }\n",
              "\n",
              "    .dataframe thead th {\n",
              "        text-align: right;\n",
              "    }\n",
              "</style>\n",
              "<table border=\"1\" class=\"dataframe\">\n",
              "  <thead>\n",
              "    <tr style=\"text-align: right;\">\n",
              "      <th></th>\n",
              "      <th>Cylinders</th>\n",
              "      <th>Displacement</th>\n",
              "      <th>Horsepower</th>\n",
              "      <th>Weight</th>\n",
              "      <th>Acceleration</th>\n",
              "      <th>Model Year</th>\n",
              "      <th>Origin</th>\n",
              "      <th>KMPL</th>\n",
              "    </tr>\n",
              "  </thead>\n",
              "  <tbody>\n",
              "    <tr>\n",
              "      <th>0</th>\n",
              "      <td>8</td>\n",
              "      <td>307.0</td>\n",
              "      <td>130.0</td>\n",
              "      <td>3504.0</td>\n",
              "      <td>12.0</td>\n",
              "      <td>70</td>\n",
              "      <td>1</td>\n",
              "      <td>7.652592</td>\n",
              "    </tr>\n",
              "    <tr>\n",
              "      <th>1</th>\n",
              "      <td>8</td>\n",
              "      <td>350.0</td>\n",
              "      <td>165.0</td>\n",
              "      <td>3693.0</td>\n",
              "      <td>11.5</td>\n",
              "      <td>70</td>\n",
              "      <td>1</td>\n",
              "      <td>6.377160</td>\n",
              "    </tr>\n",
              "    <tr>\n",
              "      <th>2</th>\n",
              "      <td>8</td>\n",
              "      <td>318.0</td>\n",
              "      <td>150.0</td>\n",
              "      <td>3436.0</td>\n",
              "      <td>11.0</td>\n",
              "      <td>70</td>\n",
              "      <td>1</td>\n",
              "      <td>7.652592</td>\n",
              "    </tr>\n",
              "    <tr>\n",
              "      <th>3</th>\n",
              "      <td>8</td>\n",
              "      <td>304.0</td>\n",
              "      <td>150.0</td>\n",
              "      <td>3433.0</td>\n",
              "      <td>12.0</td>\n",
              "      <td>70</td>\n",
              "      <td>1</td>\n",
              "      <td>6.802304</td>\n",
              "    </tr>\n",
              "    <tr>\n",
              "      <th>4</th>\n",
              "      <td>8</td>\n",
              "      <td>302.0</td>\n",
              "      <td>140.0</td>\n",
              "      <td>3449.0</td>\n",
              "      <td>10.5</td>\n",
              "      <td>70</td>\n",
              "      <td>1</td>\n",
              "      <td>7.227448</td>\n",
              "    </tr>\n",
              "    <tr>\n",
              "      <th>...</th>\n",
              "      <td>...</td>\n",
              "      <td>...</td>\n",
              "      <td>...</td>\n",
              "      <td>...</td>\n",
              "      <td>...</td>\n",
              "      <td>...</td>\n",
              "      <td>...</td>\n",
              "      <td>...</td>\n",
              "    </tr>\n",
              "    <tr>\n",
              "      <th>393</th>\n",
              "      <td>4</td>\n",
              "      <td>140.0</td>\n",
              "      <td>86.0</td>\n",
              "      <td>2790.0</td>\n",
              "      <td>15.6</td>\n",
              "      <td>82</td>\n",
              "      <td>1</td>\n",
              "      <td>11.478888</td>\n",
              "    </tr>\n",
              "    <tr>\n",
              "      <th>394</th>\n",
              "      <td>4</td>\n",
              "      <td>97.0</td>\n",
              "      <td>52.0</td>\n",
              "      <td>2130.0</td>\n",
              "      <td>24.6</td>\n",
              "      <td>82</td>\n",
              "      <td>2</td>\n",
              "      <td>18.706336</td>\n",
              "    </tr>\n",
              "    <tr>\n",
              "      <th>395</th>\n",
              "      <td>4</td>\n",
              "      <td>135.0</td>\n",
              "      <td>84.0</td>\n",
              "      <td>2295.0</td>\n",
              "      <td>11.6</td>\n",
              "      <td>82</td>\n",
              "      <td>1</td>\n",
              "      <td>13.604608</td>\n",
              "    </tr>\n",
              "    <tr>\n",
              "      <th>396</th>\n",
              "      <td>4</td>\n",
              "      <td>120.0</td>\n",
              "      <td>79.0</td>\n",
              "      <td>2625.0</td>\n",
              "      <td>18.6</td>\n",
              "      <td>82</td>\n",
              "      <td>1</td>\n",
              "      <td>11.904032</td>\n",
              "    </tr>\n",
              "    <tr>\n",
              "      <th>397</th>\n",
              "      <td>4</td>\n",
              "      <td>119.0</td>\n",
              "      <td>82.0</td>\n",
              "      <td>2720.0</td>\n",
              "      <td>19.4</td>\n",
              "      <td>82</td>\n",
              "      <td>1</td>\n",
              "      <td>13.179464</td>\n",
              "    </tr>\n",
              "  </tbody>\n",
              "</table>\n",
              "<p>398 rows × 8 columns</p>\n",
              "</div>\n",
              "      <button class=\"colab-df-convert\" onclick=\"convertToInteractive('df-03e3e009-7724-45de-bb25-c7b42f39d795')\"\n",
              "              title=\"Convert this dataframe to an interactive table.\"\n",
              "              style=\"display:none;\">\n",
              "        \n",
              "  <svg xmlns=\"http://www.w3.org/2000/svg\" height=\"24px\"viewBox=\"0 0 24 24\"\n",
              "       width=\"24px\">\n",
              "    <path d=\"M0 0h24v24H0V0z\" fill=\"none\"/>\n",
              "    <path d=\"M18.56 5.44l.94 2.06.94-2.06 2.06-.94-2.06-.94-.94-2.06-.94 2.06-2.06.94zm-11 1L8.5 8.5l.94-2.06 2.06-.94-2.06-.94L8.5 2.5l-.94 2.06-2.06.94zm10 10l.94 2.06.94-2.06 2.06-.94-2.06-.94-.94-2.06-.94 2.06-2.06.94z\"/><path d=\"M17.41 7.96l-1.37-1.37c-.4-.4-.92-.59-1.43-.59-.52 0-1.04.2-1.43.59L10.3 9.45l-7.72 7.72c-.78.78-.78 2.05 0 2.83L4 21.41c.39.39.9.59 1.41.59.51 0 1.02-.2 1.41-.59l7.78-7.78 2.81-2.81c.8-.78.8-2.07 0-2.86zM5.41 20L4 18.59l7.72-7.72 1.47 1.35L5.41 20z\"/>\n",
              "  </svg>\n",
              "      </button>\n",
              "      \n",
              "  <style>\n",
              "    .colab-df-container {\n",
              "      display:flex;\n",
              "      flex-wrap:wrap;\n",
              "      gap: 12px;\n",
              "    }\n",
              "\n",
              "    .colab-df-convert {\n",
              "      background-color: #E8F0FE;\n",
              "      border: none;\n",
              "      border-radius: 50%;\n",
              "      cursor: pointer;\n",
              "      display: none;\n",
              "      fill: #1967D2;\n",
              "      height: 32px;\n",
              "      padding: 0 0 0 0;\n",
              "      width: 32px;\n",
              "    }\n",
              "\n",
              "    .colab-df-convert:hover {\n",
              "      background-color: #E2EBFA;\n",
              "      box-shadow: 0px 1px 2px rgba(60, 64, 67, 0.3), 0px 1px 3px 1px rgba(60, 64, 67, 0.15);\n",
              "      fill: #174EA6;\n",
              "    }\n",
              "\n",
              "    [theme=dark] .colab-df-convert {\n",
              "      background-color: #3B4455;\n",
              "      fill: #D2E3FC;\n",
              "    }\n",
              "\n",
              "    [theme=dark] .colab-df-convert:hover {\n",
              "      background-color: #434B5C;\n",
              "      box-shadow: 0px 1px 3px 1px rgba(0, 0, 0, 0.15);\n",
              "      filter: drop-shadow(0px 1px 2px rgba(0, 0, 0, 0.3));\n",
              "      fill: #FFFFFF;\n",
              "    }\n",
              "  </style>\n",
              "\n",
              "      <script>\n",
              "        const buttonEl =\n",
              "          document.querySelector('#df-03e3e009-7724-45de-bb25-c7b42f39d795 button.colab-df-convert');\n",
              "        buttonEl.style.display =\n",
              "          google.colab.kernel.accessAllowed ? 'block' : 'none';\n",
              "\n",
              "        async function convertToInteractive(key) {\n",
              "          const element = document.querySelector('#df-03e3e009-7724-45de-bb25-c7b42f39d795');\n",
              "          const dataTable =\n",
              "            await google.colab.kernel.invokeFunction('convertToInteractive',\n",
              "                                                     [key], {});\n",
              "          if (!dataTable) return;\n",
              "\n",
              "          const docLinkHtml = 'Like what you see? Visit the ' +\n",
              "            '<a target=\"_blank\" href=https://colab.research.google.com/notebooks/data_table.ipynb>data table notebook</a>'\n",
              "            + ' to learn more about interactive tables.';\n",
              "          element.innerHTML = '';\n",
              "          dataTable['output_type'] = 'display_data';\n",
              "          await google.colab.output.renderOutput(dataTable, element);\n",
              "          const docLink = document.createElement('div');\n",
              "          docLink.innerHTML = docLinkHtml;\n",
              "          element.appendChild(docLink);\n",
              "        }\n",
              "      </script>\n",
              "    </div>\n",
              "  </div>\n",
              "  "
            ]
          },
          "metadata": {},
          "execution_count": 16
        }
      ],
      "source": [
        "df_new"
      ]
    },
    {
      "cell_type": "code",
      "execution_count": null,
      "metadata": {
        "colab": {
          "base_uri": "https://localhost:8080/",
          "height": 1000
        },
        "id": "BTl3MSoNiakq",
        "outputId": "867b8ff3-87c4-4493-e5fc-183298df1e98"
      },
      "outputs": [
        {
          "output_type": "execute_result",
          "data": {
            "text/plain": [
              "<matplotlib.axes._subplots.AxesSubplot at 0x7f32714e2b10>"
            ]
          },
          "metadata": {},
          "execution_count": 17
        },
        {
          "output_type": "display_data",
          "data": {
            "text/plain": [
              "<Figure size 1440x1440 with 2 Axes>"
            ],
            "image/png": "[encoded data removed]"
          },
          "metadata": {
            "needs_background": "light"
          }
        }
      ],
      "source": [
        "plt.figure(figsize=(20,20))\n",
        "cor = df_new.corr()\n",
        "sns.heatmap(cor, annot= True)"
      ]
    },
    {
      "cell_type": "code",
      "execution_count": null,
      "metadata": {
        "colab": {
          "base_uri": "https://localhost:8080/"
        },
        "id": "MGOqQdFniil0",
        "outputId": "42c2b512-0047-414e-b036-ff6b8ffb01c5"
      },
      "outputs": [
        {
          "output_type": "execute_result",
          "data": {
            "text/plain": [
              "Cylinders       0.775396\n",
              "Displacement    0.804203\n",
              "Horsepower      0.771437\n",
              "Weight          0.831741\n",
              "KMPL            1.000000\n",
              "Name: KMPL, dtype: float64"
            ]
          },
          "metadata": {},
          "execution_count": 18
        }
      ],
      "source": [
        "cor_target = abs(cor['KMPL'])\n",
        "most_corelated = cor_target[cor_target > 0.7]\n",
        "most_corelated"
      ]
    },
    {
      "cell_type": "code",
      "execution_count": null,
      "metadata": {
        "colab": {
          "base_uri": "https://localhost:8080/",
          "height": 424
        },
        "id": "HlVTMGs0AayS",
        "outputId": "15856cfc-a5ea-4f0c-9f99-dbeee0a513d6"
      },
      "outputs": [
        {
          "output_type": "execute_result",
          "data": {
            "text/plain": [
              "     Cylinders  Displacement  Horsepower  Weight  Acceleration  Model Year  \\\n",
              "0            8         307.0       130.0  3504.0          12.0          70   \n",
              "1            8         350.0       165.0  3693.0          11.5          70   \n",
              "2            8         318.0       150.0  3436.0          11.0          70   \n",
              "3            8         304.0       150.0  3433.0          12.0          70   \n",
              "4            8         302.0       140.0  3449.0          10.5          70   \n",
              "..         ...           ...         ...     ...           ...         ...   \n",
              "393          4         140.0        86.0  2790.0          15.6          82   \n",
              "394          4          97.0        52.0  2130.0          24.6          82   \n",
              "395          4         135.0        84.0  2295.0          11.6          82   \n",
              "396          4         120.0        79.0  2625.0          18.6          82   \n",
              "397          4         119.0        82.0  2720.0          19.4          82   \n",
              "\n",
              "     Origin  \n",
              "0         1  \n",
              "1         1  \n",
              "2         1  \n",
              "3         1  \n",
              "4         1  \n",
              "..      ...  \n",
              "393       1  \n",
              "394       2  \n",
              "395       1  \n",
              "396       1  \n",
              "397       1  \n",
              "\n",
              "[398 rows x 7 columns]"
            ],
            "text/html": [
              "\n",
              "  <div id=\"df-0bf5f502-6fdc-42e0-a15b-5f5a5a04dfe0\">\n",
              "    <div class=\"colab-df-container\">\n",
              "      <div>\n",
              "<style scoped>\n",
              "    .dataframe tbody tr th:only-of-type {\n",
              "        vertical-align: middle;\n",
              "    }\n",
              "\n",
              "    .dataframe tbody tr th {\n",
              "        vertical-align: top;\n",
              "    }\n",
              "\n",
              "    .dataframe thead th {\n",
              "        text-align: right;\n",
              "    }\n",
              "</style>\n",
              "<table border=\"1\" class=\"dataframe\">\n",
              "  <thead>\n",
              "    <tr style=\"text-align: right;\">\n",
              "      <th></th>\n",
              "      <th>Cylinders</th>\n",
              "      <th>Displacement</th>\n",
              "      <th>Horsepower</th>\n",
              "      <th>Weight</th>\n",
              "      <th>Acceleration</th>\n",
              "      <th>Model Year</th>\n",
              "      <th>Origin</th>\n",
              "    </tr>\n",
              "  </thead>\n",
              "  <tbody>\n",
              "    <tr>\n",
              "      <th>0</th>\n",
              "      <td>8</td>\n",
              "      <td>307.0</td>\n",
              "      <td>130.0</td>\n",
              "      <td>3504.0</td>\n",
              "      <td>12.0</td>\n",
              "      <td>70</td>\n",
              "      <td>1</td>\n",
              "    </tr>\n",
              "    <tr>\n",
              "      <th>1</th>\n",
              "      <td>8</td>\n",
              "      <td>350.0</td>\n",
              "      <td>165.0</td>\n",
              "      <td>3693.0</td>\n",
              "      <td>11.5</td>\n",
              "      <td>70</td>\n",
              "      <td>1</td>\n",
              "    </tr>\n",
              "    <tr>\n",
              "      <th>2</th>\n",
              "      <td>8</td>\n",
              "      <td>318.0</td>\n",
              "      <td>150.0</td>\n",
              "      <td>3436.0</td>\n",
              "      <td>11.0</td>\n",
              "      <td>70</td>\n",
              "      <td>1</td>\n",
              "    </tr>\n",
              "    <tr>\n",
              "      <th>3</th>\n",
              "      <td>8</td>\n",
              "      <td>304.0</td>\n",
              "      <td>150.0</td>\n",
              "      <td>3433.0</td>\n",
              "      <td>12.0</td>\n",
              "      <td>70</td>\n",
              "      <td>1</td>\n",
              "    </tr>\n",
              "    <tr>\n",
              "      <th>4</th>\n",
              "      <td>8</td>\n",
              "      <td>302.0</td>\n",
              "      <td>140.0</td>\n",
              "      <td>3449.0</td>\n",
              "      <td>10.5</td>\n",
              "      <td>70</td>\n",
              "      <td>1</td>\n",
              "    </tr>\n",
              "    <tr>\n",
              "      <th>...</th>\n",
              "      <td>...</td>\n",
              "      <td>...</td>\n",
              "      <td>...</td>\n",
              "      <td>...</td>\n",
              "      <td>...</td>\n",
              "      <td>...</td>\n",
              "      <td>...</td>\n",
              "    </tr>\n",
              "    <tr>\n",
              "      <th>393</th>\n",
              "      <td>4</td>\n",
              "      <td>140.0</td>\n",
              "      <td>86.0</td>\n",
              "      <td>2790.0</td>\n",
              "      <td>15.6</td>\n",
              "      <td>82</td>\n",
              "      <td>1</td>\n",
              "    </tr>\n",
              "    <tr>\n",
              "      <th>394</th>\n",
              "      <td>4</td>\n",
              "      <td>97.0</td>\n",
              "      <td>52.0</td>\n",
              "      <td>2130.0</td>\n",
              "      <td>24.6</td>\n",
              "      <td>82</td>\n",
              "      <td>2</td>\n",
              "    </tr>\n",
              "    <tr>\n",
              "      <th>395</th>\n",
              "      <td>4</td>\n",
              "      <td>135.0</td>\n",
              "      <td>84.0</td>\n",
              "      <td>2295.0</td>\n",
              "      <td>11.6</td>\n",
              "      <td>82</td>\n",
              "      <td>1</td>\n",
              "    </tr>\n",
              "    <tr>\n",
              "      <th>396</th>\n",
              "      <td>4</td>\n",
              "      <td>120.0</td>\n",
              "      <td>79.0</td>\n",
              "      <td>2625.0</td>\n",
              "      <td>18.6</td>\n",
              "      <td>82</td>\n",
              "      <td>1</td>\n",
              "    </tr>\n",
              "    <tr>\n",
              "      <th>397</th>\n",
              "      <td>4</td>\n",
              "      <td>119.0</td>\n",
              "      <td>82.0</td>\n",
              "      <td>2720.0</td>\n",
              "      <td>19.4</td>\n",
              "      <td>82</td>\n",
              "      <td>1</td>\n",
              "    </tr>\n",
              "  </tbody>\n",
              "</table>\n",
              "<p>398 rows × 7 columns</p>\n",
              "</div>\n",
              "      <button class=\"colab-df-convert\" onclick=\"convertToInteractive('df-0bf5f502-6fdc-42e0-a15b-5f5a5a04dfe0')\"\n",
              "              title=\"Convert this dataframe to an interactive table.\"\n",
              "              style=\"display:none;\">\n",
              "        \n",
              "  <svg xmlns=\"http://www.w3.org/2000/svg\" height=\"24px\"viewBox=\"0 0 24 24\"\n",
              "       width=\"24px\">\n",
              "    <path d=\"M0 0h24v24H0V0z\" fill=\"none\"/>\n",
              "    <path d=\"M18.56 5.44l.94 2.06.94-2.06 2.06-.94-2.06-.94-.94-2.06-.94 2.06-2.06.94zm-11 1L8.5 8.5l.94-2.06 2.06-.94-2.06-.94L8.5 2.5l-.94 2.06-2.06.94zm10 10l.94 2.06.94-2.06 2.06-.94-2.06-.94-.94-2.06-.94 2.06-2.06.94z\"/><path d=\"M17.41 7.96l-1.37-1.37c-.4-.4-.92-.59-1.43-.59-.52 0-1.04.2-1.43.59L10.3 9.45l-7.72 7.72c-.78.78-.78 2.05 0 2.83L4 21.41c.39.39.9.59 1.41.59.51 0 1.02-.2 1.41-.59l7.78-7.78 2.81-2.81c.8-.78.8-2.07 0-2.86zM5.41 20L4 18.59l7.72-7.72 1.47 1.35L5.41 20z\"/>\n",
              "  </svg>\n",
              "      </button>\n",
              "      \n",
              "  <style>\n",
              "    .colab-df-container {\n",
              "      display:flex;\n",
              "      flex-wrap:wrap;\n",
              "      gap: 12px;\n",
              "    }\n",
              "\n",
              "    .colab-df-convert {\n",
              "      background-color: #E8F0FE;\n",
              "      border: none;\n",
              "      border-radius: 50%;\n",
              "      cursor: pointer;\n",
              "      display: none;\n",
              "      fill: #1967D2;\n",
              "      height: 32px;\n",
              "      padding: 0 0 0 0;\n",
              "      width: 32px;\n",
              "    }\n",
              "\n",
              "    .colab-df-convert:hover {\n",
              "      background-color: #E2EBFA;\n",
              "      box-shadow: 0px 1px 2px rgba(60, 64, 67, 0.3), 0px 1px 3px 1px rgba(60, 64, 67, 0.15);\n",
              "      fill: #174EA6;\n",
              "    }\n",
              "\n",
              "    [theme=dark] .colab-df-convert {\n",
              "      background-color: #3B4455;\n",
              "      fill: #D2E3FC;\n",
              "    }\n",
              "\n",
              "    [theme=dark] .colab-df-convert:hover {\n",
              "      background-color: #434B5C;\n",
              "      box-shadow: 0px 1px 3px 1px rgba(0, 0, 0, 0.15);\n",
              "      filter: drop-shadow(0px 1px 2px rgba(0, 0, 0, 0.3));\n",
              "      fill: #FFFFFF;\n",
              "    }\n",
              "  </style>\n",
              "\n",
              "      <script>\n",
              "        const buttonEl =\n",
              "          document.querySelector('#df-0bf5f502-6fdc-42e0-a15b-5f5a5a04dfe0 button.colab-df-convert');\n",
              "        buttonEl.style.display =\n",
              "          google.colab.kernel.accessAllowed ? 'block' : 'none';\n",
              "\n",
              "        async function convertToInteractive(key) {\n",
              "          const element = document.querySelector('#df-0bf5f502-6fdc-42e0-a15b-5f5a5a04dfe0');\n",
              "          const dataTable =\n",
              "            await google.colab.kernel.invokeFunction('convertToInteractive',\n",
              "                                                     [key], {});\n",
              "          if (!dataTable) return;\n",
              "\n",
              "          const docLinkHtml = 'Like what you see? Visit the ' +\n",
              "            '<a target=\"_blank\" href=https://colab.research.google.com/notebooks/data_table.ipynb>data table notebook</a>'\n",
              "            + ' to learn more about interactive tables.';\n",
              "          element.innerHTML = '';\n",
              "          dataTable['output_type'] = 'display_data';\n",
              "          await google.colab.output.renderOutput(dataTable, element);\n",
              "          const docLink = document.createElement('div');\n",
              "          docLink.innerHTML = docLinkHtml;\n",
              "          element.appendChild(docLink);\n",
              "        }\n",
              "      </script>\n",
              "    </div>\n",
              "  </div>\n",
              "  "
            ]
          },
          "metadata": {},
          "execution_count": 19
        }
      ],
      "source": [
        "X = df_new.drop(['KMPL'],axis=1)\n",
        "X"
      ]
    },
    {
      "cell_type": "code",
      "execution_count": null,
      "metadata": {
        "id": "15ZoLUMFAmIR"
      },
      "outputs": [],
      "source": [
        "y =df_new['KMPL']"
      ]
    },
    {
      "cell_type": "code",
      "execution_count": null,
      "metadata": {
        "id": "mEe0p_zy2iRM"
      },
      "outputs": [],
      "source": [
        "from sklearn.preprocessing import MinMaxScaler"
      ]
    },
    {
      "cell_type": "code",
      "execution_count": null,
      "metadata": {
        "id": "_gqCcPdb2iUD"
      },
      "outputs": [],
      "source": [
        "mn = MinMaxScaler()"
      ]
    },
    {
      "cell_type": "code",
      "execution_count": null,
      "metadata": {
        "id": "axKs2DAD2iW6"
      },
      "outputs": [],
      "source": [
        "from sklearn.model_selection import train_test_split"
      ]
    },
    {
      "cell_type": "code",
      "execution_count": null,
      "metadata": {
        "id": "s5TP7QzV2iZw"
      },
      "outputs": [],
      "source": [
        "X_train, X_test, y_train, y_test= train_test_split(X,y, test_size=0.25,random_state=43)\n"
      ]
    },
    {
      "cell_type": "code",
      "execution_count": null,
      "metadata": {
        "id": "pR1zKMV82icU"
      },
      "outputs": [],
      "source": [
        "X_train = mn.fit_transform(X_train)\n",
        "X_test = mn.transform(X_test)"
      ]
    },
    {
      "cell_type": "code",
      "execution_count": null,
      "metadata": {
        "colab": {
          "base_uri": "https://localhost:8080/"
        },
        "id": "yFw1dt0wKRJa",
        "outputId": "e1dce5b7-998b-479e-90c9-f2559f552709"
      },
      "outputs": [
        {
          "output_type": "execute_result",
          "data": {
            "text/plain": [
              "array([[1.   , 0.644, 0.565, ..., 0.387, 0.25 , 0.   ],\n",
              "       [0.6  , 0.499, 0.212, ..., 0.536, 1.   , 0.   ],\n",
              "       [0.6  , 0.403, 0.293, ..., 0.577, 0.5  , 0.   ],\n",
              "       ...,\n",
              "       [0.2  , 0.182, 0.228, ..., 0.44 , 0.667, 0.   ],\n",
              "       [0.2  , 0.127, 0.25 , ..., 0.417, 0.833, 1.   ],\n",
              "       [0.2  , 0.039, 0.103, ..., 0.667, 0.833, 1.   ]])"
            ]
          },
          "metadata": {},
          "execution_count": 26
        }
      ],
      "source": [
        "X_train"
      ]
    },
    {
      "cell_type": "code",
      "execution_count": null,
      "metadata": {
        "id": "5K36blsV2ifR"
      },
      "outputs": [],
      "source": [
        "x_train = pd.DataFrame(X_train,columns=X.columns)\n",
        "x_test = pd.DataFrame(X_test,columns=X.columns)"
      ]
    },
    {
      "cell_type": "code",
      "execution_count": null,
      "metadata": {
        "colab": {
          "base_uri": "https://localhost:8080/"
        },
        "id": "5sv6WTb12iiI",
        "outputId": "95a239a1-feb9-4882-a89d-e95faae5fba3"
      },
      "outputs": [
        {
          "output_type": "stream",
          "name": "stdout",
          "text": [
            "X_train shape (298, 7)\n",
            "X_test shape (100, 7)\n",
            "y_train shape (298,)\n",
            "y_test shape (100,)\n"
          ]
        }
      ],
      "source": [
        "print(\"X_train shape\",X_train.shape)\n",
        "print(\"X_test shape\",X_test.shape)\n",
        "print(\"y_train shape\",y_train.shape)\n",
        "print(\"y_test shape\",y_test.shape)"
      ]
    },
    {
      "cell_type": "code",
      "execution_count": null,
      "metadata": {
        "id": "few0RvmExXxq"
      },
      "outputs": [],
      "source": [
        "from sklearn.linear_model import LinearRegression\n",
        "from sklearn.metrics import r2_score, mean_absolute_error"
      ]
    },
    {
      "cell_type": "code",
      "execution_count": null,
      "metadata": {
        "id": "t3Mo2j81xX0E"
      },
      "outputs": [],
      "source": [
        "le = LinearRegression()\n",
        "le.fit(X_train, y_train)\n",
        "y_pred_le = le.predict(X_test)\n",
        "y_pred_le_train = le.predict(X_train)"
      ]
    },
    {
      "cell_type": "code",
      "execution_count": null,
      "metadata": {
        "colab": {
          "base_uri": "https://localhost:8080/"
        },
        "id": "kC-q0GWPxX2M",
        "outputId": "7771fa17-b340-44f0-a3b2-8f1dff64441b"
      },
      "outputs": [
        {
          "output_type": "stream",
          "name": "stdout",
          "text": [
            "r2 score test: 0.8283301149366245 \n",
            "\n",
            "r2 score train: 0.8159270653985862 \n",
            "\n",
            "mean_absolute_error test: 1.0457321114903002 \n",
            "\n",
            "mean_absolute_error train: 1.0802488208542342\n"
          ]
        }
      ],
      "source": [
        "print(\"r2 score test:\",r2_score(y_test,y_pred_le), '\\n')\n",
        "print(\"r2 score train:\",r2_score(y_train,y_pred_le_train),'\\n')\n",
        "print(\"mean_absolute_error test:\",mean_absolute_error(y_test,y_pred_le), '\\n')\n",
        "print(\"mean_absolute_error train:\",mean_absolute_error(y_train,y_pred_le_train))"
      ]
    },
    {
      "cell_type": "code",
      "execution_count": null,
      "metadata": {
        "id": "-HpdnMdDi6fq"
      },
      "outputs": [],
      "source": [
        "x = X[['Cylinders','Displacement','Horsepower','Weight']]\n",
        "xtrain, xtest, ytrain,ytest = train_test_split(x,y, test_size=0.25,random_state=111)"
      ]
    },
    {
      "cell_type": "code",
      "execution_count": null,
      "metadata": {
        "id": "ckGb8PUkjYfB"
      },
      "outputs": [],
      "source": [
        "le.fit(xtrain,ytrain)\n",
        "ypred_le = le.predict(xtest)\n",
        "ypred_le_train = le.predict(xtrain)"
      ]
    },
    {
      "cell_type": "code",
      "execution_count": null,
      "metadata": {
        "colab": {
          "base_uri": "https://localhost:8080/"
        },
        "id": "1lYRd3KmjYjG",
        "outputId": "53f6e597-d84c-43bf-ccd6-78f0e83ec19b"
      },
      "outputs": [
        {
          "output_type": "stream",
          "name": "stdout",
          "text": [
            "r2 score test: 0.6966681965761452 \n",
            "\n",
            "r2 score train: 0.7074963912469188 \n",
            "\n",
            "mean_absolute_error test: 1.3830390805178314 \n",
            "\n",
            "mean_absolute_error train: 1.3792874972374602\n"
          ]
        }
      ],
      "source": [
        "print(\"r2 score test:\",r2_score(ytest,ypred_le), '\\n')\n",
        "print(\"r2 score train:\",r2_score(ytrain,ypred_le_train),'\\n')\n",
        "print(\"mean_absolute_error test:\",mean_absolute_error(ytest,ypred_le), '\\n')\n",
        "print(\"mean_absolute_error train:\",mean_absolute_error(ytrain,ypred_le_train))"
      ]
    },
    {
      "cell_type": "code",
      "execution_count": null,
      "metadata": {
        "id": "1jD-MJ9jxX42"
      },
      "outputs": [],
      "source": [
        "from sklearn.model_selection import GridSearchCV, cross_val_score\n",
        "\n",
        "from sklearn.svm import SVR\n",
        "svr = SVR()"
      ]
    },
    {
      "cell_type": "code",
      "execution_count": null,
      "metadata": {
        "colab": {
          "base_uri": "https://localhost:8080/"
        },
        "id": "YVjWzK5txX8i",
        "outputId": "3cbb31a5-7325-4207-f51e-9f938b260549"
      },
      "outputs": [
        {
          "output_type": "stream",
          "name": "stdout",
          "text": [
            "Fitting 10 folds for each of 480 candidates, totalling 4800 fits\n"
          ]
        },
        {
          "output_type": "execute_result",
          "data": {
            "text/plain": [
              "GridSearchCV(cv=10, estimator=SVR(), n_jobs=-1,\n",
              "             param_grid={'C': [114, 112, 110, 108, 106],\n",
              "                         'epsilon': [25, 26, 27, 28, 29, 30],\n",
              "                         'gamma': [0.95, 0.93, 0.9, 0.87],\n",
              "                         'kernel': ['linear', 'poly', 'rbf', 'sigmoid']},\n",
              "             scoring='neg_mean_squared_error', verbose=2)"
            ]
          },
          "metadata": {},
          "execution_count": 36
        }
      ],
      "source": [
        "param_grid = {'kernel':['linear','poly', 'rbf', 'sigmoid'],'C':[114,112,110,108,106 ],\n",
        "              'epsilon':[25,26,27,28,29,30],'gamma':[0.95,0.93,0.9,0.87]\n",
        "             }\n",
        "\n",
        "gs_svr = GridSearchCV(estimator = svr, param_grid= param_grid,cv =10, n_jobs = -1, verbose=2, scoring='neg_mean_squared_error' )\n",
        "\n",
        "gs_svr.fit(X_train,y_train)"
      ]
    },
    {
      "cell_type": "code",
      "execution_count": null,
      "metadata": {
        "colab": {
          "base_uri": "https://localhost:8080/"
        },
        "id": "GZgeWAMLxYNJ",
        "outputId": "b6ccb968-32cd-4f71-cd47-85ff5d2acc50"
      },
      "outputs": [
        {
          "output_type": "execute_result",
          "data": {
            "text/plain": [
              "SVR(C=114, epsilon=25, gamma=0.95, kernel='linear')"
            ]
          },
          "metadata": {},
          "execution_count": 37
        }
      ],
      "source": [
        "gs_svr.best_estimator_"
      ]
    },
    {
      "cell_type": "code",
      "execution_count": null,
      "metadata": {
        "id": "OOdtS9iLxYPh"
      },
      "outputs": [],
      "source": [
        "y_pred_svr =gs_svr.best_estimator_.predict(X_test)\n",
        "y_pred_svr_train = gs_svr.best_estimator_.predict(X_train)"
      ]
    },
    {
      "cell_type": "code",
      "execution_count": null,
      "metadata": {
        "colab": {
          "base_uri": "https://localhost:8080/"
        },
        "id": "2GiRQFTuxYSd",
        "outputId": "b90c4f85-e3bf-4398-bc5b-57e27fed5f6f"
      },
      "outputs": [
        {
          "output_type": "stream",
          "name": "stdout",
          "text": [
            "r2 score test: -0.2864722104270976 \n",
            "\n",
            "r2 score train: -0.3065889616080226 \n",
            "\n",
            "mean_absolute_error test: 3.186879424 \n",
            "\n",
            "mean_absolute_error train: 3.223390448322148\n"
          ]
        }
      ],
      "source": [
        "print(\"r2 score test:\",r2_score(y_test,y_pred_svr), '\\n')\n",
        "print(\"r2 score train:\",r2_score(y_train,y_pred_svr_train),'\\n')\n",
        "print(\"mean_absolute_error test:\",mean_absolute_error(y_test,y_pred_svr), '\\n')\n",
        "print(\"mean_absolute_error train:\",mean_absolute_error(y_train,y_pred_svr_train))"
      ]
    },
    {
      "cell_type": "code",
      "execution_count": null,
      "metadata": {
        "colab": {
          "base_uri": "https://localhost:8080/"
        },
        "id": "ukBhlD0dkTOi",
        "outputId": "47a4dea6-335c-4f77-9fd7-6a5f8488b8cc"
      },
      "outputs": [
        {
          "output_type": "stream",
          "name": "stdout",
          "text": [
            "Fitting 10 folds for each of 480 candidates, totalling 4800 fits\n"
          ]
        },
        {
          "output_type": "execute_result",
          "data": {
            "text/plain": [
              "SVR(C=114, epsilon=25, gamma=0.95, kernel='linear')"
            ]
          },
          "metadata": {},
          "execution_count": 40
        }
      ],
      "source": [
        "gs_svr.fit(xtrain,ytrain)\n",
        "gs_svr.best_estimator_"
      ]
    },
    {
      "cell_type": "code",
      "execution_count": null,
      "metadata": {
        "id": "nv9YATx2kTSX"
      },
      "outputs": [],
      "source": [
        "ypred_svr =gs_svr.best_estimator_.predict(xtest)\n",
        "ypred_svr_train = gs_svr.best_estimator_.predict(xtrain)"
      ]
    },
    {
      "cell_type": "code",
      "execution_count": null,
      "metadata": {
        "colab": {
          "base_uri": "https://localhost:8080/"
        },
        "id": "LDBb8daKkgsn",
        "outputId": "2f3668ea-9464-46fa-e596-936de4016173"
      },
      "outputs": [
        {
          "output_type": "stream",
          "name": "stdout",
          "text": [
            "r2 score test: -0.25142774839259374 \n",
            "\n",
            "r2 score train: -0.3198011035663788 \n",
            "\n",
            "mean_absolute_error test: 3.1962325920000008 \n",
            "\n",
            "mean_absolute_error train: 3.220251801342282\n"
          ]
        }
      ],
      "source": [
        "print(\"r2 score test:\",r2_score(ytest,ypred_svr), '\\n')\n",
        "print(\"r2 score train:\",r2_score(ytrain,ypred_svr_train),'\\n')\n",
        "print(\"mean_absolute_error test:\",mean_absolute_error(ytest,ypred_svr), '\\n')\n",
        "print(\"mean_absolute_error train:\",mean_absolute_error(ytrain,ypred_svr_train))"
      ]
    },
    {
      "cell_type": "code",
      "execution_count": null,
      "metadata": {
        "id": "WfDfqP1qxYVf"
      },
      "outputs": [],
      "source": [
        "from sklearn.ensemble import RandomForestRegressor\n",
        "rf = RandomForestRegressor()"
      ]
    },
    {
      "cell_type": "code",
      "execution_count": null,
      "metadata": {
        "colab": {
          "base_uri": "https://localhost:8080/"
        },
        "id": "z0TbS1LpxYX7",
        "outputId": "6a06916f-18bb-416f-d0f2-aafe5d688959"
      },
      "outputs": [
        {
          "output_type": "stream",
          "name": "stdout",
          "text": [
            "Fitting 10 folds for each of 594 candidates, totalling 5940 fits\n"
          ]
        },
        {
          "output_type": "execute_result",
          "data": {
            "text/plain": [
              "GridSearchCV(cv=10, estimator=RandomForestRegressor(), n_jobs=-1,\n",
              "             param_grid={'max_depth': [15, 16, 17, 18, 19, 20, 21, 22, 23, 24,\n",
              "                                       25],\n",
              "                         'min_samples_split': [17, 18, 19, 20, 21, 22, 23, 24,\n",
              "                                               25],\n",
              "                         'n_estimators': [240, 230, 220, 260, 270, 250]},\n",
              "             scoring='neg_mean_squared_error', verbose=2)"
            ]
          },
          "metadata": {},
          "execution_count": 44
        }
      ],
      "source": [
        "param_grid = {'n_estimators': [240,230,220,260,270,250],\n",
        "             'min_samples_split':[17,18,19,20,21,22,23,24,25],\n",
        "             'max_depth':[15,16,17,18,19,20,21,22,23,24,25]}\n",
        "gs_rf = GridSearchCV(estimator = rf, param_grid= param_grid, cv= 10, n_jobs= -1, verbose= 2, scoring='neg_mean_squared_error' )\n",
        "gs_rf.fit(X_train,y_train)"
      ]
    },
    {
      "cell_type": "code",
      "execution_count": null,
      "metadata": {
        "id": "HrfC9gn5xYbj",
        "colab": {
          "base_uri": "https://localhost:8080/"
        },
        "outputId": "c992cf05-9667-4e2d-ec06-0e436ef543c4"
      },
      "outputs": [
        {
          "output_type": "execute_result",
          "data": {
            "text/plain": [
              "RandomForestRegressor(max_depth=24, min_samples_split=17, n_estimators=240)"
            ]
          },
          "metadata": {},
          "execution_count": 45
        }
      ],
      "source": [
        "gs_rf.best_estimator_"
      ]
    },
    {
      "cell_type": "code",
      "execution_count": null,
      "metadata": {
        "id": "CyOpq71iyaPB"
      },
      "outputs": [],
      "source": [
        "y_pred_rf =gs_rf.best_estimator_.predict(X_test)\n",
        "y_pred_rf_train = gs_rf.best_estimator_.predict(X_train)"
      ]
    },
    {
      "cell_type": "code",
      "execution_count": null,
      "metadata": {
        "id": "XJE8MoHzyaRZ",
        "colab": {
          "base_uri": "https://localhost:8080/"
        },
        "outputId": "37f0c2e0-c191-4529-aa08-f5ffa897e3e5"
      },
      "outputs": [
        {
          "output_type": "stream",
          "name": "stdout",
          "text": [
            "r2 score test: 0.892205249219166 \n",
            "\n",
            "r2 score train: 0.9228874577468668 \n",
            "\n",
            "mean_absolute_error test: 0.8045893375695278 \n",
            "\n",
            "mean_absolute_error train: 0.6482267268104768\n"
          ]
        }
      ],
      "source": [
        "print(\"r2 score test:\",r2_score(y_test,y_pred_rf), '\\n')\n",
        "print(\"r2 score train:\",r2_score(y_train,y_pred_rf_train),'\\n')\n",
        "print(\"mean_absolute_error test:\",mean_absolute_error(y_test,y_pred_rf), '\\n')\n",
        "print(\"mean_absolute_error train:\",mean_absolute_error(y_train,y_pred_rf_train))"
      ]
    },
    {
      "cell_type": "code",
      "execution_count": null,
      "metadata": {
        "id": "7M_QF88syaUt"
      },
      "outputs": [],
      "source": [
        "from sklearn.tree import DecisionTreeRegressor\n",
        "dc = DecisionTreeRegressor()"
      ]
    },
    {
      "cell_type": "code",
      "execution_count": null,
      "metadata": {
        "id": "6A-68GmqyaXg",
        "colab": {
          "base_uri": "https://localhost:8080/"
        },
        "outputId": "fed17493-4d30-4111-d2dd-4317d1e0504d"
      },
      "outputs": [
        {
          "output_type": "stream",
          "name": "stdout",
          "text": [
            "Fitting 10 folds for each of 20 candidates, totalling 200 fits\n"
          ]
        },
        {
          "output_type": "execute_result",
          "data": {
            "text/plain": [
              "GridSearchCV(cv=10, estimator=DecisionTreeRegressor(), n_jobs=-1,\n",
              "             param_grid={'max_depth': [50, 100, 150, 200],\n",
              "                         'min_samples_split': [5, 10, 20, 30, 40]},\n",
              "             verbose=2)"
            ]
          },
          "metadata": {},
          "execution_count": 49
        }
      ],
      "source": [
        "param_grid = {'min_samples_split': [0.01,0.02,0.03,0.05],\n",
        "             'min_samples_split':[5,10,20,30,40],\n",
        "             'max_depth':[50,100,150,200]}\n",
        "grid_search = GridSearchCV(estimator = dc, param_grid= param_grid, cv= 10, n_jobs= -1, verbose= 2)\n",
        "grid_search.fit(X_train,y_train)"
      ]
    },
    {
      "cell_type": "code",
      "execution_count": null,
      "metadata": {
        "id": "8S8BomwKyabX",
        "colab": {
          "base_uri": "https://localhost:8080/"
        },
        "outputId": "ae7bff22-cf31-4bbd-a121-b50ebd822ae8"
      },
      "outputs": [
        {
          "output_type": "execute_result",
          "data": {
            "text/plain": [
              "DecisionTreeRegressor(max_depth=100, min_samples_split=10)"
            ]
          },
          "metadata": {},
          "execution_count": 50
        }
      ],
      "source": [
        "grid_search.best_estimator_"
      ]
    },
    {
      "cell_type": "code",
      "execution_count": null,
      "metadata": {
        "id": "Sg2neWN9ynPI"
      },
      "outputs": [],
      "source": [
        "y_pred_dc =grid_search.best_estimator_.predict(X_test)\n",
        "y_pred_dc_train = grid_search.best_estimator_.predict(X_train)"
      ]
    },
    {
      "cell_type": "code",
      "execution_count": null,
      "metadata": {
        "id": "ROx7Y5v6ynSM",
        "colab": {
          "base_uri": "https://localhost:8080/"
        },
        "outputId": "4a471fa5-c4cb-458d-ea30-7e19413dd86d"
      },
      "outputs": [
        {
          "output_type": "stream",
          "name": "stdout",
          "text": [
            "r2 score test: 0.8283991507854542 \n",
            "\n",
            "r2 score train: 0.945345440538611 \n",
            "\n",
            "mean_absolute_error test: 1.0131122472222223 \n",
            "\n",
            "mean_absolute_error train: 0.5232895589964844\n"
          ]
        }
      ],
      "source": [
        "print(\"r2 score test:\",r2_score(y_test,y_pred_dc), '\\n')\n",
        "print(\"r2 score train:\",r2_score(y_train,y_pred_dc_train),'\\n')\n",
        "print(\"mean_absolute_error test:\",mean_absolute_error(y_test,y_pred_dc), '\\n')\n",
        "print(\"mean_absolute_error train:\",mean_absolute_error(y_train,y_pred_dc_train))"
      ]
    },
    {
      "cell_type": "code",
      "execution_count": null,
      "metadata": {
        "id": "1LcwLJIWy1NQ"
      },
      "outputs": [],
      "source": [
        "#layers are in sequence\n",
        "from keras.models import Sequential\n",
        "#all units of previous layers are connected to all units of next layer\n",
        "from keras.layers import Dense"
      ]
    },
    {
      "cell_type": "code",
      "execution_count": null,
      "metadata": {
        "id": "2Pvlmc_uy1NS"
      },
      "outputs": [],
      "source": [
        "kmplANN = Sequential()"
      ]
    },
    {
      "cell_type": "code",
      "source": [
        "kmplANN.add(Dense(units=256, input_dim=7))\n",
        "kmplANN.add(Dense(units=1))"
      ],
      "metadata": {
        "id": "vq3X3aWQ20_6"
      },
      "execution_count": null,
      "outputs": []
    },
    {
      "cell_type": "code",
      "source": [
        "from keras.callbacks import ModelCheckpoint,EarlyStopping, ReduceLROnPlateau\n",
        "#name of the file\n",
        "filepath = 'bestmodel.kmpl'\n",
        "#monitor=val_loss for decrease\n",
        "mc = ModelCheckpoint(filepath, monitor='val_loss', mode='min', verbose=1)\n",
        "es = EarlyStopping(monitor='val_loss', min_delta=0.005, patience=5, verbose=1, mode='auto')\n",
        "\n",
        "rd = ReduceLROnPlateau(monitor='val_loss', factor=0.1, patience=5, verbose=1, mode='auto')\n"
      ],
      "metadata": {
        "id": "X7qQ6yeh23s8"
      },
      "execution_count": null,
      "outputs": []
    },
    {
      "cell_type": "code",
      "source": [
        "kmplANN.compile(loss='mean_absolute_error', optimizer='adam', metrics=['mean_absolute_percentage_error'])"
      ],
      "metadata": {
        "id": "cXxuv79U26no"
      },
      "execution_count": null,
      "outputs": []
    },
    {
      "cell_type": "code",
      "source": [
        "history = kmplANN.fit(X_train, y_train, epochs=100, validation_split=0.25, callbacks=[mc,es,rd])"
      ],
      "metadata": {
        "colab": {
          "base_uri": "https://localhost:8080/"
        },
        "id": "PkVLH5BS28mG",
        "outputId": "9719a2c5-ee30-4750-eeda-985696df1c30"
      },
      "execution_count": null,
      "outputs": [
        {
          "output_type": "stream",
          "name": "stdout",
          "text": [
            "Epoch 1/100\n",
            "1/7 [===>..........................] - ETA: 3s - loss: 8.9868 - mean_absolute_percentage_error: 100.1257\n",
            "Epoch 1: saving model to bestmodel.kmpl\n",
            "7/7 [==============================] - 1s 104ms/step - loss: 9.5452 - mean_absolute_percentage_error: 96.8765 - val_loss: 9.8682 - val_mean_absolute_percentage_error: 92.8319 - lr: 0.0010\n",
            "Epoch 2/100\n",
            "1/7 [===>..........................] - ETA: 0s - loss: 10.3079 - mean_absolute_percentage_error: 93.5378\n",
            "Epoch 2: saving model to bestmodel.kmpl\n",
            "7/7 [==============================] - 0s 62ms/step - loss: 8.8840 - mean_absolute_percentage_error: 88.9936 - val_loss: 9.1969 - val_mean_absolute_percentage_error: 85.3240 - lr: 0.0010\n",
            "Epoch 3/100\n",
            "1/7 [===>..........................] - ETA: 0s - loss: 8.0682 - mean_absolute_percentage_error: 83.5116\n",
            "Epoch 3: saving model to bestmodel.kmpl\n",
            "7/7 [==============================] - 0s 61ms/step - loss: 8.1903 - mean_absolute_percentage_error: 80.8541 - val_loss: 8.4724 - val_mean_absolute_percentage_error: 77.2211 - lr: 0.0010\n",
            "Epoch 4/100\n",
            "1/7 [===>..........................] - ETA: 0s - loss: 8.2868 - mean_absolute_percentage_error: 79.4080\n",
            "Epoch 4: saving model to bestmodel.kmpl\n",
            "7/7 [==============================] - 0s 63ms/step - loss: 7.4319 - mean_absolute_percentage_error: 71.8298 - val_loss: 7.6669 - val_mean_absolute_percentage_error: 68.2296 - lr: 0.0010\n",
            "Epoch 5/100\n",
            "1/7 [===>..........................] - ETA: 0s - loss: 7.9942 - mean_absolute_percentage_error: 71.6637\n",
            "Epoch 5: saving model to bestmodel.kmpl\n",
            "7/7 [==============================] - 0s 62ms/step - loss: 6.5845 - mean_absolute_percentage_error: 61.8998 - val_loss: 6.7864 - val_mean_absolute_percentage_error: 58.8789 - lr: 0.0010\n",
            "Epoch 6/100\n",
            "1/7 [===>..........................] - ETA: 0s - loss: 6.3217 - mean_absolute_percentage_error: 57.3472\n",
            "Epoch 6: saving model to bestmodel.kmpl\n",
            "7/7 [==============================] - 0s 58ms/step - loss: 5.6475 - mean_absolute_percentage_error: 51.1030 - val_loss: 5.9028 - val_mean_absolute_percentage_error: 50.4030 - lr: 0.0010\n",
            "Epoch 7/100\n",
            "1/7 [===>..........................] - ETA: 0s - loss: 5.6613 - mean_absolute_percentage_error: 49.3586\n",
            "Epoch 7: saving model to bestmodel.kmpl\n",
            "7/7 [==============================] - 0s 64ms/step - loss: 4.8271 - mean_absolute_percentage_error: 42.9516 - val_loss: 5.1808 - val_mean_absolute_percentage_error: 45.0288 - lr: 0.0010\n",
            "Epoch 8/100\n",
            "1/7 [===>..........................] - ETA: 0s - loss: 4.6571 - mean_absolute_percentage_error: 42.0889\n",
            "Epoch 8: saving model to bestmodel.kmpl\n",
            "7/7 [==============================] - 0s 64ms/step - loss: 4.3060 - mean_absolute_percentage_error: 39.6316 - val_loss: 4.6259 - val_mean_absolute_percentage_error: 41.6858 - lr: 0.0010\n",
            "Epoch 9/100\n",
            "1/7 [===>..........................] - ETA: 0s - loss: 4.3985 - mean_absolute_percentage_error: 37.5245\n",
            "Epoch 9: saving model to bestmodel.kmpl\n",
            "7/7 [==============================] - 0s 61ms/step - loss: 3.9362 - mean_absolute_percentage_error: 37.9773 - val_loss: 4.2130 - val_mean_absolute_percentage_error: 39.8413 - lr: 0.0010\n",
            "Epoch 10/100\n",
            "1/7 [===>..........................] - ETA: 0s - loss: 3.9827 - mean_absolute_percentage_error: 40.7531\n",
            "Epoch 10: saving model to bestmodel.kmpl\n",
            "7/7 [==============================] - 0s 80ms/step - loss: 3.5720 - mean_absolute_percentage_error: 35.9341 - val_loss: 3.9073 - val_mean_absolute_percentage_error: 38.5289 - lr: 0.0010\n",
            "Epoch 11/100\n",
            "1/7 [===>..........................] - ETA: 0s - loss: 3.6563 - mean_absolute_percentage_error: 36.4984\n",
            "Epoch 11: saving model to bestmodel.kmpl\n",
            "7/7 [==============================] - 1s 123ms/step - loss: 3.3420 - mean_absolute_percentage_error: 34.9462 - val_loss: 3.6279 - val_mean_absolute_percentage_error: 36.9944 - lr: 0.0010\n",
            "Epoch 12/100\n",
            "1/7 [===>..........................] - ETA: 0s - loss: 3.4176 - mean_absolute_percentage_error: 34.3623\n",
            "Epoch 12: saving model to bestmodel.kmpl\n",
            "7/7 [==============================] - 1s 83ms/step - loss: 3.1251 - mean_absolute_percentage_error: 33.4377 - val_loss: 3.3672 - val_mean_absolute_percentage_error: 34.8753 - lr: 0.0010\n",
            "Epoch 13/100\n",
            "1/7 [===>..........................] - ETA: 0s - loss: 3.3498 - mean_absolute_percentage_error: 29.2879\n",
            "Epoch 13: saving model to bestmodel.kmpl\n",
            "7/7 [==============================] - 0s 64ms/step - loss: 2.9396 - mean_absolute_percentage_error: 31.6300 - val_loss: 3.1169 - val_mean_absolute_percentage_error: 32.3153 - lr: 0.0010\n",
            "Epoch 14/100\n",
            "1/7 [===>..........................] - ETA: 0s - loss: 2.8652 - mean_absolute_percentage_error: 29.5470\n",
            "Epoch 14: saving model to bestmodel.kmpl\n",
            "7/7 [==============================] - 0s 65ms/step - loss: 2.7465 - mean_absolute_percentage_error: 29.2675 - val_loss: 2.8812 - val_mean_absolute_percentage_error: 29.6755 - lr: 0.0010\n",
            "Epoch 15/100\n",
            "1/7 [===>..........................] - ETA: 0s - loss: 2.4030 - mean_absolute_percentage_error: 23.3499\n",
            "Epoch 15: saving model to bestmodel.kmpl\n",
            "7/7 [==============================] - 0s 63ms/step - loss: 2.5755 - mean_absolute_percentage_error: 27.1073 - val_loss: 2.6469 - val_mean_absolute_percentage_error: 26.9463 - lr: 0.0010\n",
            "Epoch 16/100\n",
            "1/7 [===>..........................] - ETA: 0s - loss: 2.1676 - mean_absolute_percentage_error: 24.1177\n",
            "Epoch 16: saving model to bestmodel.kmpl\n",
            "7/7 [==============================] - 0s 60ms/step - loss: 2.3973 - mean_absolute_percentage_error: 24.7383 - val_loss: 2.4298 - val_mean_absolute_percentage_error: 24.4032 - lr: 0.0010\n",
            "Epoch 17/100\n",
            "1/7 [===>..........................] - ETA: 0s - loss: 2.3605 - mean_absolute_percentage_error: 21.6044\n",
            "Epoch 17: saving model to bestmodel.kmpl\n",
            "7/7 [==============================] - 0s 64ms/step - loss: 2.2388 - mean_absolute_percentage_error: 22.7121 - val_loss: 2.2219 - val_mean_absolute_percentage_error: 22.0285 - lr: 0.0010\n",
            "Epoch 18/100\n",
            "1/7 [===>..........................] - ETA: 0s - loss: 2.3705 - mean_absolute_percentage_error: 23.9117\n",
            "Epoch 18: saving model to bestmodel.kmpl\n",
            "7/7 [==============================] - 0s 67ms/step - loss: 2.1105 - mean_absolute_percentage_error: 21.0667 - val_loss: 2.0374 - val_mean_absolute_percentage_error: 20.0776 - lr: 0.0010\n",
            "Epoch 19/100\n",
            "1/7 [===>..........................] - ETA: 0s - loss: 2.2878 - mean_absolute_percentage_error: 21.1599\n",
            "Epoch 19: saving model to bestmodel.kmpl\n",
            "7/7 [==============================] - 0s 63ms/step - loss: 2.0278 - mean_absolute_percentage_error: 20.1827 - val_loss: 1.8562 - val_mean_absolute_percentage_error: 18.3765 - lr: 0.0010\n",
            "Epoch 20/100\n",
            "1/7 [===>..........................] - ETA: 0s - loss: 1.6820 - mean_absolute_percentage_error: 17.1500\n",
            "Epoch 20: saving model to bestmodel.kmpl\n",
            "7/7 [==============================] - 0s 64ms/step - loss: 1.9404 - mean_absolute_percentage_error: 19.4721 - val_loss: 1.7096 - val_mean_absolute_percentage_error: 17.0952 - lr: 0.0010\n",
            "Epoch 21/100\n",
            "1/7 [===>..........................] - ETA: 0s - loss: 2.2092 - mean_absolute_percentage_error: 21.8147\n",
            "Epoch 21: saving model to bestmodel.kmpl\n",
            "7/7 [==============================] - 0s 66ms/step - loss: 1.8907 - mean_absolute_percentage_error: 19.0499 - val_loss: 1.6093 - val_mean_absolute_percentage_error: 16.1442 - lr: 0.0010\n",
            "Epoch 22/100\n",
            "1/7 [===>..........................] - ETA: 0s - loss: 1.5891 - mean_absolute_percentage_error: 16.2043\n",
            "Epoch 22: saving model to bestmodel.kmpl\n",
            "7/7 [==============================] - 0s 63ms/step - loss: 1.8481 - mean_absolute_percentage_error: 18.7383 - val_loss: 1.5459 - val_mean_absolute_percentage_error: 15.6420 - lr: 0.0010\n",
            "Epoch 23/100\n",
            "1/7 [===>..........................] - ETA: 0s - loss: 1.9831 - mean_absolute_percentage_error: 20.9500\n",
            "Epoch 23: saving model to bestmodel.kmpl\n",
            "7/7 [==============================] - 0s 62ms/step - loss: 1.8218 - mean_absolute_percentage_error: 18.5756 - val_loss: 1.5190 - val_mean_absolute_percentage_error: 15.2714 - lr: 0.0010\n",
            "Epoch 24/100\n",
            "1/7 [===>..........................] - ETA: 0s - loss: 1.7651 - mean_absolute_percentage_error: 18.5685\n",
            "Epoch 24: saving model to bestmodel.kmpl\n",
            "7/7 [==============================] - 0s 64ms/step - loss: 1.7990 - mean_absolute_percentage_error: 18.3489 - val_loss: 1.4882 - val_mean_absolute_percentage_error: 14.9859 - lr: 0.0010\n",
            "Epoch 25/100\n",
            "1/7 [===>..........................] - ETA: 0s - loss: 2.0707 - mean_absolute_percentage_error: 19.9280\n",
            "Epoch 25: saving model to bestmodel.kmpl\n",
            "7/7 [==============================] - 0s 64ms/step - loss: 1.7820 - mean_absolute_percentage_error: 18.2600 - val_loss: 1.4613 - val_mean_absolute_percentage_error: 14.7420 - lr: 0.0010\n",
            "Epoch 26/100\n",
            "1/7 [===>..........................] - ETA: 0s - loss: 2.0241 - mean_absolute_percentage_error: 19.7815\n",
            "Epoch 26: saving model to bestmodel.kmpl\n",
            "7/7 [==============================] - 0s 67ms/step - loss: 1.7615 - mean_absolute_percentage_error: 18.0927 - val_loss: 1.4431 - val_mean_absolute_percentage_error: 14.5557 - lr: 0.0010\n",
            "Epoch 27/100\n",
            "1/7 [===>..........................] - ETA: 0s - loss: 1.8762 - mean_absolute_percentage_error: 18.2215\n",
            "Epoch 27: saving model to bestmodel.kmpl\n",
            "7/7 [==============================] - 0s 62ms/step - loss: 1.7495 - mean_absolute_percentage_error: 18.0500 - val_loss: 1.4222 - val_mean_absolute_percentage_error: 14.4244 - lr: 0.0010\n",
            "Epoch 28/100\n",
            "1/7 [===>..........................] - ETA: 0s - loss: 1.6375 - mean_absolute_percentage_error: 17.2711\n",
            "Epoch 28: saving model to bestmodel.kmpl\n",
            "7/7 [==============================] - 1s 109ms/step - loss: 1.7250 - mean_absolute_percentage_error: 17.7957 - val_loss: 1.4121 - val_mean_absolute_percentage_error: 14.2582 - lr: 0.0010\n",
            "Epoch 29/100\n",
            "1/7 [===>..........................] - ETA: 0s - loss: 1.9116 - mean_absolute_percentage_error: 19.7813\n",
            "Epoch 29: saving model to bestmodel.kmpl\n",
            "7/7 [==============================] - 0s 60ms/step - loss: 1.7114 - mean_absolute_percentage_error: 17.6462 - val_loss: 1.3968 - val_mean_absolute_percentage_error: 14.1394 - lr: 0.0010\n",
            "Epoch 30/100\n",
            "1/7 [===>..........................] - ETA: 0s - loss: 1.5310 - mean_absolute_percentage_error: 15.8038\n",
            "Epoch 30: saving model to bestmodel.kmpl\n",
            "7/7 [==============================] - 0s 65ms/step - loss: 1.6986 - mean_absolute_percentage_error: 17.5219 - val_loss: 1.3806 - val_mean_absolute_percentage_error: 14.0061 - lr: 0.0010\n",
            "Epoch 31/100\n",
            "1/7 [===>..........................] - ETA: 0s - loss: 2.0244 - mean_absolute_percentage_error: 22.8645\n",
            "Epoch 31: saving model to bestmodel.kmpl\n",
            "7/7 [==============================] - 0s 60ms/step - loss: 1.6840 - mean_absolute_percentage_error: 17.4350 - val_loss: 1.3683 - val_mean_absolute_percentage_error: 13.9350 - lr: 0.0010\n",
            "Epoch 32/100\n",
            "1/7 [===>..........................] - ETA: 0s - loss: 1.9133 - mean_absolute_percentage_error: 17.9098\n",
            "Epoch 32: saving model to bestmodel.kmpl\n",
            "7/7 [==============================] - 0s 65ms/step - loss: 1.6713 - mean_absolute_percentage_error: 17.3703 - val_loss: 1.3532 - val_mean_absolute_percentage_error: 13.8044 - lr: 0.0010\n",
            "Epoch 33/100\n",
            "1/7 [===>..........................] - ETA: 0s - loss: 1.8831 - mean_absolute_percentage_error: 18.3957\n",
            "Epoch 33: saving model to bestmodel.kmpl\n",
            "7/7 [==============================] - 0s 61ms/step - loss: 1.6563 - mean_absolute_percentage_error: 17.2182 - val_loss: 1.3394 - val_mean_absolute_percentage_error: 13.6547 - lr: 0.0010\n",
            "Epoch 34/100\n",
            "1/7 [===>..........................] - ETA: 0s - loss: 1.7791 - mean_absolute_percentage_error: 16.4587\n",
            "Epoch 34: saving model to bestmodel.kmpl\n",
            "7/7 [==============================] - 0s 61ms/step - loss: 1.6427 - mean_absolute_percentage_error: 17.0733 - val_loss: 1.3276 - val_mean_absolute_percentage_error: 13.5649 - lr: 0.0010\n",
            "Epoch 35/100\n",
            "1/7 [===>..........................] - ETA: 0s - loss: 1.4842 - mean_absolute_percentage_error: 16.8193\n",
            "Epoch 35: saving model to bestmodel.kmpl\n",
            "7/7 [==============================] - 0s 58ms/step - loss: 1.6273 - mean_absolute_percentage_error: 16.9317 - val_loss: 1.3179 - val_mean_absolute_percentage_error: 13.4479 - lr: 0.0010\n",
            "Epoch 36/100\n",
            "1/7 [===>..........................] - ETA: 0s - loss: 1.7248 - mean_absolute_percentage_error: 16.9457\n",
            "Epoch 36: saving model to bestmodel.kmpl\n",
            "7/7 [==============================] - 0s 60ms/step - loss: 1.6205 - mean_absolute_percentage_error: 16.8142 - val_loss: 1.3151 - val_mean_absolute_percentage_error: 13.3626 - lr: 0.0010\n",
            "Epoch 37/100\n",
            "1/7 [===>..........................] - ETA: 0s - loss: 1.4901 - mean_absolute_percentage_error: 14.2375\n",
            "Epoch 37: saving model to bestmodel.kmpl\n",
            "7/7 [==============================] - 0s 61ms/step - loss: 1.6042 - mean_absolute_percentage_error: 16.6613 - val_loss: 1.2991 - val_mean_absolute_percentage_error: 13.2968 - lr: 0.0010\n",
            "Epoch 38/100\n",
            "1/7 [===>..........................] - ETA: 0s - loss: 1.1332 - mean_absolute_percentage_error: 11.6391\n",
            "Epoch 38: saving model to bestmodel.kmpl\n",
            "7/7 [==============================] - 0s 63ms/step - loss: 1.5930 - mean_absolute_percentage_error: 16.5527 - val_loss: 1.3010 - val_mean_absolute_percentage_error: 13.1782 - lr: 0.0010\n",
            "Epoch 39/100\n",
            "1/7 [===>..........................] - ETA: 0s - loss: 1.6542 - mean_absolute_percentage_error: 17.8661\n",
            "Epoch 39: saving model to bestmodel.kmpl\n",
            "7/7 [==============================] - 0s 63ms/step - loss: 1.5826 - mean_absolute_percentage_error: 16.4070 - val_loss: 1.2900 - val_mean_absolute_percentage_error: 13.0555 - lr: 0.0010\n",
            "Epoch 40/100\n",
            "1/7 [===>..........................] - ETA: 0s - loss: 1.5850 - mean_absolute_percentage_error: 15.6844\n",
            "Epoch 40: saving model to bestmodel.kmpl\n",
            "7/7 [==============================] - 0s 61ms/step - loss: 1.5735 - mean_absolute_percentage_error: 16.3528 - val_loss: 1.2765 - val_mean_absolute_percentage_error: 12.9808 - lr: 0.0010\n",
            "Epoch 41/100\n",
            "1/7 [===>..........................] - ETA: 0s - loss: 1.3963 - mean_absolute_percentage_error: 17.4166\n",
            "Epoch 41: saving model to bestmodel.kmpl\n",
            "7/7 [==============================] - 0s 61ms/step - loss: 1.5648 - mean_absolute_percentage_error: 16.2360 - val_loss: 1.2721 - val_mean_absolute_percentage_error: 12.8524 - lr: 0.0010\n",
            "Epoch 42/100\n",
            "1/7 [===>..........................] - ETA: 0s - loss: 1.5227 - mean_absolute_percentage_error: 17.4313\n",
            "Epoch 42: saving model to bestmodel.kmpl\n",
            "7/7 [==============================] - 0s 61ms/step - loss: 1.5518 - mean_absolute_percentage_error: 16.1237 - val_loss: 1.2553 - val_mean_absolute_percentage_error: 12.7495 - lr: 0.0010\n",
            "Epoch 43/100\n",
            "1/7 [===>..........................] - ETA: 0s - loss: 1.4243 - mean_absolute_percentage_error: 14.5912\n",
            "Epoch 43: saving model to bestmodel.kmpl\n",
            "7/7 [==============================] - 0s 62ms/step - loss: 1.5483 - mean_absolute_percentage_error: 16.0895 - val_loss: 1.2497 - val_mean_absolute_percentage_error: 12.5813 - lr: 0.0010\n",
            "Epoch 44/100\n",
            "1/7 [===>..........................] - ETA: 0s - loss: 1.6128 - mean_absolute_percentage_error: 16.6959\n",
            "Epoch 44: saving model to bestmodel.kmpl\n",
            "7/7 [==============================] - 0s 62ms/step - loss: 1.5419 - mean_absolute_percentage_error: 16.1013 - val_loss: 1.2306 - val_mean_absolute_percentage_error: 12.6391 - lr: 0.0010\n",
            "Epoch 45/100\n",
            "1/7 [===>..........................] - ETA: 0s - loss: 1.2393 - mean_absolute_percentage_error: 13.3817\n",
            "Epoch 45: saving model to bestmodel.kmpl\n",
            "7/7 [==============================] - 1s 98ms/step - loss: 1.5360 - mean_absolute_percentage_error: 15.9718 - val_loss: 1.2374 - val_mean_absolute_percentage_error: 12.3719 - lr: 0.0010\n",
            "Epoch 46/100\n",
            "1/7 [===>..........................] - ETA: 0s - loss: 1.4461 - mean_absolute_percentage_error: 14.2658\n",
            "Epoch 46: saving model to bestmodel.kmpl\n",
            "7/7 [==============================] - 0s 62ms/step - loss: 1.5154 - mean_absolute_percentage_error: 15.7046 - val_loss: 1.2100 - val_mean_absolute_percentage_error: 12.2190 - lr: 0.0010\n",
            "Epoch 47/100\n",
            "1/7 [===>..........................] - ETA: 0s - loss: 1.2801 - mean_absolute_percentage_error: 13.9741\n",
            "Epoch 47: saving model to bestmodel.kmpl\n",
            "7/7 [==============================] - 0s 60ms/step - loss: 1.5084 - mean_absolute_percentage_error: 15.6838 - val_loss: 1.2041 - val_mean_absolute_percentage_error: 12.0900 - lr: 0.0010\n",
            "Epoch 48/100\n",
            "1/7 [===>..........................] - ETA: 0s - loss: 1.1540 - mean_absolute_percentage_error: 12.4228\n",
            "Epoch 48: saving model to bestmodel.kmpl\n",
            "7/7 [==============================] - 0s 62ms/step - loss: 1.4947 - mean_absolute_percentage_error: 15.5269 - val_loss: 1.1869 - val_mean_absolute_percentage_error: 11.9992 - lr: 0.0010\n",
            "Epoch 49/100\n",
            "1/7 [===>..........................] - ETA: 0s - loss: 1.3787 - mean_absolute_percentage_error: 15.3002\n",
            "Epoch 49: saving model to bestmodel.kmpl\n",
            "7/7 [==============================] - 0s 63ms/step - loss: 1.4926 - mean_absolute_percentage_error: 15.5487 - val_loss: 1.1794 - val_mean_absolute_percentage_error: 11.8715 - lr: 0.0010\n",
            "Epoch 50/100\n",
            "1/7 [===>..........................] - ETA: 0s - loss: 1.2426 - mean_absolute_percentage_error: 13.8836\n",
            "Epoch 50: saving model to bestmodel.kmpl\n",
            "7/7 [==============================] - 0s 56ms/step - loss: 1.4767 - mean_absolute_percentage_error: 15.3419 - val_loss: 1.1694 - val_mean_absolute_percentage_error: 11.8398 - lr: 0.0010\n",
            "Epoch 51/100\n",
            "1/7 [===>..........................] - ETA: 0s - loss: 1.6791 - mean_absolute_percentage_error: 17.4153\n",
            "Epoch 51: saving model to bestmodel.kmpl\n",
            "7/7 [==============================] - 0s 58ms/step - loss: 1.4686 - mean_absolute_percentage_error: 15.3237 - val_loss: 1.1653 - val_mean_absolute_percentage_error: 11.8641 - lr: 0.0010\n",
            "Epoch 52/100\n",
            "1/7 [===>..........................] - ETA: 0s - loss: 1.1899 - mean_absolute_percentage_error: 13.0714\n",
            "Epoch 52: saving model to bestmodel.kmpl\n",
            "7/7 [==============================] - 0s 60ms/step - loss: 1.4625 - mean_absolute_percentage_error: 15.2710 - val_loss: 1.1579 - val_mean_absolute_percentage_error: 11.7263 - lr: 0.0010\n",
            "Epoch 53/100\n",
            "1/7 [===>..........................] - ETA: 0s - loss: 1.5829 - mean_absolute_percentage_error: 16.3910\n",
            "Epoch 53: saving model to bestmodel.kmpl\n",
            "7/7 [==============================] - 0s 64ms/step - loss: 1.4534 - mean_absolute_percentage_error: 15.0101 - val_loss: 1.1676 - val_mean_absolute_percentage_error: 11.5524 - lr: 0.0010\n",
            "Epoch 54/100\n",
            "1/7 [===>..........................] - ETA: 0s - loss: 1.1507 - mean_absolute_percentage_error: 12.2673\n",
            "Epoch 54: saving model to bestmodel.kmpl\n",
            "7/7 [==============================] - 0s 61ms/step - loss: 1.4457 - mean_absolute_percentage_error: 14.8877 - val_loss: 1.1454 - val_mean_absolute_percentage_error: 11.3823 - lr: 0.0010\n",
            "Epoch 55/100\n",
            "1/7 [===>..........................] - ETA: 0s - loss: 1.0872 - mean_absolute_percentage_error: 13.6765\n",
            "Epoch 55: saving model to bestmodel.kmpl\n",
            "7/7 [==============================] - 0s 64ms/step - loss: 1.4381 - mean_absolute_percentage_error: 14.9714 - val_loss: 1.1273 - val_mean_absolute_percentage_error: 11.3280 - lr: 0.0010\n",
            "Epoch 56/100\n",
            "1/7 [===>..........................] - ETA: 0s - loss: 1.4172 - mean_absolute_percentage_error: 14.8736\n",
            "Epoch 56: saving model to bestmodel.kmpl\n",
            "7/7 [==============================] - 0s 67ms/step - loss: 1.4218 - mean_absolute_percentage_error: 14.7794 - val_loss: 1.1176 - val_mean_absolute_percentage_error: 11.1964 - lr: 0.0010\n",
            "Epoch 57/100\n",
            "1/7 [===>..........................] - ETA: 0s - loss: 1.4608 - mean_absolute_percentage_error: 15.9432\n",
            "Epoch 57: saving model to bestmodel.kmpl\n",
            "7/7 [==============================] - 0s 64ms/step - loss: 1.4139 - mean_absolute_percentage_error: 14.6646 - val_loss: 1.1170 - val_mean_absolute_percentage_error: 11.1072 - lr: 0.0010\n",
            "Epoch 58/100\n",
            "1/7 [===>..........................] - ETA: 0s - loss: 1.1308 - mean_absolute_percentage_error: 11.9106\n",
            "Epoch 58: saving model to bestmodel.kmpl\n",
            "7/7 [==============================] - 0s 62ms/step - loss: 1.4027 - mean_absolute_percentage_error: 14.5469 - val_loss: 1.1021 - val_mean_absolute_percentage_error: 11.0180 - lr: 0.0010\n",
            "Epoch 59/100\n",
            "1/7 [===>..........................] - ETA: 0s - loss: 1.3993 - mean_absolute_percentage_error: 13.5586\n",
            "Epoch 59: saving model to bestmodel.kmpl\n",
            "7/7 [==============================] - 0s 64ms/step - loss: 1.3937 - mean_absolute_percentage_error: 14.4486 - val_loss: 1.0998 - val_mean_absolute_percentage_error: 10.9581 - lr: 0.0010\n",
            "Epoch 60/100\n",
            "1/7 [===>..........................] - ETA: 0s - loss: 1.5540 - mean_absolute_percentage_error: 15.6753\n",
            "Epoch 60: saving model to bestmodel.kmpl\n",
            "7/7 [==============================] - 0s 65ms/step - loss: 1.3824 - mean_absolute_percentage_error: 14.3373 - val_loss: 1.0885 - val_mean_absolute_percentage_error: 10.8861 - lr: 0.0010\n",
            "Epoch 61/100\n",
            "1/7 [===>..........................] - ETA: 0s - loss: 1.3603 - mean_absolute_percentage_error: 14.7693\n",
            "Epoch 61: saving model to bestmodel.kmpl\n",
            "7/7 [==============================] - 0s 65ms/step - loss: 1.3771 - mean_absolute_percentage_error: 14.3494 - val_loss: 1.0762 - val_mean_absolute_percentage_error: 10.8495 - lr: 0.0010\n",
            "Epoch 62/100\n",
            "1/7 [===>..........................] - ETA: 0s - loss: 1.1157 - mean_absolute_percentage_error: 12.9602\n",
            "Epoch 62: saving model to bestmodel.kmpl\n",
            "7/7 [==============================] - 1s 107ms/step - loss: 1.3652 - mean_absolute_percentage_error: 14.1589 - val_loss: 1.0910 - val_mean_absolute_percentage_error: 10.7368 - lr: 0.0010\n",
            "Epoch 63/100\n",
            "1/7 [===>..........................] - ETA: 0s - loss: 1.6377 - mean_absolute_percentage_error: 15.8034\n",
            "Epoch 63: saving model to bestmodel.kmpl\n",
            "7/7 [==============================] - 0s 59ms/step - loss: 1.3568 - mean_absolute_percentage_error: 13.9960 - val_loss: 1.0742 - val_mean_absolute_percentage_error: 10.6345 - lr: 0.0010\n",
            "Epoch 64/100\n",
            "1/7 [===>..........................] - ETA: 0s - loss: 1.1707 - mean_absolute_percentage_error: 12.2921\n",
            "Epoch 64: saving model to bestmodel.kmpl\n",
            "7/7 [==============================] - 0s 59ms/step - loss: 1.3510 - mean_absolute_percentage_error: 14.0508 - val_loss: 1.0530 - val_mean_absolute_percentage_error: 10.5957 - lr: 0.0010\n",
            "Epoch 65/100\n",
            "1/7 [===>..........................] - ETA: 0s - loss: 1.4192 - mean_absolute_percentage_error: 15.0146\n",
            "Epoch 65: saving model to bestmodel.kmpl\n",
            "7/7 [==============================] - 0s 64ms/step - loss: 1.3396 - mean_absolute_percentage_error: 13.9737 - val_loss: 1.0586 - val_mean_absolute_percentage_error: 10.5724 - lr: 0.0010\n",
            "Epoch 66/100\n",
            "1/7 [===>..........................] - ETA: 0s - loss: 1.4145 - mean_absolute_percentage_error: 14.8242\n",
            "Epoch 66: saving model to bestmodel.kmpl\n",
            "7/7 [==============================] - 0s 63ms/step - loss: 1.3310 - mean_absolute_percentage_error: 13.8169 - val_loss: 1.0641 - val_mean_absolute_percentage_error: 10.5059 - lr: 0.0010\n",
            "Epoch 67/100\n",
            "1/7 [===>..........................] - ETA: 0s - loss: 1.2315 - mean_absolute_percentage_error: 12.4726\n",
            "Epoch 67: saving model to bestmodel.kmpl\n",
            "7/7 [==============================] - 0s 62ms/step - loss: 1.3233 - mean_absolute_percentage_error: 13.7367 - val_loss: 1.0501 - val_mean_absolute_percentage_error: 10.4572 - lr: 0.0010\n",
            "Epoch 68/100\n",
            "1/7 [===>..........................] - ETA: 0s - loss: 1.2029 - mean_absolute_percentage_error: 13.2644\n",
            "Epoch 68: saving model to bestmodel.kmpl\n",
            "7/7 [==============================] - 0s 65ms/step - loss: 1.3147 - mean_absolute_percentage_error: 13.7168 - val_loss: 1.0403 - val_mean_absolute_percentage_error: 10.4339 - lr: 0.0010\n",
            "Epoch 69/100\n",
            "1/7 [===>..........................] - ETA: 0s - loss: 1.1107 - mean_absolute_percentage_error: 11.4658\n",
            "Epoch 69: saving model to bestmodel.kmpl\n",
            "7/7 [==============================] - 0s 67ms/step - loss: 1.3107 - mean_absolute_percentage_error: 13.7099 - val_loss: 1.0370 - val_mean_absolute_percentage_error: 10.2662 - lr: 0.0010\n",
            "Epoch 70/100\n",
            "1/7 [===>..........................] - ETA: 0s - loss: 1.3632 - mean_absolute_percentage_error: 12.9700\n",
            "Epoch 70: saving model to bestmodel.kmpl\n",
            "7/7 [==============================] - 0s 65ms/step - loss: 1.3002 - mean_absolute_percentage_error: 13.5369 - val_loss: 1.0379 - val_mean_absolute_percentage_error: 10.2360 - lr: 0.0010\n",
            "Epoch 71/100\n",
            "1/7 [===>..........................] - ETA: 0s - loss: 1.5146 - mean_absolute_percentage_error: 14.8231\n",
            "Epoch 71: saving model to bestmodel.kmpl\n",
            "7/7 [==============================] - 0s 65ms/step - loss: 1.2928 - mean_absolute_percentage_error: 13.4443 - val_loss: 1.0319 - val_mean_absolute_percentage_error: 10.2314 - lr: 0.0010\n",
            "Epoch 72/100\n",
            "1/7 [===>..........................] - ETA: 0s - loss: 1.3992 - mean_absolute_percentage_error: 14.1173\n",
            "Epoch 72: saving model to bestmodel.kmpl\n",
            "7/7 [==============================] - 0s 64ms/step - loss: 1.2877 - mean_absolute_percentage_error: 13.4731 - val_loss: 1.0191 - val_mean_absolute_percentage_error: 10.3116 - lr: 0.0010\n",
            "Epoch 73/100\n",
            "1/7 [===>..........................] - ETA: 0s - loss: 1.2794 - mean_absolute_percentage_error: 14.7930\n",
            "Epoch 73: saving model to bestmodel.kmpl\n",
            "7/7 [==============================] - 0s 61ms/step - loss: 1.2827 - mean_absolute_percentage_error: 13.4183 - val_loss: 1.0307 - val_mean_absolute_percentage_error: 10.1452 - lr: 0.0010\n",
            "Epoch 74/100\n",
            "1/7 [===>..........................] - ETA: 0s - loss: 1.2269 - mean_absolute_percentage_error: 13.4247\n",
            "Epoch 74: saving model to bestmodel.kmpl\n",
            "7/7 [==============================] - 0s 67ms/step - loss: 1.2724 - mean_absolute_percentage_error: 13.1922 - val_loss: 1.0304 - val_mean_absolute_percentage_error: 10.1137 - lr: 0.0010\n",
            "Epoch 75/100\n",
            "1/7 [===>..........................] - ETA: 0s - loss: 1.4690 - mean_absolute_percentage_error: 14.0331\n",
            "Epoch 75: saving model to bestmodel.kmpl\n",
            "7/7 [==============================] - 0s 65ms/step - loss: 1.2681 - mean_absolute_percentage_error: 13.1779 - val_loss: 1.0124 - val_mean_absolute_percentage_error: 9.9751 - lr: 0.0010\n",
            "Epoch 76/100\n",
            "1/7 [===>..........................] - ETA: 0s - loss: 1.0189 - mean_absolute_percentage_error: 12.1530\n",
            "Epoch 76: saving model to bestmodel.kmpl\n",
            "7/7 [==============================] - 0s 63ms/step - loss: 1.2585 - mean_absolute_percentage_error: 13.1181 - val_loss: 1.0013 - val_mean_absolute_percentage_error: 9.9313 - lr: 0.0010\n",
            "Epoch 77/100\n",
            "1/7 [===>..........................] - ETA: 0s - loss: 1.3239 - mean_absolute_percentage_error: 16.2668\n",
            "Epoch 77: saving model to bestmodel.kmpl\n",
            "7/7 [==============================] - 0s 62ms/step - loss: 1.2538 - mean_absolute_percentage_error: 13.1182 - val_loss: 1.0015 - val_mean_absolute_percentage_error: 10.0488 - lr: 0.0010\n",
            "Epoch 78/100\n",
            "1/7 [===>..........................] - ETA: 0s - loss: 1.3812 - mean_absolute_percentage_error: 12.8111\n",
            "Epoch 78: saving model to bestmodel.kmpl\n",
            "7/7 [==============================] - 0s 59ms/step - loss: 1.2470 - mean_absolute_percentage_error: 13.0725 - val_loss: 1.0109 - val_mean_absolute_percentage_error: 9.9814 - lr: 0.0010\n",
            "Epoch 79/100\n",
            "1/7 [===>..........................] - ETA: 0s - loss: 1.3528 - mean_absolute_percentage_error: 12.3660\n",
            "Epoch 79: saving model to bestmodel.kmpl\n",
            "7/7 [==============================] - 0s 65ms/step - loss: 1.2404 - mean_absolute_percentage_error: 12.8436 - val_loss: 1.0152 - val_mean_absolute_percentage_error: 9.8693 - lr: 0.0010\n",
            "Epoch 80/100\n",
            "1/7 [===>..........................] - ETA: 0s - loss: 1.3696 - mean_absolute_percentage_error: 16.0045\n",
            "Epoch 80: saving model to bestmodel.kmpl\n",
            "7/7 [==============================] - 0s 63ms/step - loss: 1.2410 - mean_absolute_percentage_error: 12.8166 - val_loss: 0.9953 - val_mean_absolute_percentage_error: 9.7169 - lr: 0.0010\n",
            "Epoch 81/100\n",
            "1/7 [===>..........................] - ETA: 0s - loss: 1.4008 - mean_absolute_percentage_error: 12.7973\n",
            "Epoch 81: saving model to bestmodel.kmpl\n",
            "7/7 [==============================] - 1s 109ms/step - loss: 1.2323 - mean_absolute_percentage_error: 12.8535 - val_loss: 0.9848 - val_mean_absolute_percentage_error: 9.8726 - lr: 0.0010\n",
            "Epoch 82/100\n",
            "1/7 [===>..........................] - ETA: 0s - loss: 1.4741 - mean_absolute_percentage_error: 15.8105\n",
            "Epoch 82: saving model to bestmodel.kmpl\n",
            "7/7 [==============================] - 0s 64ms/step - loss: 1.2270 - mean_absolute_percentage_error: 12.8721 - val_loss: 0.9771 - val_mean_absolute_percentage_error: 9.6781 - lr: 0.0010\n",
            "Epoch 83/100\n",
            "1/7 [===>..........................] - ETA: 0s - loss: 0.9315 - mean_absolute_percentage_error: 10.8592\n",
            "Epoch 83: saving model to bestmodel.kmpl\n",
            "7/7 [==============================] - 0s 59ms/step - loss: 1.2314 - mean_absolute_percentage_error: 12.7725 - val_loss: 1.0013 - val_mean_absolute_percentage_error: 9.6174 - lr: 0.0010\n",
            "Epoch 84/100\n",
            "1/7 [===>..........................] - ETA: 0s - loss: 1.2664 - mean_absolute_percentage_error: 12.4017\n",
            "Epoch 84: saving model to bestmodel.kmpl\n",
            "7/7 [==============================] - 0s 64ms/step - loss: 1.2224 - mean_absolute_percentage_error: 12.6622 - val_loss: 0.9719 - val_mean_absolute_percentage_error: 9.8474 - lr: 0.0010\n",
            "Epoch 85/100\n",
            "1/7 [===>..........................] - ETA: 0s - loss: 1.4107 - mean_absolute_percentage_error: 13.8724\n",
            "Epoch 85: saving model to bestmodel.kmpl\n",
            "7/7 [==============================] - 0s 60ms/step - loss: 1.2181 - mean_absolute_percentage_error: 12.8065 - val_loss: 0.9728 - val_mean_absolute_percentage_error: 9.5459 - lr: 0.0010\n",
            "Epoch 86/100\n",
            "1/7 [===>..........................] - ETA: 0s - loss: 1.1992 - mean_absolute_percentage_error: 13.7086\n",
            "Epoch 86: saving model to bestmodel.kmpl\n",
            "7/7 [==============================] - 0s 58ms/step - loss: 1.2171 - mean_absolute_percentage_error: 12.4992 - val_loss: 1.0090 - val_mean_absolute_percentage_error: 9.5818 - lr: 0.0010\n",
            "Epoch 87/100\n",
            "1/7 [===>..........................] - ETA: 0s - loss: 1.2297 - mean_absolute_percentage_error: 13.3882\n",
            "Epoch 87: saving model to bestmodel.kmpl\n",
            "7/7 [==============================] - 0s 58ms/step - loss: 1.2107 - mean_absolute_percentage_error: 12.4248 - val_loss: 0.9570 - val_mean_absolute_percentage_error: 9.4481 - lr: 0.0010\n",
            "Epoch 88/100\n",
            "1/7 [===>..........................] - ETA: 0s - loss: 1.5254 - mean_absolute_percentage_error: 13.1664\n",
            "Epoch 88: saving model to bestmodel.kmpl\n",
            "7/7 [==============================] - 0s 59ms/step - loss: 1.2000 - mean_absolute_percentage_error: 12.5390 - val_loss: 0.9487 - val_mean_absolute_percentage_error: 9.4458 - lr: 0.0010\n",
            "Epoch 89/100\n",
            "1/7 [===>..........................] - ETA: 0s - loss: 0.8989 - mean_absolute_percentage_error: 10.4749\n",
            "Epoch 89: saving model to bestmodel.kmpl\n",
            "7/7 [==============================] - 0s 60ms/step - loss: 1.1982 - mean_absolute_percentage_error: 12.5332 - val_loss: 0.9448 - val_mean_absolute_percentage_error: 9.3183 - lr: 0.0010\n",
            "Epoch 90/100\n",
            "1/7 [===>..........................] - ETA: 0s - loss: 1.1091 - mean_absolute_percentage_error: 12.0581\n",
            "Epoch 90: saving model to bestmodel.kmpl\n",
            "7/7 [==============================] - 0s 61ms/step - loss: 1.1924 - mean_absolute_percentage_error: 12.4050 - val_loss: 0.9384 - val_mean_absolute_percentage_error: 9.1642 - lr: 0.0010\n",
            "Epoch 91/100\n",
            "1/7 [===>..........................] - ETA: 0s - loss: 1.1889 - mean_absolute_percentage_error: 14.0040\n",
            "Epoch 91: saving model to bestmodel.kmpl\n",
            "7/7 [==============================] - 0s 62ms/step - loss: 1.1930 - mean_absolute_percentage_error: 12.3804 - val_loss: 0.9316 - val_mean_absolute_percentage_error: 9.1069 - lr: 0.0010\n",
            "Epoch 92/100\n",
            "1/7 [===>..........................] - ETA: 0s - loss: 0.9090 - mean_absolute_percentage_error: 10.1818\n",
            "Epoch 92: saving model to bestmodel.kmpl\n",
            "7/7 [==============================] - 0s 66ms/step - loss: 1.1888 - mean_absolute_percentage_error: 12.4248 - val_loss: 0.9307 - val_mean_absolute_percentage_error: 9.2500 - lr: 0.0010\n",
            "Epoch 93/100\n",
            "1/7 [===>..........................] - ETA: 0s - loss: 0.9284 - mean_absolute_percentage_error: 10.0501\n",
            "Epoch 93: saving model to bestmodel.kmpl\n",
            "7/7 [==============================] - 0s 56ms/step - loss: 1.1860 - mean_absolute_percentage_error: 12.2993 - val_loss: 0.9479 - val_mean_absolute_percentage_error: 9.1054 - lr: 0.0010\n",
            "Epoch 94/100\n",
            "1/7 [===>..........................] - ETA: 0s - loss: 0.9452 - mean_absolute_percentage_error: 10.7745\n",
            "Epoch 94: saving model to bestmodel.kmpl\n",
            "7/7 [==============================] - 0s 62ms/step - loss: 1.1846 - mean_absolute_percentage_error: 12.2791 - val_loss: 0.9159 - val_mean_absolute_percentage_error: 9.0591 - lr: 0.0010\n",
            "Epoch 95/100\n",
            "1/7 [===>..........................] - ETA: 0s - loss: 0.9207 - mean_absolute_percentage_error: 9.4157\n",
            "Epoch 95: saving model to bestmodel.kmpl\n",
            "7/7 [==============================] - 0s 63ms/step - loss: 1.1796 - mean_absolute_percentage_error: 12.3557 - val_loss: 0.9206 - val_mean_absolute_percentage_error: 8.9823 - lr: 0.0010\n",
            "Epoch 96/100\n",
            "1/7 [===>..........................] - ETA: 0s - loss: 1.1856 - mean_absolute_percentage_error: 11.7175\n",
            "Epoch 96: saving model to bestmodel.kmpl\n",
            "7/7 [==============================] - 1s 108ms/step - loss: 1.1824 - mean_absolute_percentage_error: 12.2896 - val_loss: 0.9268 - val_mean_absolute_percentage_error: 9.0542 - lr: 0.0010\n",
            "Epoch 97/100\n",
            "1/7 [===>..........................] - ETA: 0s - loss: 1.2594 - mean_absolute_percentage_error: 12.1736\n",
            "Epoch 97: saving model to bestmodel.kmpl\n",
            "7/7 [==============================] - 0s 68ms/step - loss: 1.1780 - mean_absolute_percentage_error: 12.1102 - val_loss: 0.9415 - val_mean_absolute_percentage_error: 9.0085 - lr: 0.0010\n",
            "Epoch 98/100\n",
            "1/7 [===>..........................] - ETA: 0s - loss: 1.5206 - mean_absolute_percentage_error: 15.9998\n",
            "Epoch 98: saving model to bestmodel.kmpl\n",
            "7/7 [==============================] - 0s 65ms/step - loss: 1.1861 - mean_absolute_percentage_error: 12.3755 - val_loss: 0.9352 - val_mean_absolute_percentage_error: 9.3513 - lr: 0.0010\n",
            "Epoch 99/100\n",
            "1/7 [===>..........................] - ETA: 0s - loss: 1.3272 - mean_absolute_percentage_error: 13.4167\n",
            "Epoch 99: saving model to bestmodel.kmpl\n",
            "\n",
            "Epoch 99: ReduceLROnPlateau reducing learning rate to 0.00010000000474974513.\n",
            "7/7 [==============================] - 0s 63ms/step - loss: 1.1681 - mean_absolute_percentage_error: 12.1087 - val_loss: 0.9245 - val_mean_absolute_percentage_error: 8.8724 - lr: 0.0010\n",
            "Epoch 99: early stopping\n"
          ]
        }
      ]
    },
    {
      "cell_type": "code",
      "execution_count": null,
      "metadata": {
        "colab": {
          "base_uri": "https://localhost:8080/",
          "height": 282
        },
        "outputId": "606b74d7-262e-41a9-ac44-8f727d6e4496",
        "id": "pvxrGq9Iy1NY"
      },
      "outputs": [
        {
          "output_type": "execute_result",
          "data": {
            "text/plain": [
              "[<matplotlib.lines.Line2D at 0x7f3203185f10>]"
            ]
          },
          "metadata": {},
          "execution_count": 59
        },
        {
          "output_type": "display_data",
          "data": {
            "text/plain": [
              "<Figure size 432x288 with 1 Axes>"
            ],
            "image/png": "[encoded data removed]"
          },
          "metadata": {
            "needs_background": "light"
          }
        }
      ],
      "source": [
        "import matplotlib.pyplot as plt\n",
        "plt.plot(history.history['loss'])\n",
        "plt.plot(history.history['val_loss'])"
      ]
    },
    {
      "cell_type": "code",
      "execution_count": null,
      "metadata": {
        "id": "eqAUYnJ5y1NZ"
      },
      "outputs": [],
      "source": [
        "from keras.models import load_model\n",
        "bestmodel = load_model('bestmodel.kmpl')\n"
      ]
    },
    {
      "cell_type": "code",
      "execution_count": null,
      "metadata": {
        "colab": {
          "base_uri": "https://localhost:8080/"
        },
        "outputId": "ac49d88d-fd90-484e-b22c-6b21898e7abf",
        "id": "VcKXcBFXy1NZ"
      },
      "outputs": [
        {
          "output_type": "stream",
          "name": "stdout",
          "text": [
            "4/4 [==============================] - 0s 3ms/step - loss: 1.0815 - mean_absolute_percentage_error: 10.4544\n"
          ]
        },
        {
          "output_type": "execute_result",
          "data": {
            "text/plain": [
              "[1.0814839601516724, 10.454442024230957]"
            ]
          },
          "metadata": {},
          "execution_count": 61
        }
      ],
      "source": [
        "bestmodel.evaluate(X_test, y_test)"
      ]
    },
    {
      "cell_type": "code",
      "source": [
        "!pip install flask gevent requests pillow flask-ngrok pyngrok"
      ],
      "metadata": {
        "colab": {
          "base_uri": "https://localhost:8080/"
        },
        "id": "k2zjHAHX58D1",
        "outputId": "b688108a-43b1-4266-b0eb-68cb49c039d7"
      },
      "execution_count": null,
      "outputs": [
        {
          "output_type": "stream",
          "name": "stdout",
          "text": [
            "Looking in indexes: https://pypi.org/simple, https://us-python.pkg.dev/colab-wheels/public/simple/\n",
            "Requirement already satisfied: flask in /usr/local/lib/python3.7/dist-packages (1.1.4)\n",
            "Collecting gevent\n",
            "  Downloading gevent-21.12.0-cp37-cp37m-manylinux_2_12_x86_64.manylinux2010_x86_64.whl (5.8 MB)\n",
            "\u001b[K     |████████████████████████████████| 5.8 MB 25.2 MB/s \n",
            "\u001b[?25hRequirement already satisfied: requests in /usr/local/lib/python3.7/dist-packages (2.23.0)\n",
            "Requirement already satisfied: pillow in /usr/local/lib/python3.7/dist-packages (7.1.2)\n",
            "Collecting flask-ngrok\n",
            "  Downloading flask_ngrok-0.0.25-py3-none-any.whl (3.1 kB)\n",
            "Collecting pyngrok\n",
            "  Downloading pyngrok-5.1.0.tar.gz (745 kB)\n",
            "\u001b[K     |████████████████████████████████| 745 kB 68.6 MB/s \n",
            "\u001b[?25hRequirement already satisfied: itsdangerous<2.0,>=0.24 in /usr/local/lib/python3.7/dist-packages (from flask) (1.1.0)\n",
            "Requirement already satisfied: Jinja2<3.0,>=2.10.1 in /usr/local/lib/python3.7/dist-packages (from flask) (2.11.3)\n",
            "Requirement already satisfied: Werkzeug<2.0,>=0.15 in /usr/local/lib/python3.7/dist-packages (from flask) (1.0.1)\n",
            "Requirement already satisfied: click<8.0,>=5.1 in /usr/local/lib/python3.7/dist-packages (from flask) (7.1.2)\n",
            "Requirement already satisfied: MarkupSafe>=0.23 in /usr/local/lib/python3.7/dist-packages (from Jinja2<3.0,>=2.10.1->flask) (2.0.1)\n",
            "Collecting zope.event\n",
            "  Downloading zope.event-4.5.0-py2.py3-none-any.whl (6.8 kB)\n",
            "Requirement already satisfied: setuptools in /usr/local/lib/python3.7/dist-packages (from gevent) (57.4.0)\n",
            "Requirement already satisfied: greenlet<2.0,>=1.1.0 in /usr/local/lib/python3.7/dist-packages (from gevent) (1.1.3)\n",
            "Collecting zope.interface\n",
            "  Downloading zope.interface-5.4.0-cp37-cp37m-manylinux2010_x86_64.whl (251 kB)\n",
            "\u001b[K     |████████████████████████████████| 251 kB 77.3 MB/s \n",
            "\u001b[?25hRequirement already satisfied: chardet<4,>=3.0.2 in /usr/local/lib/python3.7/dist-packages (from requests) (3.0.4)\n",
            "Requirement already satisfied: urllib3!=1.25.0,!=1.25.1,<1.26,>=1.21.1 in /usr/local/lib/python3.7/dist-packages (from requests) (1.24.3)\n",
            "Requirement already satisfied: certifi>=2017.4.17 in /usr/local/lib/python3.7/dist-packages (from requests) (2022.6.15)\n",
            "Requirement already satisfied: idna<3,>=2.5 in /usr/local/lib/python3.7/dist-packages (from requests) (2.10)\n",
            "Requirement already satisfied: PyYAML in /usr/local/lib/python3.7/dist-packages (from pyngrok) (6.0)\n",
            "Building wheels for collected packages: pyngrok\n",
            "  Building wheel for pyngrok (setup.py) ... \u001b[?25l\u001b[?25hdone\n",
            "  Created wheel for pyngrok: filename=pyngrok-5.1.0-py3-none-any.whl size=19007 sha256=1cd572c1f1ec0244d67d8c438f28c6804b185802e0679dd8934d79dc442b7d1d\n",
            "  Stored in directory: /root/.cache/pip/wheels/bf/e6/af/ccf6598ecefecd44104069371795cb9b3afbcd16987f6ccfb3\n",
            "Successfully built pyngrok\n",
            "Installing collected packages: zope.interface, zope.event, pyngrok, gevent, flask-ngrok\n",
            "Successfully installed flask-ngrok-0.0.25 gevent-21.12.0 pyngrok-5.1.0 zope.event-4.5.0 zope.interface-5.4.0\n"
          ]
        }
      ]
    },
    {
      "cell_type": "code",
      "source": [
        "from flask_ngrok import run_with_ngrok\n",
        "from flask import Flask, render_template, request\n",
        "from keras.preprocessing.image import load_img, img_to_array"
      ],
      "metadata": {
        "id": "R_u9CG4P9uQI"
      },
      "execution_count": null,
      "outputs": []
    },
    {
      "cell_type": "code",
      "source": [
        "procfile = 'web: gunicorn app:app'\n",
        "procfiles = open('/content/Procfile', 'w')"
      ],
      "metadata": {
        "id": "XqtBMRrK-BCA"
      },
      "execution_count": null,
      "outputs": []
    },
    {
      "cell_type": "code",
      "source": [
        "procfiles.write(procfile)"
      ],
      "metadata": {
        "id": "QQwHb0-F-6Iz",
        "colab": {
          "base_uri": "https://localhost:8080/"
        },
        "outputId": "f5482f79-d311-4e7b-c223-18c556afc641"
      },
      "execution_count": null,
      "outputs": [
        {
          "output_type": "execute_result",
          "data": {
            "text/plain": [
              "21"
            ]
          },
          "metadata": {},
          "execution_count": 77
        }
      ]
    },
    {
      "cell_type": "code",
      "source": [
        "procfiles.close()"
      ],
      "metadata": {
        "id": "6EzO3yWV--7w"
      },
      "execution_count": null,
      "outputs": []
    },
    {
      "cell_type": "code",
      "source": [
        "!mkdir '/content/templates'"
      ],
      "metadata": {
        "id": "aH6CrwMt_MmD"
      },
      "execution_count": null,
      "outputs": []
    },
    {
      "cell_type": "code",
      "source": [
        "import pyngrok"
      ],
      "metadata": {
        "id": "lRRQvClNsEf9"
      },
      "execution_count": null,
      "outputs": []
    },
    {
      "cell_type": "code",
      "source": [
        "!ngrok authtoken 2D1iUOMpC34ghgsgSawmqEIRSpz_kKgquMwCyKD6v41f5AXG"
      ],
      "metadata": {
        "colab": {
          "base_uri": "https://localhost:8080/"
        },
        "id": "QzcI6JyzsEjZ",
        "outputId": "8785440d-c27d-4b7b-c7e6-4f6091ffa763"
      },
      "execution_count": null,
      "outputs": [
        {
          "output_type": "stream",
          "name": "stdout",
          "text": [
            "Authtoken saved to configuration file: /root/.ngrok2/ngrok.yml\n"
          ]
        }
      ]
    },
    {
      "cell_type": "code",
      "source": [
        "kmph_prediction = Flask(__name__)\n",
        "run_with_ngrok(kmph_prediction)\n",
        "\n",
        "@kmph_prediction.route('/')\n",
        "def home():\n",
        "  return render_template('index1.html')\n",
        "\n",
        "@kmph_prediction.route('/', methods=['POST'])\n",
        "def prediction():\n",
        "  data = request.form['textbox']\n",
        "  features = pd.DataFrame(data)\n",
        "  data1 = mn.transform(features)\n",
        "\n",
        " \n",
        "  preds = bestmodel.predict(data1)\n",
        "  \n",
        "\n",
        "\n",
        "if __name__=='__main__':\n",
        "  kmph_prediction.run()"
      ],
      "metadata": {
        "colab": {
          "base_uri": "https://localhost:8080/"
        },
        "id": "AxKCfMrXsEpt",
        "outputId": "5f621ab4-faca-4269-b3b3-4158231f1285"
      },
      "execution_count": null,
      "outputs": [
        {
          "output_type": "stream",
          "name": "stdout",
          "text": [
            " * Serving Flask app \"__main__\" (lazy loading)\n",
            " * Environment: production\n",
            "\u001b[31m   WARNING: This is a development server. Do not use it in a production deployment.\u001b[0m\n",
            "\u001b[2m   Use a production WSGI server instead.\u001b[0m\n",
            " * Debug mode: off\n"
          ]
        },
        {
          "output_type": "stream",
          "name": "stderr",
          "text": [
            "INFO:werkzeug: * Running on http://127.0.0.1:5000/ (Press CTRL+C to quit)\n",
            "Exception in thread Thread-16:\n",
            "Traceback (most recent call last):\n",
            "  File \"/usr/local/lib/python3.7/dist-packages/urllib3/connection.py\", line 159, in _new_conn\n",
            "    (self._dns_host, self.port), self.timeout, **extra_kw)\n",
            "  File \"/usr/local/lib/python3.7/dist-packages/urllib3/util/connection.py\", line 80, in create_connection\n",
            "    raise err\n",
            "  File \"/usr/local/lib/python3.7/dist-packages/urllib3/util/connection.py\", line 70, in create_connection\n",
            "    sock.connect(sa)\n",
            "ConnectionRefusedError: [Errno 111] Connection refused\n",
            "\n",
            "During handling of the above exception, another exception occurred:\n",
            "\n",
            "Traceback (most recent call last):\n",
            "  File \"/usr/local/lib/python3.7/dist-packages/urllib3/connectionpool.py\", line 600, in urlopen\n",
            "    chunked=chunked)\n",
            "  File \"/usr/local/lib/python3.7/dist-packages/urllib3/connectionpool.py\", line 354, in _make_request\n",
            "    conn.request(method, url, **httplib_request_kw)\n",
            "  File \"/usr/lib/python3.7/http/client.py\", line 1281, in request\n",
            "    self._send_request(method, url, body, headers, encode_chunked)\n",
            "  File \"/usr/lib/python3.7/http/client.py\", line 1327, in _send_request\n",
            "    self.endheaders(body, encode_chunked=encode_chunked)\n",
            "  File \"/usr/lib/python3.7/http/client.py\", line 1276, in endheaders\n",
            "    self._send_output(message_body, encode_chunked=encode_chunked)\n",
            "  File \"/usr/lib/python3.7/http/client.py\", line 1036, in _send_output\n",
            "    self.send(msg)\n",
            "  File \"/usr/lib/python3.7/http/client.py\", line 976, in send\n",
            "    self.connect()\n",
            "  File \"/usr/local/lib/python3.7/dist-packages/urllib3/connection.py\", line 181, in connect\n",
            "    conn = self._new_conn()\n",
            "  File \"/usr/local/lib/python3.7/dist-packages/urllib3/connection.py\", line 168, in _new_conn\n",
            "    self, \"Failed to establish a new connection: %s\" % e)\n",
            "urllib3.exceptions.NewConnectionError: <urllib3.connection.HTTPConnection object at 0x7f3209a9aa90>: Failed to establish a new connection: [Errno 111] Connection refused\n",
            "\n",
            "During handling of the above exception, another exception occurred:\n",
            "\n",
            "Traceback (most recent call last):\n",
            "  File \"/usr/local/lib/python3.7/dist-packages/requests/adapters.py\", line 449, in send\n",
            "    timeout=timeout\n",
            "  File \"/usr/local/lib/python3.7/dist-packages/urllib3/connectionpool.py\", line 638, in urlopen\n",
            "    _stacktrace=sys.exc_info()[2])\n",
            "  File \"/usr/local/lib/python3.7/dist-packages/urllib3/util/retry.py\", line 399, in increment\n",
            "    raise MaxRetryError(_pool, url, error or ResponseError(cause))\n",
            "urllib3.exceptions.MaxRetryError: HTTPConnectionPool(host='localhost', port=4040): Max retries exceeded with url: /api/tunnels (Caused by NewConnectionError('<urllib3.connection.HTTPConnection object at 0x7f3209a9aa90>: Failed to establish a new connection: [Errno 111] Connection refused'))\n",
            "\n",
            "During handling of the above exception, another exception occurred:\n",
            "\n",
            "Traceback (most recent call last):\n",
            "  File \"/usr/lib/python3.7/threading.py\", line 926, in _bootstrap_inner\n",
            "    self.run()\n",
            "  File \"/usr/lib/python3.7/threading.py\", line 1177, in run\n",
            "    self.function(*self.args, **self.kwargs)\n",
            "  File \"/usr/local/lib/python3.7/dist-packages/flask_ngrok.py\", line 70, in start_ngrok\n",
            "    ngrok_address = _run_ngrok()\n",
            "  File \"/usr/local/lib/python3.7/dist-packages/flask_ngrok.py\", line 35, in _run_ngrok\n",
            "    tunnel_url = requests.get(localhost_url).text  # Get the tunnel information\n",
            "  File \"/usr/local/lib/python3.7/dist-packages/requests/api.py\", line 76, in get\n",
            "    return request('get', url, params=params, **kwargs)\n",
            "  File \"/usr/local/lib/python3.7/dist-packages/requests/api.py\", line 61, in request\n",
            "    return session.request(method=method, url=url, **kwargs)\n",
            "  File \"/usr/local/lib/python3.7/dist-packages/requests/sessions.py\", line 530, in request\n",
            "    resp = self.send(prep, **send_kwargs)\n",
            "  File \"/usr/local/lib/python3.7/dist-packages/requests/sessions.py\", line 643, in send\n",
            "    r = adapter.send(request, **kwargs)\n",
            "  File \"/usr/local/lib/python3.7/dist-packages/requests/adapters.py\", line 516, in send\n",
            "    raise ConnectionError(e, request=request)\n",
            "requests.exceptions.ConnectionError: HTTPConnectionPool(host='localhost', port=4040): Max retries exceeded with url: /api/tunnels (Caused by NewConnectionError('<urllib3.connection.HTTPConnection object at 0x7f3209a9aa90>: Failed to establish a new connection: [Errno 111] Connection refused'))\n",
            "\n"
          ]
        }
      ]
    },
    {
      "cell_type": "code",
      "source": [
        "new_data = pd.DataFrame({'Cylinders':[8],\n",
        "             'Displacement':[302.0],\n",
        "             'Horsepower':[140.0],\n",
        "             'Weight':[3449.0],\n",
        "             'Acceleration':[10.5],\n",
        "            'Model Year':[70],\n",
        "            'Origin':[1]})"
      ],
      "metadata": {
        "id": "nQXP-YpESPqg"
      },
      "execution_count": null,
      "outputs": []
    },
    {
      "cell_type": "code",
      "source": [
        "new_data"
      ],
      "metadata": {
        "colab": {
          "base_uri": "https://localhost:8080/",
          "height": 81
        },
        "id": "LTTBjwKsCjdv",
        "outputId": "bf1c5139-ccda-4706-9214-5e883785b1f4"
      },
      "execution_count": null,
      "outputs": [
        {
          "output_type": "execute_result",
          "data": {
            "text/plain": [
              "   Cylinders  Displacement  Horsepower  Weight  Acceleration  Model Year  \\\n",
              "0          8         302.0       140.0  3449.0          10.5          70   \n",
              "\n",
              "   Origin  \n",
              "0       1  "
            ],
            "text/html": [
              "\n",
              "  <div id=\"df-5a7a5885-3de9-436b-b3c7-fe33a3886503\">\n",
              "    <div class=\"colab-df-container\">\n",
              "      <div>\n",
              "<style scoped>\n",
              "    .dataframe tbody tr th:only-of-type {\n",
              "        vertical-align: middle;\n",
              "    }\n",
              "\n",
              "    .dataframe tbody tr th {\n",
              "        vertical-align: top;\n",
              "    }\n",
              "\n",
              "    .dataframe thead th {\n",
              "        text-align: right;\n",
              "    }\n",
              "</style>\n",
              "<table border=\"1\" class=\"dataframe\">\n",
              "  <thead>\n",
              "    <tr style=\"text-align: right;\">\n",
              "      <th></th>\n",
              "      <th>Cylinders</th>\n",
              "      <th>Displacement</th>\n",
              "      <th>Horsepower</th>\n",
              "      <th>Weight</th>\n",
              "      <th>Acceleration</th>\n",
              "      <th>Model Year</th>\n",
              "      <th>Origin</th>\n",
              "    </tr>\n",
              "  </thead>\n",
              "  <tbody>\n",
              "    <tr>\n",
              "      <th>0</th>\n",
              "      <td>8</td>\n",
              "      <td>302.0</td>\n",
              "      <td>140.0</td>\n",
              "      <td>3449.0</td>\n",
              "      <td>10.5</td>\n",
              "      <td>70</td>\n",
              "      <td>1</td>\n",
              "    </tr>\n",
              "  </tbody>\n",
              "</table>\n",
              "</div>\n",
              "      <button class=\"colab-df-convert\" onclick=\"convertToInteractive('df-5a7a5885-3de9-436b-b3c7-fe33a3886503')\"\n",
              "              title=\"Convert this dataframe to an interactive table.\"\n",
              "              style=\"display:none;\">\n",
              "        \n",
              "  <svg xmlns=\"http://www.w3.org/2000/svg\" height=\"24px\"viewBox=\"0 0 24 24\"\n",
              "       width=\"24px\">\n",
              "    <path d=\"M0 0h24v24H0V0z\" fill=\"none\"/>\n",
              "    <path d=\"M18.56 5.44l.94 2.06.94-2.06 2.06-.94-2.06-.94-.94-2.06-.94 2.06-2.06.94zm-11 1L8.5 8.5l.94-2.06 2.06-.94-2.06-.94L8.5 2.5l-.94 2.06-2.06.94zm10 10l.94 2.06.94-2.06 2.06-.94-2.06-.94-.94-2.06-.94 2.06-2.06.94z\"/><path d=\"M17.41 7.96l-1.37-1.37c-.4-.4-.92-.59-1.43-.59-.52 0-1.04.2-1.43.59L10.3 9.45l-7.72 7.72c-.78.78-.78 2.05 0 2.83L4 21.41c.39.39.9.59 1.41.59.51 0 1.02-.2 1.41-.59l7.78-7.78 2.81-2.81c.8-.78.8-2.07 0-2.86zM5.41 20L4 18.59l7.72-7.72 1.47 1.35L5.41 20z\"/>\n",
              "  </svg>\n",
              "      </button>\n",
              "      \n",
              "  <style>\n",
              "    .colab-df-container {\n",
              "      display:flex;\n",
              "      flex-wrap:wrap;\n",
              "      gap: 12px;\n",
              "    }\n",
              "\n",
              "    .colab-df-convert {\n",
              "      background-color: #E8F0FE;\n",
              "      border: none;\n",
              "      border-radius: 50%;\n",
              "      cursor: pointer;\n",
              "      display: none;\n",
              "      fill: #1967D2;\n",
              "      height: 32px;\n",
              "      padding: 0 0 0 0;\n",
              "      width: 32px;\n",
              "    }\n",
              "\n",
              "    .colab-df-convert:hover {\n",
              "      background-color: #E2EBFA;\n",
              "      box-shadow: 0px 1px 2px rgba(60, 64, 67, 0.3), 0px 1px 3px 1px rgba(60, 64, 67, 0.15);\n",
              "      fill: #174EA6;\n",
              "    }\n",
              "\n",
              "    [theme=dark] .colab-df-convert {\n",
              "      background-color: #3B4455;\n",
              "      fill: #D2E3FC;\n",
              "    }\n",
              "\n",
              "    [theme=dark] .colab-df-convert:hover {\n",
              "      background-color: #434B5C;\n",
              "      box-shadow: 0px 1px 3px 1px rgba(0, 0, 0, 0.15);\n",
              "      filter: drop-shadow(0px 1px 2px rgba(0, 0, 0, 0.3));\n",
              "      fill: #FFFFFF;\n",
              "    }\n",
              "  </style>\n",
              "\n",
              "      <script>\n",
              "        const buttonEl =\n",
              "          document.querySelector('#df-5a7a5885-3de9-436b-b3c7-fe33a3886503 button.colab-df-convert');\n",
              "        buttonEl.style.display =\n",
              "          google.colab.kernel.accessAllowed ? 'block' : 'none';\n",
              "\n",
              "        async function convertToInteractive(key) {\n",
              "          const element = document.querySelector('#df-5a7a5885-3de9-436b-b3c7-fe33a3886503');\n",
              "          const dataTable =\n",
              "            await google.colab.kernel.invokeFunction('convertToInteractive',\n",
              "                                                     [key], {});\n",
              "          if (!dataTable) return;\n",
              "\n",
              "          const docLinkHtml = 'Like what you see? Visit the ' +\n",
              "            '<a target=\"_blank\" href=https://colab.research.google.com/notebooks/data_table.ipynb>data table notebook</a>'\n",
              "            + ' to learn more about interactive tables.';\n",
              "          element.innerHTML = '';\n",
              "          dataTable['output_type'] = 'display_data';\n",
              "          await google.colab.output.renderOutput(dataTable, element);\n",
              "          const docLink = document.createElement('div');\n",
              "          docLink.innerHTML = docLinkHtml;\n",
              "          element.appendChild(docLink);\n",
              "        }\n",
              "      </script>\n",
              "    </div>\n",
              "  </div>\n",
              "  "
            ]
          },
          "metadata": {},
          "execution_count": 99
        }
      ]
    },
    {
      "cell_type": "code",
      "source": [
        "data1 = mn.transform(new_data)"
      ],
      "metadata": {
        "id": "0gurZ1guHeUZ"
      },
      "execution_count": null,
      "outputs": []
    },
    {
      "cell_type": "code",
      "source": [
        "data1"
      ],
      "metadata": {
        "colab": {
          "base_uri": "https://localhost:8080/"
        },
        "id": "LWXsyn2lHo4V",
        "outputId": "f17d3668-920a-4782-a15b-4fc3f9695380"
      },
      "execution_count": null,
      "outputs": [
        {
          "output_type": "execute_result",
          "data": {
            "text/plain": [
              "array([[1.   , 0.603, 0.511, 0.549, 0.149, 0.   , 0.   ]])"
            ]
          },
          "metadata": {},
          "execution_count": 104
        }
      ]
    },
    {
      "cell_type": "code",
      "source": [
        "bestmodel.predict(data1)"
      ],
      "metadata": {
        "colab": {
          "base_uri": "https://localhost:8080/"
        },
        "id": "YqMJUZwWEXVp",
        "outputId": "e0b82c37-6e6f-4bfd-d2c4-e810b89d8c3e"
      },
      "execution_count": null,
      "outputs": [
        {
          "output_type": "execute_result",
          "data": {
            "text/plain": [
              "array([[6.002]], dtype=float32)"
            ]
          },
          "metadata": {},
          "execution_count": 105
        }
      ]
    }
  ],
  "metadata": {
    "colab": {
      "provenance": [],
      "authorship_tag": "ABX9TyNC0sjmACw9d1e0SpaEQBja",
      "include_colab_link": true
    },
    "kernelspec": {
      "display_name": "Python 3",
      "name": "python3"
    },
    "language_info": {
      "name": "python"
    }
  },
  "nbformat": 4,
  "nbformat_minor": 0
}